{
 "cells": [
  {
   "cell_type": "markdown",
   "id": "6fa4b170",
   "metadata": {},
   "source": [
    "# Machine Learning exercise 1: Credit Card Fraud Detection\n",
    "2021 08 13  Maarten Pennings  Textual improvements  \n",
    "2021 06 20  Maarten Pennings  Added \"Random\" seeds at the start of this notebook  \n",
    "2021 06 12  Maarten Pennings  Created\n",
    "\n",
    "I followed \"Using Python to Implement a Complete Machine Learning Flow\", a Doulos Webinar by John Aynsley.\n",
    "\n",
    "With this notebook, I try to replicate John's first example.\n"
   ]
  },
  {
   "cell_type": "markdown",
   "id": "5a8c7d5b",
   "metadata": {},
   "source": [
    "## The project directory, with a Jupyter notebook\n",
    "Somehow I got the impression the best way to follow John was to run the Python exercises in a _Jupyter notebook_.\n",
    "I do not believe he mentioned that in the training, so I don't know where I got that from.\n",
    "\n",
    "It is my first time for using Jupyter. I was surprised how simple that is; basically `pip install jupyter` if you already have Python.\n",
    "\n",
    "I typically use a _virtual environment_ in my Python projects, and I use fixed structure to organize that.\n",
    "There is a _project_ directory with two files `setup.bat` and `requirements.txt`.\n",
    "\n",
    "The `setup.bat` takes care for creating (and updating if it exists) up the virtual environment (a built-in feature of Python).\n",
    "\n",
    "```bat\n",
    "python.exe -m venv env\n",
    "CALL env\\Scripts\\activate.bat\n",
    "python -m pip install --upgrade pip setuptools wheel\n",
    "IF EXIST requirements.txt (\n",
    "   pip install -r requirements.txt\n",
    ")\n",
    "```\n",
    "\n",
    "The `requirements.txt` (used in `setup.bat`) lists all packages needed in the project. \n",
    "So, to use Jupyter, it must list `jupyter`.\n",
    "I already added the packages (like tensoflow) we need later in Jupyter for da