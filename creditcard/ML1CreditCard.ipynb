{
 "cells": [
  {
   "cell_type": "markdown",
   "id": "6fa4b170",
   "metadata": {},
   "source": [
    "# Machine Learning exercise 1: Credit Card Fraud Detection\n",
    "2021 08 13  Maarten Pennings  Textual improvements  \n",
    "2021 06 20  Maarten Pennings  Added \"Random\" seeds at the start of this notebook  \n",
    "2021 06 12  Maarten Pennings  Created\n",
    "\n",
    "I followed \"Using Python to Implement a Complete Machine Learning Flow