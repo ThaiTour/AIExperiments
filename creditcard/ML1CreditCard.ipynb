{
 "cells": [
  {
   "cell_type": "markdown",
   "id": "6fa4b170",
   "metadata": {},
   "source": [
    "# Machine Learning exercise 1: Credit Card Fraud Detection\n",
    "2021 08 13  Maarten Pennings  Textual improvements  \n",
    "2021 06 20  Maarten Pennings  Added \"Random\" seeds at the start of this notebook  \n",
    "2021 06 12  Maarten Pennings  Created\n",
    "\n",
    "I followed \"Using Python to Implement a Complete Machine Learning Flow\", a Doulos Webinar by John Aynsley.\n",
    "\n",
    "With this notebook, I try to replicate John's first example.\n"
   ]
  },
  {
   "cell_type": "markdown",
   "id": "5a8c7d5b",
   "metadata": {},
   "source": [
    "## The project directory, with a Jupyter notebook\n",
    "Somehow I got the impression the best way to follow John was to run the Python exercises in a _Jupyter notebook_.\n",
    "I do not believe he mentioned that in the training, so I don't know where I got that from.\n",
    "\n",
    "It is my first time for using Jupyter. I was surprised how simple that is; basically `pip install jupyter` if you already have Python.\n",
    "\n",
    "I typically use a _virtual environment_ in my Python projects, and I use fixed structure to organize that.\n",
    "There is a _project_ directory with two files `setup.bat` and `requirements.txt`.\n",
    "\n",
    "The `setup.bat` takes care for creating (and updating if it exists) up the virtual environment (a built-in feature of Python).\n",
    "\n",
    "```bat\n",
    "python.exe -m venv env\n",
    "CALL env\\Scripts\\activate.bat\n",
    "python -m pip install --upgrade pip setuptools wheel\n",
    "IF EXIST requirements.txt (\n",
    "   pip install -r requirements.txt\n",
    ")\n",
    "```\n",
    "\n",
    "The `requirements.txt` (used in `setup.bat`) lists all packages needed in the project. \n",
    "So, to use Jupyter, it must list `jupyter`.\n",
    "I already added the packages (like tensoflow) we need later in Jupyter for data analysis and training.\n",
    "\n",
    "```text\n",
    "numpy\n",
    "scipy\n",
    "matplotlib\n",
    "pandas\n",
    "sklearn\n",
    "tensorflow\n",
    "jupyter\n",
    "```\n",
    "\n",
    "There are typically other files: those needed for the application developed in the project. In this case we need `ML1CreditCard.ipynb` (the notebook) and the images (png files) into the _project_ directory."
   ]
  },
  {
   "cell_type": "markdown",
   "id": "d273b57d",
   "metadata": {},
   "source": [
    "What you should know is that Jupyter has a client server model. The client is a webpage, the server runs in Python.\n",
    "To start the server and the client, just run `jupyter notebook` after running `setup`. Part of my virtual environment structure is one extra file `run.bat`, which runs the application being developed. In this case that would be the one-liner `jupyter notebook`.\n",
    "\n",
    "Once jupyter is started, in the client, open the notebook `ML1CreditCard.ipynb` from the  _project_ directory."
   ]
  },
  {
   "cell_type": "markdown",
   "id": "7987df00",
   "metadata": {},
   "source": [
    "## Random\n",
    "\n",
    "I struggled a lot with getting the code in the notebook to run reproducible (so that the notebook text can refer to values computed by functions).\n",
    "In the end, I found this [page](https://deeplizard.com/learn/video/HcW0DeWRggs), listing the random seeds to set.\n",
    "You can forget about this, it is only need when you want your notebook to have the same numbers each time you \"restart\"."
   ]
  },
  {
   "cell_type": "code",
   "execution_count": 1,
   "id": "b4c03f3a",
   "metadata": {},
   "outputs": [],
   "source": [
    "import os\n",
    "import numpy as np\n",
    "import tensorflow as tf\n",
    "import random as rn\n",
    "\n",
    "os.environ['PYTHONHASHSEED'] = '0' # necessary for any reproducibility for certain hash based algorithms\n",
    "os.environ['CUDA_VISIBLE_DEVICES'] = '' # avoid the non-determinism by forcing the CPU io multiple GPU cores\n",
    "\n",
    "np.random.seed(42) # any number will do as seed\n",
    "rn.seed(42) # any number will do as seed\n",
    "tf.random.set_seed(89) # any number will do as seed"
   ]
  },
  {
   "cell_type": "markdown",
   "id": "141a00e3",
   "metadata": {},
   "source": [
    "## Getting and probing the credit card data\n",
    "\n",
    "Download [Anonymized credit card transactions labeled as fraudulent or genuine](https://www.kaggle.com/mlg-ulb/creditcardfraud) from Kaggle. You get a single file `creditcard.csv` of 144 MB. Put it in the _project_ directory.\n",
    "\n",
    "Let's use Pandas to load the CSV file and inspect the first 5 rows.\n",
    "Pandas is a Python module for data manipulation; it offers support for manipulating tables (\"data frames\").\n",
    "Try shift-tab on e.g.`read_csv` to get its docstring."
   ]
  },
  {
   "cell_type": "code",
   "execution_count": 2,
   "id": "0d9b3002",
   "metadata": {},
   "outputs": [
    {
     "data": {
      "text/html": [
       "<div>\n",
       "<style scoped>\n",
       "    .dataframe tbody tr th:only-of-type {\n",
       "        vertical-align: middle;\n",
       "    }\n",
       "\n",
       "    .dataframe tbody tr th {\n",
       "        vertical-align: top;\n",
       "    }\n",
       "\n",
       "    .dataframe thead th {\n",
       "        text-align: right;\n",
       "    }\n",
       "</style>\n",
       "<table border=\"1\" class=\"dataframe\">\n",
       "  <thead>\n",
       "    <tr style=\"text-align: right;\">\n",
       "      <th></th>\n",
       "      <th>Time</th>\n",
       "      <th>V1</th>\n",
       "      <th>V2</th>\n",
       "      <th>V3</th>\n",
       "      <th>V4</th>\n",
       "      <th>V5</th>\n",
       "      <th>V6</th>\n",
       "      <th>V7</th>\n",
       "      <th>V8</th>\n",
       "      <th>V9</th>\n",
       "      <th>...</th>\n",
       "      <th>V21</th>\n",
       "      <th>V22</th>\n",
       "      <th>V23</th>\n",
       "      <th>V24</th>\n",
       "      <th>V25</th>\n",
       "      <th>V26</th>\n",
       "      <th>V27</th>\n",
       "      <th>V28</th>\n",
       "      <th>Amount</th>\n",
       "      <th>Class</th>\n",
       "    </tr>\n",
       "  </thead>\n",
       "  <tbody>\n",
       "    <tr>\n",
       "      <th>0</th>\n",
       "      <td>0.0</td>\n",
       "      <td>-1.359807</td>\n",
       "      <td>-0.072781</td>\n",
       "      <td>2.536347</td>\n",
       "      <td>1.378155</td>\n",
       "      <td>-0.338321</td>\n",
       "      <td>0.462388</td>\n",
       "      <td>0.239599</td>\n",
       "      <td>0.098698</td>\n",
       "      <td>0.363787</td>\n",
       "      <td>...</td>\n",
       "      <td>-0.018307</td>\n",
       "      <td>0.277838</td>\n",
       "      <td>-0.110474</td>\n",
       "      <td>0.066928</td>\n",
       "      <td>0.128539</td>\n",
       "      <td>-0.189115</td>\n",
       "      <td>0.133558</td>\n",
       "      <td>-0.021053</td>\n",
       "      <td>149.62</td>\n",
       "      <td>0</td>\n",
       "    </tr>\n",
       "    <tr>\n",
       "      <th>1</th>\n",
       "      <td>0.0</td>\n",
       "      <td>1.191857</td>\n",
       "      <td>0.266151</td>\n",
       "      <td>0.166480</td>\n",
       "      <td>0.448154</td>\n",
       "      <td>0.060018</td>\n",
       "      <td>-0.082361</td>\n",
       "      <td>-0.078803</td>\n",
       "      <td>0.085102</td>\n",
       "      <td>-0.255425</td>\n",
       "      <td>...</td>\n",
       "      <td>-0.225775</td>\n",
       "      <td>-0.638672</td>\n",
       "      <td>0.101288</td>\n",
       "      <td>-0.339846</td>\n",
       "      <td>0.167170</td>\n",
       "      <td>0.125895</td>\n",
       "      <td>-0.008983</td>\n",
       "      <td>0.014724</td>\n",
       "      <td>2.69</td>\n",
       "      <td>0</td>\n",
       "    </tr>\n",
       "    <tr>\n",
       "      <th>2</th>\n",
       "      <td>1.0</td>\n",
       "      <td>-1.358354</td>\n",
       "      <td>-1.340163</td>\n",
       "      <td>1.773209</td>\n",
       "      <td>0.379780</td>\n",
       "      <td>-0.503198</td>\n",
       "      <td>1.800499</td>\n",
       "      <td>0.791461</td>\n",
       "      <td>0.247676</td>\n",
       "      <td>-1.514654</td>\n",
       "      <td>...</td>\n",
       "      <td>0.247998</td>\n",
       "      <td>0.771679</td>\n",
       "      <td>0.909412</td>\n",
       "      <td>-0.689281</td>\n",
       "      <td>-0.327642</td>\n",
       "      <td>-0.139097</td>\n",
       "      <td>-0.055353</td>\n",
       "      <td>-0.059752</td>\n",
       "      <td>378.66</td>\n",
       "      <td>0</td>\n",
       "    </tr>\n",
       "    <tr>\n",
       "      <th>3</th>\n",
       "      <td>1.0</td>\n",
       "      <td>-0.966272</td>\n",
       "      <td>-0.185226</td>\n",
       "      <td>1.792993</td>\n",
       "      <td>-0.863291</td>\n",
       "      <td>-0.010309</td>\n",
       "      <td>1.247203</td>\n",
       "      <td>0.237609</td>\n",
       "      <td>0.377436</td>\n",
       "      <td>-1.387024</td>\n",
       "      <td>...</td>\n",
       "      <td>-0.108300</td>\n",
       "      <td>0.005274</td>\n",
       "      <td>-0.190321</td>\n",
       "      <td>-1.175575</td>\n",
       "      <td>0.647376</td>\n",
       "      <td>-0.221929</td>\n",
       "      <td>0.062723</td>\n",
       "      <td>0.061458</td>\n",
       "      <td>123.50</td>\n",
       "      <td>0</td>\n",
       "    </tr>\n",
       "    <tr>\n",
       "      <th>4</th>\n",
       "      <td>2.0</td>\n",
       "      <td>-1.158233</td>\n",
       "      <td>0.877737</td>\n",
       "      <td>1.548718</td>\n",
       "      <td>0.403034</td>\n",
       "      <td>-0.407193</td>\n",
       "      <td>0.095921</td>\n",
       "      <td>0.592941</td>\n",
       "      <td>-0.270533</td>\n",
       "      <td>0.817739</td>\n",
       "      <td>...</td>\n",
       "      <td>-0.009431</td>\n",
       "      <td>0.798278</td>\n",
       "      <td>-0.137458</td>\n",
       "      <td>0.141267</td>\n",
       "      <td>-0.206010</td>\n",
       "      <td>0.502292</td>\n",
       "      <td>0.219422</td>\n",
       "      <td>0.215153</td>\n",
       "      <td>69.99</td>\n",
       "      <td>0</td>\n",
       "    </tr>\n",
       "  </tbody>\n",
       "</table>\n",
       "<p>5 rows × 31 columns</p>\n",
       "</div>"
      ],
      "text/plain": [
       "   Time        V1        V2        V3        V4        V5        V6        V7  \\\n",
       "0   0.0 -1.359807 -0.072781  2.536347  1.378155 -0.338321  0.462388  0.239599   \n",
       "1   0.0  1.191857  0.266151  0.166480  0.448154  0.060018 -0.082361 -0.078803   \n",
       "2   1.0 -1.358354 -1.340163  1.773209  0.379780 -0.503198  1.800499  0.791461   \n",
       "3   1.0 -0.966272 -0.185226  1.792993 -0.863291 -0.010309  1.247203  0.237609   \n",
       "4   2.0 -1.158233  0.877737  1.548718  0.403034 -0.407193  0.095921  0.592941   \n",
       "\n",
       "         V8        V9  ...       V21       V22       V23       V24       V25  \\\n",
       "0  0.098698  0.363787  ... -0.018307  0.277838 -0.110474  0.066928  0.128539   \n",
       "1  0.085102 -0.255425  ... -0.225775 -0.638672  0.101288 -0.339846  0.167170   \n",
       "2  0.247676 -1.514654  ...  0.247998  0.771679  0.909412 -0.689281 -0.327642   \n",
       "3  0.377436 -1.387024  ... -0.108300  0.005274 -0.190321 -1.175575  0.647376   \n",
       "4 -0.270533  0.817739  ... -0.009431  0.798278 -0.137458  0.141267 -0.206010   \n",
       "\n",
       "        V26       V27       V28  Amount  Class  \n",
       "0 -0.189115  0.133558 -0.021053  149.62      0  \n",
       "1  0.125895 -0.008983  0.014724    2.69      0  \n",
       "2 -0.139097 -0.055353 -0.059752  378.66      0  \n",
       "3 -0.221929  0.062723  0.061458  123.50      0  \n",
       "4  0.502292  0.219422  0.215153   69.99      0  \n",
       "\n",
       "[5 rows x 31 columns]"
      ]
     },
     "execution_count": 2,
     "metadata": {},
     "output_type": "execute_result"
    }
   ],
   "source": [
    "import pandas as pd\n",
    "df = pd.read_csv(\"creditcard.csv\")\n",
    "df.head()"
   ]
  },
  {
   "cell_type": "markdown",
   "id": "1b5eea69",
   "metadata": {},
   "source": [
    "When we use scrollbar, we see that there are 31 _columns_ (attributes of the credit card transactions).\n",
    "The first is the `Time` column, presumably some time stamp (however, note the repeat in row 0 and 1 and row 2 and 3).\n",
    "Then there are 28 anonymous attributes (columns `V1` to `V28`). \n",
    "The last two columns are `Amount` and `Class`; the amount paid with the credit card and the classification: 0 for a genuine and 1 for a fraudulent transaction. The `Class` colums acts as the so-called _ground truth_ for that record.\n",
    "\n",
    "Concludingly, we have 30 \"input\" columns (`Time`, `V1`, ... `V28`, `Amount`) and 1 \"output\" column `Class`.\n",
    "\n",
    "Let's see how many transaction records we have."
   ]
  },
  {
   "cell_type": "code",
   "execution_count": 3,
   "id": "3f7607be",
   "metadata": {},
   "outputs": [
    {
     "data": {
      "text/plain": [
       "284807"
      ]
     },
     "execution_count": 3,
     "metadata": {},
     "output_type": "execute_result"
    }
   ],
   "source": [
    "len(df)"
   ]
  },
  {
   "cell_type": "code",
   "execution_count": 4,
   "id": "5c7e3e64",
   "metadata": {},
   "outputs": [
    {
     "data": {
      "text/html": [
       "<div>\n",
       "<style scoped>\n",
       "    .dataframe tbody tr th:only-of-type {\n",
       "        vertical-align: middle;\n",
       "    }\n",
       "\n",
       "    .dataframe tbody tr th {\n",
       "        vertical-align: top;\n",
       "    }\n",
       "\n",
       "    .dataframe thead th {\n",
       "        text-align: right;\n",
       "    }\n",
       "</style>\n",
       "<table border=\"1\" class=\"dataframe\">\n",
       "  <thead>\n",
       "    <tr style=\"text-align: right;\">\n",
       "      <th></th>\n",
       "      <th>Time</th>\n",
       "      <th>V1</th>\n",
       "      <th>V2</th>\n",
       "      <th>V3</th>\n",
       "      <th>V4</th>\n",
       "      <th>V5</th>\n",
       "      <th>V6</th>\n",
       "      <th>V7</th>\n",
       "      <th>V8</th>\n",
       "      <th>V9</th>\n",
       "      <th>...</th>\n",
       "      <th>V21</th>\n",
       "      <th>V22</th>\n",
       "      <th>V23</th>\n",
       "      <th>V24</th>\n",
       "      <th>V25</th>\n",
       "      <th>V26</th>\n",
       "      <th>V27</th>\n",
       "      <th>V28</th>\n",
       "      <th>Amount</th>\n",
       "      <th>Class</th>\n",
       "    </tr>\n",
       "  </thead>\n",
       "  <tbody>\n",
       "    <tr>\n",
       "      <th>284802</th>\n",
       "      <td>172786.0</td>\n",
       "      <td>-11.881118</td>\n",
       "      <td>10.071785</td>\n",
       "      <td>-9.834783</td>\n",
       "      <td>-2.066656</td>\n",
       "      <td>-5.364473</td>\n",
       "      <td>-2.606837</td>\n",
       "      <td>-4.918215</td>\n",
       "      <td>7.305334</td>\n",
       "      <td>1.914428</td>\n",
       "      <td>...</td>\n",
       "      <td>0.213454</td>\n",
       "      <td>0.111864</td>\n",
       "      <td>1.014480</td>\n",
       "      <td>-0.509348</td>\n",
       "      <td>1.436807</td>\n",
       "      <td>0.250034</td>\n",
       "      <td>0.943651</td>\n",
       "      <td>0.823731</td>\n",
       "      <td>0.77</td>\n",
       "      <td>0</td>\n",
       "    </tr>\n",
       "    <tr>\n",
       "      <th>284803</th>\n",
       "      <td>172787.0</td>\n",
       "      <td>-0.732789</td>\n",
       "      <td>-0.055080</td>\n",
       "      <td>2.035030</td>\n",
       "      <td>-0.738589</td>\n",
       "      <td>0.868229</td>\n",
       "      <td>1.058415</td>\n",
       "      <td>0.024330</td>\n",
       "      <td>0.294869</td>\n",
       "      <td>0.584800</td>\n",
       "      <td>...</td>\n",
       "      <td>0.214205</td>\n",
       "      <td>0.924384</td>\n",
       "      <td>0.012463</td>\n",
       "      <td>-1.016226</td>\n",
       "      <td>-0.606624</td>\n",
       "      <td>-0.395255</td>\n",
       "      <td>0.068472</td>\n",
       "      <td>-0.053527</td>\n",
       "      <td>24.79</td>\n",
       "      <td>0</td>\n",
       "    </tr>\n",
       "    <tr>\n",
       "      <th>284804</th>\n",
       "      <td>172788.0</td>\n",
       "      <td>1.919565</td>\n",
       "      <td>-0.301254</td>\n",
       "      <td>-3.249640</td>\n",
       "      <td>-0.557828</td>\n",
       "      <td>2.630515</td>\n",
       "      <td>3.031260</td>\n",
       "      <td>-0.296827</td>\n",
       "      <td>0.708417</td>\n",
       "      <td>0.432454</td>\n",
       "      <td>...</td>\n",
       "      <td>0.232045</td>\n",
       "      <td>0.578229</td>\n",
       "      <td>-0.037501</td>\n",
       "      <td>0.640134</td>\n",
       "      <td>0.265745</td>\n",
       "      <td>-0.087371</td>\n",
       "      <td>0.004455</td>\n",
       "      <td>-0.026561</td>\n",
       "      <td>67.88</td>\n",
       "      <td>0</td>\n",
       "    </tr>\n",
       "    <tr>\n",
       "      <th>284805</th>\n",
       "      <td>172788.0</td>\n",
       "      <td>-0.240440</td>\n",
       "      <td>0.530483</td>\n",
       "      <td>0.702510</td>\n",
       "      <td>0.689799</td>\n",
       "      <td>-0.377961</td>\n",
       "      <td>0.623708</td>\n",
       "      <td>-0.686180</td>\n",
       "      <td>0.679145</td>\n",
       "      <td>0.392087</td>\n",
       "      <td>...</td>\n",
       "      <td>0.265245</td>\n",
       "      <td>0.800049</td>\n",
       "      <td>-0.163298</td>\n",
       "      <td>0.123205</td>\n",
       "      <td>-0.569159</td>\n",
       "      <td>0.546668</td>\n",
       "      <td>0.108821</td>\n",
       "      <td>0.104533</td>\n",
       "      <td>10.00</td>\n",
       "      <td>0</td>\n",
       "    </tr>\n",
       "    <tr>\n",
       "      <th>284806</th>\n",
       "      <td>172792.0</td>\n",
       "      <td>-0.533413</td>\n",
       "      <td>-0.189733</td>\n",
       "      <td>0.703337</td>\n",
       "      <td>-0.506271</td>\n",
       "      <td>-0.012546</td>\n",
       "      <td>-0.649617</td>\n",
       "      <td>1.577006</td>\n",
       "      <td>-0.414650</td>\n",
       "      <td>0.486180</td>\n",
       "      <td>...</td>\n",
       "      <td>0.261057</td>\n",
       "      <td>0.643078</td>\n",
       "      <td>0.376777</td>\n",
       "      <td>0.008797</td>\n",
       "      <td>-0.473649</td>\n",
       "      <td>-0.818267</td>\n",
       "      <td>-0.002415</td>\n",
       "      <td>0.013649</td>\n",
       "      <td>217.00</td>\n",
       "      <td>0</td>\n",
       "    </tr>\n",
       "  </tbody>\n",
       "</table>\n",
       "<p>5 rows × 31 columns</p>\n",
       "</div>"
      ],
      "text/plain": [
       "            Time         V1         V2        V3        V4        V5  \\\n",
       "284802  172786.0 -11.881118  10.071785 -9.834783 -2.066656 -5.364473   \n",
       "284803  172787.0  -0.732789  -0.055080  2.035030 -0.738589  0.868229   \n",
       "284804  172788.0   1.919565  -0.301254 -3.249640 -0.557828  2.630515   \n",
       "284805  172788.0  -0.240440   0.530483  0.702510  0.689799 -0.377961   \n",
       "284806  172792.0  -0.533413  -0.189733  0.703337 -0.506271 -0.012546   \n",
       "\n",
       "              V6        V7        V8        V9  ...       V21       V22  \\\n",
       "284802 -2.606837 -4.918215  7.305334  1.914428  ...  0.213454  0.111864   \n",
       "284803  1.058415  0.024330  0.294869  0.584800  ...  0.214205  0.924384   \n",
       "284804  3.031260 -0.296827  0.708417  0.432454  ...  0.232045  0.578229   \n",
       "284805  0.623708 -0.686180  0.679145  0.392087  ...  0.265245  0.800049   \n",
       "284806 -0.649617  1.577006 -0.414650  0.486180  ...  0.261057  0.643078   \n",
       "\n",
       "             V23       V24       V25       V26       V27       V28  Amount  \\\n",
       "284802  1.014480 -0.509348  1.436807  0.250034  0.943651  0.823731    0.77   \n",
       "284803  0.012463 -1.016226 -0.606624 -0.395255  0.068472 -0.053527   24.79   \n",
       "284804 -0.037501  0.640134  0.265745 -0.087371  0.004455 -0.026561   67.88   \n",
       "284805 -0.163298  0.123205 -0.569159  0.546668  0.108821  0.104533   10.00   \n",
       "284806  0.376777  0.008797 -0.473649 -0.818267 -0.002415  0.013649  217.00   \n",
       "\n",
       "        Class  \n",
       "284802      0  \n",
       "284803      0  \n",
       "284804      0  \n",
       "284805      0  \n",
       "284806      0  \n",
       "\n",
       "[5 rows x 31 columns]"
      ]
     },
     "execution_count": 4,
     "metadata": {},
     "output_type": "execute_result"
    }
   ],
   "source": [
    "df.tail()"
   ]
  },
  {
   "cell_type": "markdown",
   "id": "dec59027",
   "metadata": {},
   "source": [
    "The number of records reported by the two methods is consistent: 284807. \n",
    "\n",
    "Let's plot the `Time` column. Note that there are two ways to get a column in Pandas: an explicit lookup `df[\"Time\"].plot()`, or the shorthand `df.Time.plot()`. \n",
    "\n",
    "If the last line of a Jupyter cell is an expression (e.g. the name of a variable), Jupyter will display that variable without the need for a print statement. A trailing `;` suppresses that print."
   ]
  },
  {
   "cell_type": "code",
   "execution_count": 5,
   "id": "77d1eca4",
   "metadata": {},
   "outputs": [
    {
     "data": {
      "image/png": "iVBORw0KGgoAAAANSUhEUgAAAYoAAAD4CAYAAADy46FuAAAAOXRFWHRTb2Z0d2FyZQBNYXRwbG90bGliIHZlcnNpb24zLjQuMiwgaHR0cHM6Ly9tYXRwbG90bGliLm9yZy8rg+JYAAAACXBIWXMAAAsTAAALEwEAmpwYAAApiElEQVR4nO3deXxV5b3v8c8PwjzPhIQQhqAgyBQBJ6TYWtBWHKiiraC14lA97e0591bb3lNP6z2H1k5aFUGlDkcF68ixchyQQUXAIAiIDEkYkjAkjGHMtH/3j73Ss6EhQKa9s/N9v177tdd+1vQ87CRf1nqetZa5OyIiIqfSKNoVEBGR2KagEBGRSikoRESkUgoKERGplIJCREQqlRDtCtS0zp07e2pqarSrISJSr6xcuXKPu3epaF7cBUVqaioZGRnRroaISL1iZttONU+nnkREpFIKChERqZSCQkREKnXaoDCz2WaWb2brIsrmmtnq4LXVzFYH5almdixi3pMR64wws7Vmlmlmj5qZBeUdzex9M9scvHcIyi1YLtPM1pjZ8BpvvYiInNaZHFE8C4yPLHD3G919qLsPBV4DXo+YnVU+z93viiifAdwBpAWv8m3eDyxw9zRgQfAZYELEstOC9UVEpI6dNijcfQmwr6J5wVHBDcDLlW3DzBKBtu6+zMN3IXweuCaYPRF4Lph+7qTy5z1sGdA+2I6IiNSh6vZRXArsdvfNEWW9zWyVmS02s0uDsiQgN2KZ3KAMoJu77wymdwHdItbJOcU6JzCzaWaWYWYZBQUF1WiOiIicrLpBcRMnHk3sBFLcfRjwE+AlM2t7phsLjjbO+r7n7j7L3dPdPb1LlwqvFxERiVulZSH+/Z2v2HHgWK1sv8pBYWYJwHXA3PIydy9y973B9EogC+gP5AHJEasnB2UAu8tPKQXv+UF5HtDzFOuIiAhQVFrGfS+vYtaSbD7ckH/6FaqgOkcUXwc2uPvfTymZWRczaxxM9yHcEZ0dnFoqNLPRQb/GFOCtYLV5wNRgeupJ5VOC0U+jgYMRp6hERBq8nH1HueHJT5m/bhe/uGoA3xvdq1b2c9pbeJjZy8BYoLOZ5QK/dPdngMn8Yyf2GOBXZlYChIC73L28I/wewiOoWgDzgxfAdOAVM7sd2Ea4cxzgHeBKIBM4CtxWhfaJiMSlDzfs5sdzVuPAk98bwfhB3WttXxZvj0JNT0933etJROLVkaJSHvrbel5ekcOAxLbM/N4IUjq1rPZ2zWylu6dXNC/ubgooIhKvVucc4CdzV7Nl7xHuvKwP/+vr/WnepHGt71dBISIS4w4cLeZ3723kxeXb6damOS/9YDQX9u1UZ/tXUIiIxKiykPPaylym//cGDhwt5taLUvlf3+hP2+ZN6rQeCgoRkRhTFnLeX7+bP32wiQ27DjGiVwd+PXEUA3uc8WVpNUpBISISI9ydxZsKmD5/Axt2HSKlY0seu3kYVw1OJLiPalQoKEREoszdWbltPw+/u5HlW/bRq1NLHr1pGBMGdadJ4+g/DUJBISISJaGQ89763Ty6YDPrdxbSuXVT/u3q85g8sifNEmp/NNOZUlCIiNSxkrIQb67KY+aSbDLzD9OrU0t+fc0grh+eRMumsfdnOfZqJCISp0rKQvw1I5fHF2aSd+AY53ZvwyOTh3LV4EQSYuAU06koKEREallJWYg3Ps/j0Q83k7v/GEN7tuehawYx9pwuUe2kPlMKChGRWlJUWsZrK/N4YlEmufuPMSS5Hb+eWH8CopyCQkSkhh0vKeOl5duZuSSL3YVFDOnZnge/fR6XD+harwKinIJCRKSGFJeGeCUjh8c+zGRX4XFG9e7Iw5OGcGla53oZEOUUFCIi1VTeSf3nDzez8+Bxhqe05483Dq3T+zHVJgWFiEgVlZSF+K8vdvDIgs1s23uU4Snt+c3159f7I4iTKShERM7S8ZIy/royl6eWZLN931HO7d6Gp6ek19s+iNNRUIiInKHSshCvfZ7LowvC10EMSW7Hv34rnXHndqVRo/gLiHIKChGR09hdeJw5K3L468qcvw9z/c3153Nxv05xeQRxMgWFiMgprN9RyOxPtvDW6jxKQ87o3p3q9TDXqjptUJjZbOBbQL67DwrKHgTuAAqCxX7m7u8E8x4AbgfKgH9y93eD8vHAI0Bj4Gl3nx6U9wbmAJ2AlcAt7l5sZs2A54ERwF7gRnffWgNtFhE5pfJbfT/1UTafZO6leZNG3Dwyhe9f0ptenVpFu3pRcSZHFM8CjxH+ox3pj+7+u8gCMxsITAbOA3oAH5hZ/2D248A3gFzgMzOb5+7rgd8E25pjZk8SDpkZwft+d+9nZpOD5W6sQhtFRE6rLOR88NVunliYyRe5B+netjn3TziXyRf0pH3LptGuXlSdNijcfYmZpZ7h9iYCc9y9CNhiZpnAyGBeprtnA5jZHGCimX0FjANuDpZ5DniQcFBMDKYBXgUeMzNzdz/DuoiInFb5rb7LnyaX3KEF068bzHXDk2maELs36qtL1emjuNfMpgAZwD+7+34gCVgWsUxuUAaQc1L5KMKnmw64e2kFyyeVr+PupWZ2MFh+z8kVMbNpwDSAlJSUajRJRBqK4yVlvLkqj1lLssnec4RenVrWizu5RkNVg2IG8GvAg/ffA9+vqUqdLXefBcwCSE9P1xGHiJzSviPF/OeybTz/6Vb2HC5mcFI7/hw8TU4BUbEqBYW77y6fNrOngLeDj3lAz4hFk4MyTlG+F2hvZgnBUUXk8uXbyjWzBKBdsLyIyFlbv6OQ55Zu5c3VeRSVhhh7Thd+cEmfBjPEtTqqFBRmlujuO4OP1wLrgul5wEtm9gfCndlpwArAgLRghFMe4Q7vm93dzWwhMInwyKepwFsR25oKfBrM/1D9EyJyNtydRRsLmLE4ixVb9tGiSWOuHZbE9y/pTf9ubaJdvXrjTIbHvgyMBTqbWS7wS2CsmQ0lfOppK3AngLt/aWavAOuBUuCH7l4WbOde4F3Cw2Nnu/uXwS5+Cswxs4eAVcAzQfkzwAtBh/g+wuEiInJa5bfYeG7pVjLzD9O9bXN+cdUAJo1IbvAjmKrC4u0/6enp6Z6RkRHtaohIFBw4WswLn27juaD/4fzkdtx6USrfHtKDJup/qJSZrXT39Irm6cpsEan3tu89yozFmbz2eR7FQf/DnWP6MrpPR/U/1AAFhYjUS+7OZ1v38/RH2Xzw1W4SGjdi0ohkbhndiwGJbaNdvbiioBCReqW4NMSbq/N4bulWvtxRSPuWTbjrsr5MuTCV7u2aR7t6cUlBISL1wsFjJby0fDvPLt3C7sIizunWhv937SCuG5ZMi6aNo129uKagEJGYll1wmGeXbuXVlbkcLS7j4n6d+O2kIYyJs6fIxTIFhYjEHHdnadZenv4om0WbCkhoZFw9JInbLk5lUFK7aFevwVFQiEjMKC4N8eaqPJ75eAsbdx+ic+um3Dcuje+NTqFrG/U/RIuCQkSirvB4CXNWbOfZT7ay4+BxBia25bfXn8/VQ3vQvIn6H6JNQSEiUbPncBGzP97CC8u2ceh4KaP7dOT/XTuYsed0Uf9DDFFQiEidKzhUxKwlWfznsu0cLy1jwqDu3H1ZPwYnq/8hFikoRKTO7DlcxMzFWbywbBslZc7VQ3pw77h+9O3SOtpVk0ooKESk1u05XMTTH23hL59soaQsxDVDk7jv8jR6d26Yz6CubxQUIlJrdh48xqwl2by0fDvFZSEmDunBfZen6QiinlFQiEiNyy88zhOLsnhpxXZCIWfi0CTuHtuXfl0VEPWRgkJEasyBo8XMWJTFs0u3Uhpyrh+exD9dnkZyh5bRrppUg4JCRKpt/5FiZn2UzfNLt3K0pIxrh4YDIlV9EHFBQSEiVba78DhPf5TNi8u3c6ykjKsGJ3LfuDTO6a7HjMYTBYWInLXM/EM8tWQLb6zOoyzkfPv8RH74tX6k6TnUcUlBISJnbMWWfcxaksUHX+XTLKER3xmRzJ1j+pLSSX0Q8UxBISKVCoWcDzfk8+TiLDK27adjq6b86PI0plzYi06tm0W7elIHThsUZjYb+BaQ7+6DgrKHgW8DxUAWcJu7HzCzVOArYGOw+jJ3vytYZwTwLNACeAf4kbu7mXUE5gKpwFbgBnffb+EbvTwCXAkcBW51989roM0icgaKSst4a/UOnlqSzeb8wyS1b8GD3x7IjRek6EFBDUyjM1jmWWD8SWXvA4Pc/XxgE/BAxLwsdx8avO6KKJ8B3AGkBa/ybd4PLHD3NGBB8BlgQsSy04L1RaSWHTxawpOLsxj78CL+z6traNzI+NONQ1n8v8dy68W9FRIN0GmPKNx9SXCkEFn2XsTHZcCkyrZhZolAW3dfFnx+HrgGmA9MBMYGiz4HLAJ+GpQ/7+4OLDOz9maW6O47T9sqETlrOw4c46mPspn7WQ5Hi8sY3acj/3HdYC7rrzu5NnQ10UfxfcKnjsr1NrNVQCHwC3f/CEgCciOWyQ3KALpF/PHfBXQLppOAnArW+YegMLNphI86SElJqVZjRBqa7XuP8uSSLP6akYM7XD2kB3eM6cOAxLbRrprEiGoFhZn9HCgFXgyKdgIp7r436JN408zOO9PtBX0Wfrb1cPdZwCyA9PT0s15fpCFal3eQpz/KZt4XO0ho1Igb0nty99i+uopa/kGVg8LMbiXcyX15cHoIdy8CioLplWaWBfQH8oDkiNWTgzKA3eWnlIJTVPlBeR7Q8xTriEgVuDuLNhXw1JJslmbtpVXTxnz/4t784NI+dG+nR41KxaoUFGY2Hvg/wGXufjSivAuwz93LzKwP4Y7obHffZ2aFZjYaWA5MAf4crDYPmApMD97fiii/18zmAKOAg+qfEKmaY8VlvPZ5Li98uo2Nuw/RrW0zHphwLjeNSqFt8ybRrp7EuDMZHvsy4c7mzmaWC/yS8CinZsD7QSdX+TDYMcCvzKwECAF3ufu+YFP38D/DY+cHLwgHxCtmdjuwDbghKH+H8NDYTMLDY2+rTkNFGqLjJWX857JtzFySTcGhIgYmtuX33xnCt4f0oGnCmQx6FAELzhrFjfT0dM/IyIh2NUSiqqi0jFcycnnsw83sLizior6d+KfL0xjVu6NGMEmFzGylu6dXNE9XZovEmYUb8vm/b60jd/8xRvTqwCOThzG6T6doV0vqMQWFSJw4dLyEB+et57XPc+nXtTUv3D6SS/p11hGEVJuCQiQOrMs7yN0vriRv/zHuG9eP+8alqQ9CaoyCQqSem792Jz955Qs6tGzCX++6kBG9Oka7ShJnFBQi9djsj7fw67+tZ2jP9sy8ZQRd2+haCKl5CgqResjd+dMHm3lkwWauGNiNR28aRvMmulmf1A4FhUg94+5Mn7+BmUuy+c6IZKZffz6NG6nDWmqPgkKkHgmFnF/O+5IXlm3jltG9+Lerz6ORQkJqmYJCpB55+L2NvLBsG9PG9OGBCedq6KvUCY2fE6knFm8qYObiLG5IT1ZISJ1SUIjUA4eLSvn5G2vp1akV//dbAxUSUqd06kmkHvjN/A3sOHCMuXdeSBvd7VXqmI4oRGLc/iPFzM3I4cYLUrggVRfTSd1TUIjEuDdX51FcGmLKhb2iXRVpoBQUIjHujVV5DE5qp2dYS9QoKERi2O7C46zJPciVgxOjXRVpwBQUIjFsadYeAC5N6xzlmkhDpqAQiWGfZu2lXYsmOu0kUaWgEIlhS7P2Mqp3R93LSaLqjILCzGabWb6ZrYso62hm75vZ5uC9Q1BuZvaomWWa2RozGx6xztRg+c1mNjWifISZrQ3WedSCq4lOtQ+RhiBn31Fy9x/jor56jKlE15keUTwLjD+p7H5ggbunAQuCzwATgLTgNQ2YAeE/+sAvgVHASOCXEX/4ZwB3RKw3/jT7EIl7izcVAHBhX/VPSHSdUVC4+xJg30nFE4HngunngGsiyp/3sGVAezNLBL4JvO/u+9x9P/A+MD6Y19bdl7m7A8+ftK2K9iES19ydZz7eQpc2zejfrXW0qyMNXHX6KLq5+85gehfQLZhOAnIilssNyiorz62gvLJ9iMS1DbsOsWXPEe4Z21f3dZKoq5HO7OBIwGtiW1XZh5lNM7MMM8soKCiozWqI1IkPN+QDcNX5un5Coq86QbE7OG1E8J4flOcBPSOWSw7KKitPrqC8sn2cwN1nuXu6u6d36dKlGk0Sib7i0hBvr9nJud3b6BnYEhOqExTzgPKRS1OBtyLKpwSjn0YDB4PTR+8CV5hZh6AT+wrg3WBeoZmNDkY7TTlpWxXtQyRu/eyNtXy1s5DvjkqJdlVEgDO8zbiZvQyMBTqbWS7h0UvTgVfM7HZgG3BDsPg7wJVAJnAUuA3A3feZ2a+Bz4LlfuXu5R3k9xAeWdUCmB+8qGQfInFp0+5DvLoylykX9uKWC1OjXR0R4AyDwt1vOsWsyytY1oEfnmI7s4HZFZRnAIMqKN9b0T5E4tVTS7Jp3qQRP/56/2hXReTvdGW2SIzYe7iIt77YwaQRyXRs1TTa1RH5OwWFSIx4afl2iktD3HpRarSrInICBYVIDCguDfHCsm1cmtaZfl3bRLs6IidQUIjEgHfW7iT/UBHfv7h3tKsi8g8UFCJRVlIWYsaiLPp1bc1l/XUdkMQeBYVIlE2fv4GNuw/xL1f0p5FuJy4xSEEhEkULN+bzzMdb+N7oFMYP0u06JDYpKESiZP2OQu57aRUDEtvysysHRLs6IqekoBCJgr+t2cmkJ5fSsmljnpmaTsumZ3Ttq0hU6KdTpA65O08syuLhdzcyPKU9j393OIntWkS7WiKVUlCI1JFjxWX8/I21vL4qj4lDe/DbSefTLKFxtKslcloKCpFaVloWYm5GDrOWZLN931F+8o3+3Deunx5IJPWGgkKkFn2+fT8/e30tG3Yd4tzubXjxB6O4SM/AlnpGQSFSC3L2HeW3727k7TU76NamOTNvGcE3z+se7WqJVImCQqQG5R04xuMLM3k1I5dGjeDuy/pyz9f60bqZftWk/tJPr0gNyC44zIxFWby5Og/DmJSezH3j+mlEk8QFBYVIFYVCztKsvTy7dAsLNuTTLKERN49MYdplfUlqr4CQ+KGgEDkLpWUhFmzIZ/GmAj7J3MO2vUfp2Kop936tH1MuTKVLm2bRrqJIjVNQiJyB7XuP8kpGDnMzcig4VESbZgmMSO3Aj7+exoRBiTRvoushJH4pKEROofB4CfNW7+DF5dv5amchZjDunK5MHpnC187pQkJj3QFHGoYqB4WZnQPMjSjqA/wr0B64AygIyn/m7u8E6zwA3A6UAf/k7u8G5eOBR4DGwNPuPj0o7w3MAToBK4Fb3L24qnUWOR135/PtB3h5xXbeXrOD4yUhBiS25RdXDWDC4ET1PUiDVOWgcPeNwFAAM2sM5AFvALcBf3T330Uub2YDgcnAeUAP4AMz6x/Mfhz4BpALfGZm89x9PfCbYFtzzOxJwiEzo6p1FjmVA0eLeXVlLnM/y2Fz/mFaNW3MtcOSuPGCFIYkt9NV1NKg1dSpp8uBLHffVskv1ERgjrsXAVvMLBMYGczLdPdsADObA0w0s6+AccDNwTLPAQ+ioJAatCb3AM9+spW31+6kuDTE0J7tmX7dYL41pIeufRAJ1NRvwmTg5YjP95rZFCAD+Gd33w8kAcsilskNygByTiofRfh00wF3L61g+ROY2TRgGkBKSkr1WiJxr7g0xPx1O/nLJ1tZnXOA1s0SmHxBT24amcKAxLbRrp5IzKl2UJhZU+Bq4IGgaAbwa8CD998D36/ufirj7rOAWQDp6elem/uS+mvv4SJeXrGd5z7dRsGhInp3bsWD3x7IdSOSadu8SbSrJxKzauKIYgLwubvvBih/BzCzp4C3g495QM+I9ZKDMk5Rvhdob2YJwVFF5PIiZywz/xB/+WQrr67Mpag0xKVpnfntpPMZk9aFxnpGtchp1URQ3ETEaSczS3T3ncHHa4F1wfQ84CUz+wPhzuw0YAVgQFowwimP8Gmsm93dzWwhMInwyKepwFs1UF9pIFbnHODPCzazYEM+TRs34rrhSfzg0t7069om2lUTqVeqFRRm1orwaKU7I4p/a2ZDCZ962lo+z92/NLNXgPVAKfBDdy8LtnMv8C7h4bGz3f3LYFs/BeaY2UPAKuCZ6tRXGoa1uQf5w/sbWbixgPYtm/Djr6dxy+hedGqtq6ZFqsLc4+uUfnp6umdkZES7GhIFK7ft47EPM/8eEHdc2oepF6Vq9JLIGTCzle6eXtE8/QZJvRYKOYs25fP0R1tYmrWXTq2a8pNv9Oe2i1Npow5qkRqhoJB6ac/hIuav3cnLK3JYv7OQbm2b8fMrB3DzqBRa6QhCpEbpN0rqlfU7Cnl0wWbeW7+LkEP/bq15eNL5XDMsiSa695JIrVBQSL3w2dZ9PL4wk0UbC2jTLIFpY/oycWgPXSAnUgcUFBKz3J1PMvfyxKJMlmbtpWOrpvzLFf25ZXQq7Vqq/0GkrigoJOa4O4s2FfCH9zaxNu8gXdo04xdXDeC7o3rRoqme+yBS1xQUEjPcnSWb9/Dogs2s3Lafnh1b8JvrB3PNsCSaJSggRKJFQSFRVxZy3vtyFzMWZ7Em9yA92jXnoWsGcUN6T5omqINaJNoUFBI1JWUh3lq9gycWZpK95wipnVryH9cN5vrhyQoIkRiioJA6V1IW4pWMHGYsyiJ3/zEGJLblsZuHMWFQom7SJxKDFBRSZ4pLQ7y8YjuzlmSTd+AYQ3u259+uPo9x53bVE+REYpiCQmrdseIyXl6xnZlLsthdWER6rw48dM0gxp7TRQEhUg8oKKTWHCkq5cXl25i5OJu9R4oZ1bsjv/vOEC5N6xLtqonIWVBQSI0rKi1jzooc/vzhZvYcLubStM7c+7V+jOzdUUcQIvWQgkJqTGlZiFdX5vLIgs3sPHickb07MvOWcxjRq2O0qyYi1aCgkGoLhZy31+7kTx9sIrvgCMNS2vPwpCFc3K+TjiBE4oCCQqrsWHEZb6zK4+mPs8kuOEL/bq2ZecsIrhjYTQEhEkcUFHLW9h8p5i9Lt/L8p1s5cLSEwUntdB2ESBxTUMgZ23nwGLOWZDNnRQ7HSsr4xsBu3H5Jb0apk1okriko5LR2Fx7nsQ8zmfPZdtzh6iE9uGtsX/p3axPtqolIHah2UJjZVuAQUAaUunu6mXUE5gKpwFbgBnffb+H/dj4CXAkcBW5198+D7UwFfhFs9iF3fy4oHwE8C7QA3gF+5O5e3XrL6W3Zc4RnPs7mlYxcQiHnhgt6cs/YviR3aBntqolIHaqpI4qvufueiM/3AwvcfbqZ3R98/ikwAUgLXqOAGcCoIFh+CaQDDqw0s3nuvj9Y5g5gOeGgGA/Mr6F6SwXW7yhkxuIs/rZmBwmNGnHd8CTuGduPlE4KCJGGqLZOPU0ExgbTzwGLCAfFROD54IhgmZm1N7PEYNn33X0fgJm9D4w3s0VAW3dfFpQ/D1yDgqJWbNx1iIff3cAHX+XTqmlj7hjTh9sv6U3XNs2jXTURiaKaCAoH3jMzB2a6+yygm7vvDObvAroF00lATsS6uUFZZeW5FZSfwMymAdMAUlJSqtueBmfT7kM8vjCTeV/soHWzBD1uVEROUBNBcYm755lZV+B9M9sQOdPdPQiRWhOE0yyA9PR09V+coeyCw/zpg83815odtGjSmGlj+nDXmL50aNU02lUTkRhS7aBw97zgPd/M3gBGArvNLNHddwanlvKDxfOAnhGrJwdlefzPqary8kVBeXIFy0s15B04xh/f38Qbq/JoltCIO8f0ZdqYPnRUQIhIBaoVFGbWCmjk7oeC6SuAXwHzgKnA9OD9rWCVecC9ZjaHcGf2wSBM3gX+3cw6BMtdATzg7vvMrNDMRhPuzJ4C/Lk6dW7I8guP89jCTOasyAGDWy9K5a7L+tKlTbNoV01EYlh1jyi6AW8EF1slAC+5+3+b2WfAK2Z2O7ANuCFY/h3CQ2MzCQ+PvQ0gCIRfA58Fy/2qvGMbuIf/GR47H3Vkn7UjRaXM/ngLMxZnUVwaYtKIZO67PI2k9i2iXTURqQcs3i5JSE9P94yMjGhXIybsP1LMC8u28ZdPtrD/aAlXDOzGz64cQGrnVtGumojEGDNb6e7pFc3TldlxaNveIzzz8Rb+mpHLsZIyxp3blXvH9WN4SofTrywichIFRRxZm3uQJxdnMX/dTho3Mq4ZmsQPLu3DOd11qw0RqToFRT0XCjkLN+bz5OIsPtu6nzbNEpg2pi+3XZxKt7a6UE5Eqk9BUU8dKy7j1c9zmf3xFrbsOUKPds35xVUDuOGCnrRtrgvlRKTmKCjqmT2Hi3hx2Xae/3Qre48UMyS5HY/eNIwJg7rTpHGjaFdPROKQgqKeyNl3lKc/ymZuRg7HS0Jc1r8L94zty0g9C0JEapmCIsatyT3AzMXZf++gnjg0ibvH9qVvl9bRrpqINBAKihjk7nySuZeZS7L4aPMe2jRP4I4xfbj1olQS2+kiORGpWwqKGFIWcv573S5mLsliTe5BOrduxk/Hn8v3RqfQRh3UIhIlCooYUFIW4s1VeTyxKIste46Q2qkl068bzDXDkmjepHG0qyciDZyCIopKykK8/nkuTyzKYtveo5zXoy1PfHc43zyvO40bqYNaRGKDgiIKjhaX8vYXO/nzws3k7DvG4KR2zLplBN8Y2E0jmEQk5igo6tDholKe/WQLT320hYPHSjivR1v+cusgxp7TRQEhIjFLQVEHQiHn9VV5TJ//FXsOFzPu3K7ccWkfRvfRNRAiEvsUFLUsd/9R/vmVL1i+ZR/DUtrz1JR0hukuriJSjygoatHSrD3c8+LnlJY5068bzA3pPWmkTmoRqWcUFLXktZW5/PS1NaR2bsVTU9LprYcFiUg9paCoYe7O79/bxGMLM7m4XydmfG+E7uYqIvWagqIGuTsP/e0rnvl4C9cPT+bfrxtEswRdMCci9VuV70ttZj3NbKGZrTezL83sR0H5g2aWZ2arg9eVEes8YGaZZrbRzL4ZUT4+KMs0s/sjynub2fKgfK6ZNa1qfevCv78TDonbLk7ld985XyEhInGhOg8wKAX+2d0HAqOBH5rZwGDeH919aPB6ByCYNxk4DxgPPGFmjc2sMfA4MAEYCNwUsZ3fBNvqB+wHbq9GfWvVKxk5PPXRFqZe2It//dZADXsVkbhR5aBw953u/nkwfQj4CkiqZJWJwBx3L3L3LUAmMDJ4Zbp7trsXA3OAiRb+SzsOeDVY/zngmqrWtzblHzrOg/O+5MI+nfjXb5+nkBCRuFIjj0Qzs1RgGLA8KLrXzNaY2WwzK79oIAnIiVgtNyg7VXkn4IC7l55UXtH+p5lZhpllFBQU1ESTzsqjCzZTXBriP64brHs0iUjcqXZQmFlr4DXgx+5eCMwA+gJDgZ3A76u7j9Nx91nunu7u6V26dKnt3Z1gz+Ei5n6Ww40X9CRVQ2BFJA5Va9STmTUhHBIvuvvrAO6+O2L+U8Dbwcc8oGfE6slBGaco3wu0N7OE4KgicvmY8dzSrZSUObdd3DvaVRERqRXVGfVkwDPAV+7+h4jyxIjFrgXWBdPzgMlm1szMegNpwArgMyAtGOHUlHCH9zx3d2AhMClYfyrwVlXrWxsOHi3h2aVbGX9ed/p11aNJRSQ+VeeI4mLgFmCtma0Oyn5GeNTSUMCBrcCdAO7+pZm9AqwnPGLqh+5eBmBm9wLvAo2B2e7+ZbC9nwJzzOwhYBXhYIoZr32ey6Hjpdw7rl+0qyIiUmss/B/3+JGenu4ZGRm1vp9QyLny0Y9IaGy8fd+ltb4/EZHaZGYr3T29onk1MuqpIfqvNTvYsOsQUy9MjXZVRERqlYKiih5fmMmAxLZcPzw52lUREalVCooq2HXwOJt2H+b64Um6bbiIxD0FRRWsyT0AoAcQiUiDoKCognU7CmlkMDCxbbSrIiJS6xQUVbBq+376d2tDi6a6O6yIxD8FxVlal3eQjzP3MO7crtGuiohInVBQnKV5X+wgoZFx52V9o10VEZE6oaA4C6GQ887anVzYtzPtWujxpiLSMCgozsJLK7aTu/8Y1w2r7LEbIiLxRUFxhlbnHOAXb65jYGJbrhycePoVRETihILiDM1ZsZ0WTRoz587RNE3QP5uINBz6i3cGCo+X8PqqPCYO7UHb5uqbEJGGRUFxBuav3UlxaYgbL+h5+oVFROKMguI03J3ZH2/l3O5tGNqzfbSrIyJS5xQUp7E65wAbdx/ilgt7EX6on4hIw6KgOI3nP91Gy6aNuXpIj2hXRUQkKhQUldiwq5B5X+zgppEptFEntog0UAqKU8gqOMwtz6ygVdPG3D1Wt+sQkYZLQVGBLXuOcNOsZYRCzsvTRtO5dbNoV0lEJGpiPijMbLyZbTSzTDO7v7b3Vx4SZSHnpTtGc16PdrW9SxGRmBbTQWFmjYHHgQnAQOAmMxtYW/tbsWUf1z3xCcVlIV68YxTndG9TW7sSEak3YjoogJFAprtnu3sxMAeYWBs7+mtGDt99ehkdWjbl9bsv4tzuenqdiAjEflAkATkRn3ODshOY2TQzyzCzjIKCgirtqHfnVnx9QDfeuOdiUju3qlptRUTiUEK0K1AT3H0WMAsgPT3dq7KN9NSOpKd2rNF6iYjEg1g/osgDIm+wlByUiYhIHYn1oPgMSDOz3mbWFJgMzItynUREGpSYPvXk7qVmdi/wLtAYmO3uX0a5WiIiDUpMBwWAu78DvBPteoiINFSxfupJRESiTEEhIiKVUlCIiEilFBQiIlIpc6/S9Wkxy8wKgG1VXL0zsKcGqxMr4rFd8dgmiM92qU31Qy9371LRjLgLiuowswx3T492PWpaPLYrHtsE8dkutan+06knERGplIJCREQqpaA40axoV6CWxGO74rFNEJ/tUpvqOfVRiIhIpXREISIilVJQiIhIpRQUATMbb2YbzSzTzO6Pdn0qYmZbzWytma02s4ygrKOZvW9mm4P3DkG5mdmjQXvWmNnwiO1MDZbfbGZTI8pHBNvPDNa1WmjDbDPLN7N1EWW13oZT7aOW2/WgmeUF39dqM7syYt4DQR03mtk3I8or/DkMbrW/PCifG9x2HzNrFnzODOan1mCbeprZQjNbb2ZfmtmPgvJ6+31V0qZ6/V3VOndv8C/CtzDPAvoATYEvgIHRrlcF9dwKdD6p7LfA/cH0/cBvgukrgfmAAaOB5UF5RyA7eO8QTHcI5q0IlrVg3Qm10IYxwHBgXV224VT7qOV2PQj8SwXLDgx+xpoBvYOfvcaV/RwCrwCTg+kngbuD6XuAJ4PpycDcGmxTIjA8mG4DbArqXm+/r0raVK+/q9p+Rb0CsfACLgTejfj8APBAtOtVQT238o9BsRFIDKYTgY3B9EzgppOXA24CZkaUzwzKEoENEeUnLFfD7UjlxD+otd6GU+2jltt1qj8+J/x8EX7eyoWn+jkM/ojuARJO/nktXzeYTgiWs1r63t4CvhEv39dJbYqr76qmXzr1FJYE5ER8zg3KYo0D75nZSjObFpR1c/edwfQuoFswfao2VVaeW0F5XaiLNpxqH7Xt3uA0zOyI0ydn265OwAF3Lz2p/IRtBfMPBsvXqOA0yTBgOXHyfZ3UJoiT76o2KCjql0vcfTgwAfihmY2JnOnh/6rU6/HOddGGOvx3mgH0BYYCO4Hf18E+a5yZtQZeA37s7oWR8+rr91VBm+Liu6otCoqwPKBnxOfkoCymuHte8J4PvAGMBHabWSJA8J4fLH6qNlVWnlxBeV2oizacah+1xt13u3uZu4eApwh/X3D27doLtDezhJPKT9hWML9dsHyNMLMmhP+gvujurwfF9fr7qqhN8fBd1SYFRdhnQFowWqEp4Y6meVGu0wnMrJWZtSmfBq4A1hGuZ/kokqmEz7kSlE8JRqKMBg4Gh/LvAleYWYfg8PoKwudQdwKFZjY6GHkyJWJbta0u2nCqfdSa8j90gWsJf1/ldZkcjILpDaQR7tSt8Ocw+B/1QmBSBfWPbNck4MNg+ZqovwHPAF+5+x8iZtXb7+tUbarv31Wti3YnSay8CI/Y2ER4JMPPo12fCurXh/DIii+AL8vrSPgc5wJgM/AB0DEoN+DxoD1rgfSIbX0fyAxet0WUpxP+BckCHqMWOtqAlwkf2pcQPn97e1204VT7qOV2vRDUew3hPxKJEcv/PKjjRiJGl53q5zD4/lcE7f0r0Cwobx58zgzm96nBNl1C+JTPGmB18LqyPn9flbSpXn9Xtf3SLTxERKRSOvUkIiKVUlCIiEilFBQiIlIpBYWIiFRKQSEiIpVSUIiISKUUFCIiUqn/DxQIez+u6GEeAAAAAElFTkSuQmCC\n",
      "text/plain": [
       "<Figure size 432x288 with 1 Axes>"
      ]
     },
     "metadata": {
      "needs_background": "light"
     },
     "output_type": "display_data"
    }
   ],
   "source": [
    "df.Time.plot();"
   ]
  },
  {
   "cell_type": "markdown",
   "id": "0f91b495",
   "metadata": {},
   "source": [
    "Pandas also has a handy `describe()` method that applies some basic statistical analysis on a dataframe."
   ]
  },
  {
   "cell_type": "code",
   "execution_count": 6,
   "id": "633c471e",
   "metadata": {},
   "outputs": [
    {
     "data": {
      "text/html": [
       "<div>\n",
       "<style scoped>\n",
       "    .dataframe tbody tr th:only-of-type {\n",
       "        vertical-align: middle;\n",
       "    }\n",
       "\n",
       "    .dataframe tbody tr th {\n",
       "        vertical-align: top;\n",
       "    }\n",
       "\n",
       "    .dataframe thead th {\n",
       "        text-align: right;\n",
       "    }\n",
       "</style>\n",
       "<table border=\"1\" class=\"dataframe\">\n",
       "  <thead>\n",
       "    <tr style=\"text-align: right;\">\n",
       "      <th></th>\n",
       "      <th>Time</th>\n",
       "      <th>V1</th>\n",
       "      <th>V2</th>\n",
       "      <th>V3</th>\n",
       "      <th>V4</th>\n",
       "      <th>V5</th>\n",
       "      <th>V6</th>\n",
       "      <th>V7</th>\n",
       "      <th>V8</th>\n",
       "      <th>V9</th>\n",
       "      <th>...</th>\n",
       "      <th>V21</th>\n",
       "      <th>V22</th>\n",
       "      <th>V23</th>\n",
       "      <th>V24</th>\n",
       "      <th>V25</th>\n",
       "      <th>V26</th>\n",
       "      <th>V27</th>\n",
       "      <th>V28</th>\n",
       "      <th>Amount</th>\n",
       "      <th>Class</th>\n",
       "    </tr>\n",
       "  </thead>\n",
       "  <tbody>\n",
       "    <tr>\n",
       "      <th>count</th>\n",
       "      <td>284807.000000</td>\n",
       "      <td>2.848070e+05</td>\n",
       "      <td>2.848070e+05</td>\n",
       "      <td>2.848070e+05</td>\n",
       "      <td>2.848070e+05</td>\n",
       "      <td>2.848070e+05</td>\n",
       "      <td>2.848070e+05</td>\n",
       "      <td>2.848070e+05</td>\n",
       "      <td>2.848070e+05</td>\n",
       "      <td>2.848070e+05</td>\n",
       "      <td>...</td>\n",
       "      <td>2.848070e+05</td>\n",
       "      <td>2.848070e+05</td>\n",
       "      <td>2.848070e+05</td>\n",
       "      <td>2.848070e+05</td>\n",
       "      <td>2.848070e+05</td>\n",
       "      <td>2.848070e+05</td>\n",
       "      <td>2.848070e+05</td>\n",
       "      <td>2.848070e+05</td>\n",
       "      <td>284807.000000</td>\n",
       "      <td>284807.000000</td>\n",
       "    </tr>\n",
       "    <tr>\n",
       "      <th>mean</th>\n",
       "      <td>94813.859575</td>\n",
       "      <td>1.168375e-15</td>\n",
       "      <td>3.416908e-16</td>\n",
       "      <td>-1.379537e-15</td>\n",
       "      <td>2.074095e-15</td>\n",
       "      <td>9.604066e-16</td>\n",
       "      <td>1.487313e-15</td>\n",
       "      <td>-5.556467e-16</td>\n",
       "      <td>1.213481e-16</td>\n",
       "      <td>-2.406331e-15</td>\n",
       "      <td>...</td>\n",
       "      <td>1.654067e-16</td>\n",
       "      <td>-3.568593e-16</td>\n",
       "      <td>2.578648e-16</td>\n",
       "      <td>4.473266e-15</td>\n",
       "      <td>5.340915e-16</td>\n",
       "      <td>1.683437e-15</td>\n",
       "      <td>-3.660091e-16</td>\n",
       "      <td>-1.227390e-16</td>\n",
       "      <td>88.349619</td>\n",
       "      <td>0.001727</td>\n",
       "    </tr>\n",
       "    <tr>\n",
       "      <th>std</th>\n",
       "      <td>47488.145955</td>\n",
       "      <td>1.958696e+00</td>\n",
       "      <td>1.651309e+00</td>\n",
       "      <td>1.516255e+00</td>\n",
       "      <td>1.415869e+00</td>\n",
       "      <td>1.380247e+00</td>\n",
       "      <td>1.332271e+00</td>\n",
       "      <td>1.237094e+00</td>\n",
       "      <td>1.194353e+00</td>\n",
       "      <td>1.098632e+00</td>\n",
       "      <td>...</td>\n",
       "      <td>7.345240e-01</td>\n",
       "      <td>7.257016e-01</td>\n",
       "      <td>6.244603e-01</td>\n",
       "      <td>6.056471e-01</td>\n",
       "      <td>5.212781e-01</td>\n",
       "      <td>4.822270e-01</td>\n",
       "      <td>4.036325e-01</td>\n",
       "      <td>3.300833e-01</td>\n",
       "      <td>250.120109</td>\n",
       "      <td>0.041527</td>\n",
       "    </tr>\n",
       "    <tr>\n",
       "      <th>min</th>\n",
       "      <td>0.000000</td>\n",
       "      <td>-5.640751e+01</td>\n",
       "      <td>-7.271573e+01</td>\n",
       "      <td>-4.832559e+01</td>\n",
       "      <td>-5.683171e+00</td>\n",
       "      <td>-1.137433e+02</td>\n",
       "      <td>-2.616051e+01</td>\n",
       "      <td>-4.355724e+01</td>\n",
       "      <td>-7.321672e+01</td>\n",
       "      <td>-1.343407e+01</td>\n",
       "      <td>...</td>\n",
       "      <td>-3.483038e+01</td>\n",
       "      <td>-1.093314e+01</td>\n",
       "      <td>-4.480774e+01</td>\n",
       "      <td>-2.836627e+00</td>\n",
       "      <td>-1.029540e+01</td>\n",
       "      <td>-2.604551e+00</td>\n",
       "      <td>-2.256568e+01</td>\n",
       "      <td>-1.543008e+01</td>\n",
       "      <td>0.000000</td>\n",
       "      <td>0.000000</td>\n",
       "    </tr>\n",
       "    <tr>\n",
       "      <th>25%</th>\n",
       "      <td>54201.500000</td>\n",
       "      <td>-9.203734e-01</td>\n",
       "      <td>-5.985499e-01</td>\n",
       "      <td>-8.903648e-01</td>\n",
       "      <td>-8.486401e-01</td>\n",
       "      <td>-6.915971e-01</td>\n",
       "      <td>-7.682956e-01</td>\n",
       "      <td>-5.540759e-01</td>\n",
       "      <td>-2.086297e-01</td>\n",
       "      <td>-6.430976e-01</td>\n",
       "      <td>...</td>\n",
       "      <td>-2.283949e-01</td>\n",
       "      <td>-5.423504e-01</td>\n",
       "      <td>-1.618463e-01</td>\n",
       "      <td>-3.545861e-01</td>\n",
       "      <td>-3.171451e-01</td>\n",
       "      <td>-3.269839e-01</td>\n",
       "      <td>-7.083953e-02</td>\n",
       "      <td>-5.295979e-02</td>\n",
       "      <td>5.600000</td>\n",
       "      <td>0.000000</td>\n",
       "    </tr>\n",
       "    <tr>\n",
       "      <th>50%</th>\n",
       "      <td>84692.000000</td>\n",
       "      <td>1.810880e-02</td>\n",
       "      <td>6.548556e-02</td>\n",
       "      <td>1.798463e-01</td>\n",
       "      <td>-1.984653e-02</td>\n",
       "      <td>-5.433583e-02</td>\n",
       "      <td>-2.741871e-01</td>\n",
       "      <td>4.010308e-02</td>\n",
       "      <td>2.235804e-02</td>\n",
       "      <td>-5.142873e-02</td>\n",
       "      <td>...</td>\n",
       "      <td>-2.945017e-02</td>\n",
       "      <td>6.781943e-03</td>\n",
       "      <td>-1.119293e-02</td>\n",
       "      <td>4.097606e-02</td>\n",
       "      <td>1.659350e-02</td>\n",
       "      <td>-5.213911e-02</td>\n",
       "      <td>1.342146e-03</td>\n",
       "      <td>1.124383e-02</td>\n",
       "      <td>22.000000</td>\n",
       "      <td>0.000000</td>\n",
       "    </tr>\n",
       "    <tr>\n",
       "      <th>75%</th>\n",
       "      <td>139320.500000</td>\n",
       "      <td>1.315642e+00</td>\n",
       "      <td>8.037239e-01</td>\n",
       "      <td>1.027196e+00</td>\n",
       "      <td>7.433413e-01</td>\n",
       "      <td>6.119264e-01</td>\n",
       "      <td>3.985649e-01</td>\n",
       "      <td>5.704361e-01</td>\n",
       "      <td>3.273459e-01</td>\n",
       "      <td>5.971390e-01</td>\n",
       "      <td>...</td>\n",
       "      <td>1.863772e-01</td>\n",
       "      <td>5.285536e-01</td>\n",
       "      <td>1.476421e-01</td>\n",
       "      <td>4.395266e-01</td>\n",
       "      <td>3.507156e-01</td>\n",
       "      <td>2.409522e-01</td>\n",
       "      <td>9.104512e-02</td>\n",
       "      <td>7.827995e-02</td>\n",
       "      <td>77.165000</td>\n",
       "      <td>0.000000</td>\n",
       "    </tr>\n",
       "    <tr>\n",
       "      <th>max</th>\n",
       "      <td>172792.000000</td>\n",
       "      <td>2.454930e+00</td>\n",
       "      <td>2.205773e+01</td>\n",
       "      <td>9.382558e+00</td>\n",
       "      <td>1.687534e+01</td>\n",
       "      <td>3.480167e+01</td>\n",
       "      <td>7.330163e+01</td>\n",
       "      <td>1.205895e+02</td>\n",
       "      <td>2.000721e+01</td>\n",
       "      <td>1.559499e+01</td>\n",
       "      <td>...</td>\n",
       "      <td>2.720284e+01</td>\n",
       "      <td>1.050309e+01</td>\n",
       "      <td>2.252841e+01</td>\n",
       "      <td>4.584549e+00</td>\n",
       "      <td>7.519589e+00</td>\n",
       "      <td>3.517346e+00</td>\n",
       "      <td>3.161220e+01</td>\n",
       "      <td>3.384781e+01</td>\n",
       "      <td>25691.160000</td>\n",
       "      <td>1.000000</td>\n",
       "    </tr>\n",
       "  </tbody>\n",
       "</table>\n",
       "<p>8 rows × 31 columns</p>\n",
       "</div>"
      ],
      "text/plain": [
       "                Time            V1            V2            V3            V4  \\\n",
       "count  284807.000000  2.848070e+05  2.848070e+05  2.848070e+05  2.848070e+05   \n",
       "mean    94813.859575  1.168375e-15  3.416908e-16 -1.379537e-15  2.074095e-15   \n",
       "std     47488.145955  1.958696e+00  1.651309e+00  1.516255e+00  1.415869e+00   \n",
       "min         0.000000 -5.640751e+01 -7.271573e+01 -4.832559e+01 -5.683171e+00   \n",
       "25%     54201.500000 -9.203734e-01 -5.985499e-01 -8.903648e-01 -8.486401e-01   \n",
       "50%     84692.000000  1.810880e-02  6.548556e-02  1.798463e-01 -1.984653e-02   \n",
       "75%    139320.500000  1.315642e+00  8.037239e-01  1.027196e+00  7.433413e-01   \n",
       "max    172792.000000  2.454930e+00  2.205773e+01  9.382558e+00  1.687534e+01   \n",
       "\n",
       "                 V5            V6            V7            V8            V9  \\\n",
       "count  2.848070e+05  2.848070e+05  2.848070e+05  2.848070e+05  2.848070e+05   \n",
       "mean   9.604066e-16  1.487313e-15 -5.556467e-16  1.213481e-16 -2.406331e-15   \n",
       "std    1.380247e+00  1.332271e+00  1.237094e+00  1.194353e+00  1.098632e+00   \n",
       "min   -1.137433e+02 -2.616051e+01 -4.355724e+01 -7.321672e+01 -1.343407e+01   \n",
       "25%   -6.915971e-01 -7.682956e-01 -5.540759e-01 -2.086297e-01 -6.430976e-01   \n",
       "50%   -5.433583e-02 -2.741871e-01  4.010308e-02  2.235804e-02 -5.142873e-02   \n",
       "75%    6.119264e-01  3.985649e-01  5.704361e-01  3.273459e-01  5.971390e-01   \n",
       "max    3.480167e+01  7.330163e+01  1.205895e+02  2.000721e+01  1.559499e+01   \n",
       "\n",
       "       ...           V21           V22           V23           V24  \\\n",
       "count  ...  2.848070e+05  2.848070e+05  2.848070e+05  2.848070e+05   \n",
       "mean   ...  1.654067e-16 -3.568593e-16  2.578648e-16  4.473266e-15   \n",
       "std    ...  7.345240e-01  7.257016e-01  6.244603e-01  6.056471e-01   \n",
       "min    ... -3.483038e+01 -1.093314e+01 -4.480774e+01 -2.836627e+00   \n",
       "25%    ... -2.283949e-01 -5.423504e-01 -1.618463e-01 -3.545861e-01   \n",
       "50%    ... -2.945017e-02  6.781943e-03 -1.119293e-02  4.097606e-02   \n",
       "75%    ...  1.863772e-01  5.285536e-01  1.476421e-01  4.395266e-01   \n",
       "max    ...  2.720284e+01  1.050309e+01  2.252841e+01  4.584549e+00   \n",
       "\n",
       "                V25           V26           V27           V28         Amount  \\\n",
       "count  2.848070e+05  2.848070e+05  2.848070e+05  2.848070e+05  284807.000000   \n",
       "mean   5.340915e-16  1.683437e-15 -3.660091e-16 -1.227390e-16      88.349619   \n",
       "std    5.212781e-01  4.822270e-01  4.036325e-01  3.300833e-01     250.120109   \n",
       "min   -1.029540e+01 -2.604551e+00 -2.256568e+01 -1.543008e+01       0.000000   \n",
       "25%   -3.171451e-01 -3.269839e-01 -7.083953e-02 -5.295979e-02       5.600000   \n",
       "50%    1.659350e-02 -5.213911e-02  1.342146e-03  1.124383e-02      22.000000   \n",
       "75%    3.507156e-01  2.409522e-01  9.104512e-02  7.827995e-02      77.165000   \n",
       "max    7.519589e+00  3.517346e+00  3.161220e+01  3.384781e+01   25691.160000   \n",
       "\n",
       "               Class  \n",
       "count  284807.000000  \n",
       "mean        0.001727  \n",
       "std         0.041527  \n",
       "min         0.000000  \n",
       "25%         0.000000  \n",
       "50%         0.000000  \n",
       "75%         0.000000  \n",
       "max         1.000000  \n",
       "\n",
       "[8 rows x 31 columns]"
      ]
     },
     "execution_count": 6,
     "metadata": {},
     "output_type": "execute_result"
    }
   ],
   "source": [
    "df.describe()"
   ]
  },
  {
   "cell_type": "markdown",
   "id": "f15a7a43",
   "metadata": {},
   "source": [
    "If we scroll to the right, we see that the `max(Class)` is 1, `min(Class)` is 0 and no other values (see 25%, 50% and 75% quadrants) seem present. Let's confirm that with the histogram of `Class`. Recall, the trailing `;` suppresses textual output."
   ]
  },
  {
   "cell_type": "code",
   "execution_count": 7,
   "id": "855957d1",
   "metadata": {},
   "outputs": [
    {
     "data": {
      "image/png": "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\n",
      "text/plain": [
       "<Figure size 432x288 with 1 Axes>"
      ]
     },
     "metadata": {
      "needs_background": "light"
     },
     "output_type": "display_data"
    }
   ],
   "source": [
    "df[\"Class\"].hist(bins=50, log=True);"
   ]
  },
  {
   "cell_type": "markdown",
   "id": "0556de02",
   "metadata": {},
   "source": [
    "I plotted the histogram using log y-axis, because the count of 1's is small compared to the count of 0's. How small?"
   ]
  },
  {
   "cell_type": "code",
   "execution_count": 8,
   "id": "22ade600",
   "metadata": {},
   "outputs": [
    {
     "data": {
      "text/plain": [
       "492"
      ]
     },
     "execution_count": 8,
     "metadata": {},
     "output_type": "execute_result"
    }
   ],
   "source": [
    "df[\"Class\"].sum()"
   ]
  },
  {
   "cell_type": "markdown",
   "id": "693c1f80",
   "metadata": {},
   "source": [
    "This means that 492 transactions were fraudulent (of a quarter of a million, so 0.17%)."
   ]
  },
  {
   "cell_type": "markdown",
   "id": "3be4a9e1",
   "metadata": {},
   "source": [
    "I wanted to be absolutely sure that 0 and 1 are the only values occuring in `Class`. I did not know any other solution than simply looping..."
   ]
  },
  {
   "cell_type": "code",
   "execution_count": 9,
   "id": "1942ff81",
   "metadata": {},
   "outputs": [
    {
     "name": "stdout",
     "output_type": "stream",
     "text": [
      "#0=284315, #1=492, #rest=0, #all=284807\n"
     ]
    }
   ],
   "source": [
    "c0 = 0\n",
    "c1 = 0\n",
    "cx = 0\n",
    "for v in df[\"Class\"]:\n",
    "    if v==0 : c0+=1\n",
    "    elif v==1 : c1+=1\n",
    "    else : cx+=1\n",
    "print( f\"#0={c0}, #1={c1}, #rest={cx}, #all={c0+c1+cx}\")"
   ]
  },
  {
   "cell_type": "markdown",
   "id": "a332c50a",
   "metadata": {},
   "source": [
    "In the meantime I found better solutions. First of all, the method `nunique()` returns the number of unique values."
   ]
  },
  {
   "cell_type": "code",
   "execution_count": 10,
   "id": "f06cbafc",
   "metadata": {},
   "outputs": [
    {
     "data": {
      "text/plain": [
       "2"
      ]
     },
     "execution_count": 10,
     "metadata": {},
     "output_type": "execute_result"
    }
   ],
   "source": [
    "df[\"Class\"].nunique()"
   ]
  },
  {
   "cell_type": "markdown",
   "id": "255b3f82",
   "metadata": {},
   "source": [
    "Even better, `value_counts()` even reports the values!"
   ]
  },
  {
   "cell_type": "code",
   "execution_count": 11,
   "id": "5820cbde",
   "metadata": {},
   "outputs": [
    {
     "data": {
      "text/plain": [
       "0    284315\n",
       "1       492\n",
       "Name: Class, dtype: int64"
      ]
     },
     "execution_count": 11,
     "metadata": {},
     "output_type": "execute_result"
    }
   ],
   "source": [
    "df['Class'].value_counts()"
   ]
  },
  {
   "cell_type": "markdown",
   "id": "d8c62afa",
   "metadata": {},
   "source": [
    "## Preparing the credit card data for training\n",
    "\n",
    "We follow the naming convention for machine learning that `x` are the input records, and `y` is the (expected) output for each record. We copy the data from pandas to numpy, splitting off the `Class` (\"output\") column to `y`, all other (\"input\") columns will go to `x`.\n",
    "\n",
    "For some reason `to_numpy()` picks `int` as datatype for the Class column, and machine learning wants floats, so we perform an explicit cast. We check the `y` slice 500-600; there is one fraudulent transaction (second row, 8th number)."
   ]
  },
  {
   "cell_type": "code",
   "execution_count": 12,
   "id": "17f44d91",
   "metadata": {},
   "outputs": [
    {
     "data": {
      "text/plain": [
       "array([0., 0., 0., 0., 0., 0., 0., 0., 0., 0., 0., 0., 0., 0., 0., 0., 0.,\n",
       "       0., 0., 0., 0., 0., 0., 0., 0., 0., 0., 0., 0., 0., 0., 0., 0., 0.,\n",
       "       0., 0., 0., 0., 0., 0., 0., 1., 0., 0., 0., 0., 0., 0., 0., 0., 0.,\n",
       "       0., 0., 0., 0., 0., 0., 0., 0., 0., 0., 0., 0., 0., 0., 0., 0., 0.,\n",
       "       0., 0., 0., 0., 0., 0., 0., 0., 0., 0., 0., 0., 0., 0., 0., 0., 0.,\n",
       "       0., 0., 0., 0., 0., 0., 0., 0., 0., 0., 0., 0., 0., 0., 0.],\n",
       "      dtype=float32)"
      ]
     },
     "execution_count": 12,
     "metadata": {},
     "output_type": "execute_result"
    }
   ],
   "source": [
    "y = df['Class'].to_numpy().astype(np.float32)\n",
    "y[500:600]"
   ]
  },
  {
   "cell_type": "markdown",
   "id": "163496fe",
   "metadata": {},
   "source": [
    "To get the remaining columns in `x` we use the `drop` method. Here the `to_numpy()` returns `numpy.float64`, and again we want `float32`. We check record 0; the print out has 4 colums of 7 plus 2 numbers; that is 30 numbers. So indeed we dropped one. The last column of `x[0]` is `1.4962e+02`, or 149.62; this is the \"amount\" which we also found in our very first table `df.head()`."
   ]
  },
  {
   "cell_type": "code",
   "execution_count": 13,
   "id": "e4d26b01",
   "metadata": {},
   "outputs": [
    {
     "data": {
      "text/plain": [
       "array([ 0.0000000e+00, -1.3598071e+00, -7.2781175e-02,  2.5363467e+00,\n",
       "        1.3781552e+00, -3.3832076e-01,  4.6238777e-01,  2.3959856e-01,\n",
       "        9.8697901e-02,  3.6378697e-01,  9.0794168e-02, -5.5159956e-01,\n",
       "       -6.1780083e-01, -9.9138987e-01, -3.1116936e-01,  1.4681770e+00,\n",
       "       -4.7040051e-01,  2.0797125e-01,  2.5790580e-02,  4.0399295e-01,\n",
       "        2.5141209e-01, -1.8306779e-02,  2.7783757e-01, -1.1047391e-01,\n",
       "        6.6928074e-02,  1.2853935e-01, -1.8911484e-01,  1.3355838e-01,\n",
       "       -2.1053053e-02,  1.4962000e+02], dtype=float32)"
      ]
     },
     "execution_count": 13,
     "metadata": {},
     "output_type": "execute_result"
    }
   ],
   "source": [
    "x = df.drop(columns='Class').to_numpy().astype(np.float32)\n",
    "x[0]"
   ]
  },
  {
   "cell_type": "markdown",
   "id": "48f76d56",
   "metadata": {},
   "source": [
    "It seems good practice to _normalize_ the data, and John uses `RobustScaler().fit_transform(x)` for that. I guess this redistributes the values of each column to be in a manageable range since ML training likes that. Let us plot the histogram of column 0 (using the slice `x[:,0]`) before we do the normalization."
   ]
  },
  {
   "cell_type": "code",
   "execution_count": 14,
   "id": "adbd905e",
   "metadata": {},
   "outputs": [
    {
     "data": {
      "image/png": "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\n",
      "text/plain": [
       "<Figure size 432x288 with 1 Axes>"
      ]
     },
     "metadata": {
      "needs_background": "light"
     },
     "output_type": "display_data"
    }
   ],
   "source": [
    "import matplotlib.pyplot as plt\n",
    "plt.hist(x[:,0], bins=100);\n"
   ]
  },
  {
   "cell_type": "markdown",
   "id": "ebe6e119",
   "metadata": {},
   "source": [
    "Let us then normalize and plot column 0 again. We see that the shape is retained, but the x-values have been normalized to -1 .. +1. See [here](https://scikit-learn.org/stable/auto_examples/preprocessing/plot_all_scaling.html) details on the scaler."
   ]
  },
  {
   "cell_type": "code",
   "execution_count": 15,
   "id": "7099e695",
   "metadata": {},
   "outputs": [
    {
     "data": {
      "image/png": "iVBORw0KGgoAAAANSUhEUgAAAX0AAAD4CAYAAAAAczaOAAAAOXRFWHRTb2Z0d2FyZQBNYXRwbG90bGliIHZlcnNpb24zLjQuMiwgaHR0cHM6Ly9tYXRwbG90bGliLm9yZy8rg+JYAAAACXBIWXMAAAsTAAALEwEAmpwYAAAUFUlEQVR4nO3df7DldX3f8edLCNg2RhahFBd0cUJqyXSCzB2gtdMoJPyy49IJmrVNXS2dbVLaSafN1KX+Yaphiv0jtI4tdkeoi21EQuKwDSZk5cdkOiPIEhEFintBHdgiu2GB1nGkQt7943wuPa73cM+999xzz93P8zFz5ny/n++P8/5+zrnv7+d8vp/zvakqJEl9eM16ByBJmh6TviR1xKQvSR0x6UtSR0z6ktSRY9c7gFdz0kkn1ZYtW9Y7DEnaUB544IE/q6qTF1s200l/y5Yt7Nu3b73DkKQNJcl3Ri2ze0eSOmLSl6SOmPQlqSMmfUnqiElfkjpi0pekjpj0JakjJn1J6ohJX5I6MtO/yJXW2padt78y/e1r37WOkUjTYUtfkjpi0pekjpj0JakjJn1J6ohJX5I6YtKXpI6Y9CWpIyZ9SeqISV+SOjJW0k/y7SRfT/Jgkn2t7MQke5Psb8+bWnmSfCLJfJKHkpwztJ/tbf39SbavzSFJkkZZTkv/nVV1dlXNtfmdwJ1VdSZwZ5sHuBQ4sz12ANfD4CQBfAQ4DzgX+MjCiUKSNB2r6d7ZCuxu07uBy4fKb6qBe4ETkpwKXAzsrarDVfUcsBe4ZBWvL0lapnGTfgF/nOSBJDta2SlV9XSb/i5wSpveDDw5tO1TrWxU+Y9IsiPJviT7Dh06NGZ4kqRxjHuXzb9VVQeS/GVgb5L/ObywqipJTSKgqtoF7AKYm5ubyD4lSQNjtfSr6kB7Pgh8gUGf/DOt24b2fLCtfgA4fWjz01rZqHJJ0pQsmfST/KUkr1uYBi4CvgHsARZG4GwHbmvTe4D3t1E85wMvtG6gO4CLkmxqF3AvamWSpCkZp3vnFOALSRbW/52q+qMk9wO3JLkS+A7w3rb+F4HLgHng+8AHAarqcJKPAfe39T5aVYcndiSSpCUtmfSr6gng5xYpfxa4cJHyAq4asa8bgRuXH6YkaRL8Ra4kdcSkL0kdMelLUkdM+pLUEZO+JHVk3F/kSkeFLTtvX+8QpHVlS1+SOmLSl6SOmPQlqSMmfUnqiElfkjpi0pekjpj0JakjjtPXhjM81v7b175rHSORNh5b+pLUEVv6Our5K1zp/7OlL0kdMelLUkdM+pLUEZO+JHXEC7lS41BQ9cCkL6l7PZ3w7d6RpI7Y0tdRybH5WtBTK34ctvQlqSMmfUnqiN07kjaUUV13dt2Mx6QvaWz2j298Jv0O+YerjcYL85Nj0pd0VLAxM56xL+QmOSbJV5P8QZs/I8l9SeaTfD7Jca38+DY/35ZvGdrH1a38sSQXT/xoNBO27Lz9lYek2bKclv6vA48CP9XmPw5cV1U3J/kUcCVwfXt+rqp+Osm2tt4vJzkL2Ab8LPBG4EtJfqaqXp7QsWgFbB1pEmbtc2SDY7SxWvpJTgPeBXy6zQe4ALi1rbIbuLxNb23ztOUXtvW3AjdX1YtV9S1gHjh3AscgaUb5rW/2jNvS//fAvwJe1+bfADxfVS+1+aeAzW16M/AkQFW9lOSFtv5m4N6hfQ5v84okO4AdAG9605vGPQ4tYZw/ullrrWljMsHPtiWTfpK/AxysqgeSvGOtA6qqXcAugLm5uVrr15M0m9bi5GHDZryW/tuBdye5DHgtgz79/wCckOTY1to/DTjQ1j8AnA48leRY4PXAs0PlC4a30YTZ2tJa8zO2uFk/sSyZ9KvqauBqgNbS/42q+vtJfhe4ArgZ2A7c1jbZ0+a/3JbfVVWVZA/wO0l+m8GF3DOBr0z0aDRVs/bhNglJS1vNOP0PATcn+S3gq8ANrfwG4LNJ5oHDDEbsUFUPJ7kFeAR4CbjKkTurN2uJV9JsW1bSr6p7gHva9BMsMvqmqn4AvGfE9tcA1yw3SEnSZPiLXK2LUd9Q/Oaiaem1O9Ckrw2h1z9QadJM+kcRE6Nmmd/iZoNJXxOxmhPOqG2X+4MyaRLGPTlt1JOYSV/SujoaTtwb6Rj8d4mS1BGTviR1xO4dSRrTRurGGcWkr2U5Gj70Wp6e3/Oj8dhN+pqajfQHtFFHZkhLMelrSRspWWtj6OUzNYuNB5O+1lQvf9zSRuHoHUnqiElfkjpi0pekjtinr0XZFy8dnWzpS1JHbOlLS5jFYXfSStnSl6SOmPQlqSMmfUnqiElfkjpi0pekjpj0JakjJn1J6ojj9CVpCmbl9x629CWpIyZ9SeqISV+SOrJk0k/y2iRfSfK1JA8n+Tet/Iwk9yWZT/L5JMe18uPb/HxbvmVoX1e38seSXLxmRyVJWtQ4Lf0XgQuq6ueAs4FLkpwPfBy4rqp+GngOuLKtfyXwXCu/rq1HkrOAbcDPApcA/ynJMRM8FknSEpYcvVNVBXyvzf5EexRwAfD3Wvlu4DeB64GtbRrgVuCTSdLKb66qF4FvJZkHzgW+PIkD6Yn3upe0UmP16Sc5JsmDwEFgL/A48HxVvdRWeQrY3KY3A08CtOUvAG8YLl9kG0nSFIyV9Kvq5ao6GziNQev8rWsVUJIdSfYl2Xfo0KG1ehlJ6tKyRu9U1fPA3cDfAE5IstA9dBpwoE0fAE4HaMtfDzw7XL7INsOvsauq5qpq7uSTT15OeJKkJYwzeufkJCe06b8A/CLwKIPkf0VbbTtwW5ve0+Zpy+9q1wX2ANva6J4zgDOBr0zoOCRJYxjnNgynArvbSJvXALdU1R8keQS4OclvAV8Fbmjr3wB8tl2oPcxgxA5V9XCSW4BHgJeAq6rq5ckejqRJcLDA0Wuc0TsPAW9bpPwJBv37R5b/AHjPiH1dA1yz/DAlSZPgL3IlqSMmfUnqiElfkjpi0pekjvhPVCRpytbzH6rY0pekjpj0JakjJn1J6ohJX5I6YtKXpI6Y9CWpIyZ9SeqI4/QlaR1Ne8y+LX1J6ohJX5I6YtKXpI6Y9CWpI17IlZZhPW+UJU2CLX1J6ohJX5I6YtKXpI7Ypy+tkP372ohM+pJ+5ASmo5vdO5LUEZO+JHXkqO7eOZr6XP36LWkSbOlLUkdM+pLUEZO+JHXkqO7Tl6SNZBrXIZds6Sc5PcndSR5J8nCSX2/lJybZm2R/e97UypPkE0nmkzyU5JyhfW1v6+9Psn1NjkjSSFt23v7KQ30ap6X/EvAvq+pPk7wOeCDJXuADwJ1VdW2SncBO4EPApcCZ7XEecD1wXpITgY8Ac0C1/eypqucmfVBHC/8wJU3aki39qnq6qv60Tf8f4FFgM7AV2N1W2w1c3qa3AjfVwL3ACUlOBS4G9lbV4Zbo9wKXTPJgJEmvblkXcpNsAd4G3AecUlVPt0XfBU5p05uBJ4c2e6qVjSo/8jV2JNmXZN+hQ4eWE54kaQljJ/0kPwn8HvDPq+p/Dy+rqmLQZbNqVbWrquaqau7kk0+exC4lSc1Yo3eS/ASDhP/fqur3W/EzSU6tqqdb983BVn4AOH1o89Na2QHgHUeU37Py0CWthteM+jTO6J0ANwCPVtVvDy3aAyyMwNkO3DZU/v42iud84IXWDXQHcFGSTW2kz0WtTJI0JeO09N8O/APg60kebGX/GrgWuCXJlcB3gPe2ZV8ELgPmge8DHwSoqsNJPgbc39b7aFUdnsRBSJLGs2TSr6r/AWTE4gsXWb+Aq0bs60bgxuUEKEmaHG/DIEkdMelLUkdM+pLUEZO+JHXEpC9JHTHpS1JHTPqS1JFu/onK0fRP0iVppWzpS1JHTPqS1BGTviR1xKQvSR3p5kLuRuE9ziWtJVv6ktQRk74kdcSkL0kdMelLUke6vJDrr3Ml9cqWviR1xKQvSR0x6UtSR7rs05cmzetE2ihM+mPwD1obmb/y1jCTvrTObFRomuzTl6SOmPQlqSN270gTZneNZpktfUnqiC196SjkiB2NYktfkjqyZNJPcmOSg0m+MVR2YpK9Sfa3502tPEk+kWQ+yUNJzhnaZntbf3+S7WtzOJKkVzNO985ngE8CNw2V7QTurKprk+xs8x8CLgXObI/zgOuB85KcCHwEmAMKeCDJnqp6blIHspH5VVzStCzZ0q+qPwEOH1G8FdjdpncDlw+V31QD9wInJDkVuBjYW1WHW6LfC1wygfglScuw0j79U6rq6Tb9XeCUNr0ZeHJovada2ajyH5NkR5J9SfYdOnRoheFJkhaz6tE7VVVJahLBtP3tAnYBzM3NTWy/68Ux25JmyUpb+s+0bhva88FWfgA4fWi901rZqHJJ0hStNOnvARZG4GwHbhsqf38bxXM+8ELrBroDuCjJpjbS56JWJkmaoiW7d5J8DngHcFKSpxiMwrkWuCXJlcB3gPe21b8IXAbMA98HPghQVYeTfAy4v6330ao68uKwJGmNLZn0q+p9IxZduMi6BVw1Yj83AjcuKzpJ0kR5G4Z14th8SevBpC+tIU/umjUm/SkyAUhab90nfcfRS+pJ90l/2HJPAJ4wJG00Jv0R7IrReltNI0QaxfvpS1JHTPqS1BGTviR1xD59aQOzH1/LZUtfkjpiS3+ZbFlJ2shs6UtSR2zprwG/DWilxvns+PnSatjSl6SOmPQlqSMmfUnqiElfkjrihVxpA/DirSbFpD8h/lFK2gjs3pGkjpj0JakjJn1J6ohJX5I6YtKXpI6Y9CWpIyZ9SeqISV+SOmLSl6SOmPQlqSNTT/pJLknyWJL5JDun/fqS1LOpJv0kxwD/EbgUOAt4X5KzphmDJPVs2i39c4H5qnqiqv4vcDOwdcoxSFK3pn2Xzc3Ak0PzTwHnDa+QZAewo81+L8ljK3ytk4A/W+G2a2UWY4LZjGsWY4LZjGsWY4LZjGsWY4JF4srHV7W/N49aMHO3Vq6qXcCu1e4nyb6qmptASBMzizHBbMY1izHBbMY1izHBbMY1izHBdOOadvfOAeD0ofnTWpkkaQqmnfTvB85MckaS44BtwJ4pxyBJ3Zpq905VvZTknwJ3AMcAN1bVw2v0cqvuIloDsxgTzGZcsxgTzGZcsxgTzGZcsxgTTDGuVNW0XkuStM78Ra4kdcSkL0kd2dBJP8l7kjyc5M+TjBzuNOrWD+2C8n2t/PPt4vJqYzoxyd4k+9vzpkXWeWeSB4ceP0hyeVv2mSTfGlp29mpjGjeutt7LQ6+9Z6h8verq7CRfbu/zQ0l+eWjZxOpqqduDJDm+Hfd8q4ctQ8uubuWPJbl4pTGsMK5/keSRVjd3Jnnz0LJF38spxPSBJIeGXvsfDS3b3t7v/Um2TyqmMeO6biimbyZ5fmjZWtXVjUkOJvnGiOVJ8okW80NJzhlatjZ1VVUb9gH8NeCvAvcAcyPWOQZ4HHgLcBzwNeCstuwWYFub/hTwaxOI6d8BO9v0TuDjS6x/InAY+Itt/jPAFWtQV2PFBXxvRPm61BXwM8CZbfqNwNPACZOsq1f7jAyt80+AT7XpbcDn2/RZbf3jgTPafo6Z0Hs2TlzvHPrs/NpCXK/2Xk4hpg8AnxzxWX+iPW9q05umFdcR6/8zBgNJ1qyu2n7/NnAO8I0Ryy8D/hAIcD5w31rX1YZu6VfVo1W11C92F731Q5IAFwC3tvV2A5dPIKytbV/j7vMK4A+r6vsTeO1Xs9y4XrGedVVV36yq/W36fwEHgZMn8NrDxrk9yHCstwIXtnrZCtxcVS9W1beA+ba/qcRVVXcPfXbuZfDbl7W0mlupXAzsrarDVfUcsBe4ZJ3ieh/wuQm99khV9ScMGnWjbAVuqoF7gROSnMoa1tWGTvpjWuzWD5uBNwDPV9VLR5Sv1ilV9XSb/i5wyhLrb+PHP3zXtK961yU5fgIxLSeu1ybZl+TehS4nZqSukpzLoBX3+FDxJOpq1Gdk0XVaPbzAoF7G2XallrvvKxm0Ghcs9l5OK6Zfau/LrUkWfpA5E3XVusDOAO4aKl6LuhrHqLjXrK5m7jYMR0ryJeCvLLLow1V127TjgVePaXimqirJyDGx7Yz+1xn8bmHB1QwS4HEMxu5+CPjoFON6c1UdSPIW4K4kX2eQ4FZkwnX1WWB7Vf15K15xXR1tkvwKMAf8/FDxj72XVfX44nuYqP8OfK6qXkzyjxl8Q7pgCq87rm3ArVX18lDZetXV1M180q+qX1jlLkbd+uFZBl+ljm0tt7FvCfFqMSV5JsmpVfV0S1QHX2VX7wW+UFU/HNr3Qsv3xST/BfiNcWKaVFxVdaA9P5HkHuBtwO+xjnWV5KeA2xmc6O8d2veK6+oI49weZGGdp5IcC7yewWdoLW8tMta+k/wCg5Poz1fViwvlI97L1SayJWOqqmeHZj/N4NrNwrbvOGLbe1YZz9hxDdkGXDVcsEZ1NY5Rca9ZXfXQvbPorR9qcLXkbgZ96gDbgUl8c9jT9jXOPn+sX7Elv4V+9MuBRa/6r0VcSTYtdJEkOQl4O/DIetZVe8++wKDf89Yjlk2qrsa5PchwrFcAd7V62QNsy2B0zxnAmcBXVhjHsuNK8jbgPwPvrqqDQ+WLvpdTiunUodl3A4+26TuAi1psm4CL+NFvuWsaV4vtrQwujH55qGyt6moce4D3t1E85wMvtMbM2tXVJK4Gr9cD+LsM+rpeBJ4B7mjlbwS+OLTeZcA3GZy5PzxU/hYGf6DzwO8Cx08gpjcAdwL7gS8BJ7byOeDTQ+ttYXA2f80R298FfJ1BAvuvwE9OqK6WjAv4m+21v9aer1zvugJ+Bfgh8ODQ4+xJ19VinxEGXUXvbtOvbcc93+rhLUPbfrht9xhw6YQ/40vF9aX22V+omz1LvZdTiOnfAg+3174beOvQtv+w1eE88MFp1lWb/03g2iO2W8u6+hyDEWc/ZJCrrgR+FfjVtjwM/rHU4+2154a2XZO68jYMktSRHrp3JEmNSV+SOmLSl6SOmPQlqSMmfUnqiElfkjpi0pekjvw/Wv+kBno9i9QAAAAASUVORK5CYII=\n",
      "text/plain": [
       "<Figure size 432x288 with 1 Axes>"
      ]
     },
     "metadata": {
      "needs_background": "light"
     },
     "output_type": "display_data"
    }
   ],
   "source": [
    "from sklearn.preprocessing import RobustScaler\n",
    "x = RobustScaler().fit_transform(x)\n",
    "plt.hist(x[:,0], bins=100);"
   ]
  },
  {
   "cell_type": "markdown",
   "id": "e77f2d11",
   "metadata": {},
   "source": [
    "# Splitting data for train and test"
   ]
  },
  {
   "cell_type": "markdown",
   "id": "509a87fa",
   "metadata": {},
   "source": [
    "Next step is to split the available records in records for _training_ and records for _testing_ (needed after training is completed). Of course, the splitting needs to keep the x-records (inputs) together with the y-records (output). \n",
    "\n",
    "There is an easy function for that in `sklearn` package: `train_test_split`. However, this function shuffles the data, which means that each run of this notebook, the (training) outcome is different. I don't want that. \n"
   ]
  },
  {
   "cell_type": "code",
   "execution_count": 16,
   "id": "6c3a3c69",
   "metadata": {},
   "outputs": [],
   "source": [
    "from sklearn.model_selection import train_test_split"
   ]
  },
  {
   "cell_type": "markdown",
   "id": "dc405d9c",
   "metadata": {},
   "source": [
    "To understand which values `train_test_split` takes, I wrote the `plot2` function. It overlays a graph (connected points) of `y1` with the points `y2`. We test it on a simple parabole. Note, `plot2` first sorts the values to plot (so that the \"connected points\" - lines between the consecutive points - works)."
   ]
  },
  {
   "cell_type": "code",
   "execution_count": 17,
   "id": "53c22d5d",
   "metadata": {},
   "outputs": [
    {
     "data": {
      "image/png": "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