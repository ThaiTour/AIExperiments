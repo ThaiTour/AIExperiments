{
 "cells": [
  {
   "cell_type": "markdown",
   "id": "6fa4b170",
   "metadata": {},
   "source": [
    "# Machine Learning exercise 1: Credit Card Fraud Detection\n",
    "2021 08 13  Maarten Pennings  Textual improvements  \n",
    "2021 06 20  Maarten Pennings  Added \"Random\" seeds at the start of this notebook  \n",
    "2021 06 12  Maarten Pennings  Created\n",
    "\n",
    "I followed \"Using Python to Implement a Complete Machine Learning Flow\", a Doulos Webinar by John Aynsley.\n",
    "\n",
    "With this notebook, I try to replicate John's first example.\n"
   ]
  },
  {
   "cell_type": "markdown",
   "id": "5a8c7d5b",
   "metadata": {},
   "source": [
    "## The project directory, with a Jupyter notebook\n",
    "Somehow I got the impression the best way to follow John was to run the Python exercises in a _Jupyter notebook_.\n",
    "I do not believe he mentioned that in the training, so I don't know where I got that from.\n",
    "\n",
    "It is my first time for using Jupyter. I was surprised how simple that is; basically `pip install jupyter` if you already have Python.\n",
    "\n",
    "I typically use a _virtual environment_ in my Python projects, and I use fixed structure to organize that.\n",
    "There is a _project_ directory with two files `setup.bat` and `requirements.txt`.\n",
    "\n",
    "The `setup.bat` takes care for creating (and updating if it exists) up the virtual environment (a built-in feature of Python).\n",
    "\n",
    "```bat\n",
    "python.exe -m venv env\n",
    "CALL env\\Scripts\\activate.bat\n",
    "python -m pip install --upgrade pip setuptools wheel\n",
    "IF EXIST requirements.txt (\n",
    "   pip install -r requirements.txt\n",
    ")\n",
    "```\n",
    "\n",
    "The `requirements.txt` (used in `setup.bat`) lists all packages needed in the project. \n",
    "So, to use Jupyter, it must list `jupyter`.\n",
    "I already added the packages (like tensoflow) we need later in Jupyter for data analysis and training.\n",
    "\n",
    "```text\n",
    "numpy\n",
    "scipy\n",
    "matplotlib\n",
    "pandas\n",
    "sklearn\n",
    "tensorflow\n",
    "jupyter\n",
    "```\n",
    "\n",
    "There are typically other files: those needed for the application developed in the project. In this case we need `ML1CreditCard.ipynb` (the notebook) and the images (png files) into the _project_ directory."
   ]
  },
  {
   "cell_type": "markdown",
   "id": "d273b57d",
   "metadata": {},
   "source": [
    "What you should know is that Jupyter has a client server model. The client is a webpage, the server runs in Python.\n",
    "To start the server and the client, just run `jupyter notebook` after running `setup`. Part of my virtual environment structure is one extra file `run.bat`, which runs the application being developed. In this case that would be the one-liner `jupyter notebook`.\n",
    "\n",
    "Once jupyter is started, in the client, open the notebook `ML1CreditCard.ipynb` from the  _project_ directory."
   ]
  },
  {
   "cell_type": "markdown",
   "id": "7987df00",
   "metadata": {},
   "source": [
    "## Random\n",
    "\n",
    "I struggled a lot with getting the code in the notebook to run reproducible (so that the notebook text can refer to values computed by functions).\n",
    "In the end, I found this [page](https://deeplizard.com/learn/video/HcW0DeWRggs), listing the random seeds to set.\n",
    "You can forget about this, it is only need when you want your notebook to have the same numbers each time you \"restart\"."
   ]
  },
  {
   "cell_type": "code",
   "execution_count": 1,
   "id": "b4c03f3a",
   "metadata": {},
   "outputs": [],
   "source": [
    "import os\n",
    "import numpy as np\n",
    "import tensorflow as tf\n",
    "import random as rn\n",
    "\n",
    "os.environ['PYTHONHASHSEED'] = '0' # necessary for any reproducibility for certain hash based algorithms\n",
    "os.environ['CUDA_VISIBLE_DEVICES'] = '' # avoid the non-determinism by forcing the CPU io multiple GPU cores\n",
    "\n",
    "np.random.seed(42) # any number will do as seed\n",
    "rn.seed(42) # any number will do as seed\n",
    "tf.random.set_seed(89) # any number will do as seed"
   ]
  },
  {
   "cell_type": "markdown",
   "id": "141a00e3",
   "metadata": {},
   "source": [
    "## Getting and probing the credit card data\n",
    "\n",
    "Download [Anonymized credit card transactions labeled as fraudulent or genuine](https://www.kaggle.com/mlg-ulb/creditcardfraud) from Kaggle. You get a single file `creditcard.csv` of 144 MB. Put it in the _project_ directory.\n",
    "\n",
    "Let's use Pandas to load the CSV file and inspect the first 5 rows.\n",
    "Pandas is a Python module for data manipulation; it offers support for manipulating tables (\"data frames\").\n",
    "Try shift-tab on e.g.`read_csv` to get its docstring."
   ]
  },
  {
   "cell_type": "code",
   "execution_count": 2,
   "id": "0d9b3002",
   "metadata": {},
   "outputs": [
    {
     "data": {
      "text/html": [
       "<div>\n",
       "<style scoped>\n",
       "    .dataframe tbody tr th:only-of-type {\n",
       "        vertical-align: middle;\n",
       "    }\n",
       "\n",
       "    .dataframe tbody tr th {\n",
       "        vertical-align: top;\n",
       "    }\n",
       "\n",
       "    .dataframe thead th {\n",
       "        text-align: right;\n",
       "    }\n",
       "</style>\n",
       "<table border=\"1\" class=\"dataframe\">\n",
       "  <thead>\n",
       "    <tr style=\"text-align: right;\">\n",
       "      <th></th>\n",
       "      <th>Time</th>\n",
       "      <th>V1</th>\n",
       "      <th>V2</th>\n",
       "      <th>V3</th>\n",
       "      <th>V4</th>\n",
       "      <th>V5</th>\n",
       "      <th>V6</th>\n",
       "      <th>V7</th>\n",
       "      <th>V8</th>\n",
       "      <th>V9</th>\n",
       "      <th>...</th>\n",
       "      <th>V21</th>\n",
       "      <th>V22</th>\n",
       "      <th>V23</th>\n",
       "      <th>V24</th>\n",
       "      <th>V25</th>\n",
       "      <th>V26</th>\n",
       "      <th>V27</th>\n",
       "      <th>V28</th>\n",
       "      <th>Amount</th>\n",
       "      <th>Class</th>\n",
       "    </tr>\n",
       "  </thead>\n",
       "  <tbody>\n",
       "    <tr>\n",
       "      <th>0</th>\n",
       "      <td>0.0</td>\n",
       "      <td>-1.359807</td>\n",
       "      <td>-0.072781</td>\n",
       "      <td>2.536347</td>\n",
       "      <td>1.378155</td>\n",
       "      <td>-0.338321</td>\n",
       "      <td>0.462388</td>\n",
       "      <td>0.239599</td>\n",
       "      <td>0.098698</td>\n",
       "      <td>0.363787</td>\n",
       "      <td>...</td>\n",
       "      <td>-0.018307</td>\n",
       "      <td>0.277838</td>\n",
       "      <td>-0.110474</td>\n",
       "      <td>0.066928</td>\n",
       "      <td>0.128539</td>\n",
       "      <td>-0.189115</td>\n",
       "      <td>0.133558</td>\n",
       "      <td>-0.021053</td>\n",
       "      <td>149.62</td>\n",
       "      <td>0</td>\n",
       "    </tr>\n",
       "    <tr>\n",
       "      <th>1</th>\n",
       "      <td>0.0</td>\n",
       "      <td>1.191857</td>\n",
       "      <td>0.266151</td>\n",
       "      <td>0.166480</td>\n",
       "      <td>0.448154</td>\n",
       "      <td>0.060018</td>\n",
       "      <td>-0.082361</td>\n",
       "      <td>-0.078803</td>\n",
       "      <td>0.085102</td>\n",
       "      <td>-0.255425</td>\n",
       "      <td>...</td>\n",
       "      <td>-0.225775</td>\n",
       "      <td>-0.638672</td>\n",
       "      <td>0.101288</td>\n",
       "      <td>-0.339846</td>\n",
       "      <td>0.167170</td>\n",
       "      <td>0.125895</td>\n",
       "      <td>-0.008983</td>\n",
       "      <td>0.014724</td>\n",
       "      <td>2.69</td>\n",
       "      <td>0</td>\n",
       "    </tr>\n",
       "    <tr>\n",
       "      <th>2</th>\n",
       "      <td>1.0</td>\n",
       "      <td>-1.358354</td>\n",
       "      <td>-1.340163</td>\n",
       "      <td>1.773209</td>\n",
       "      <td>0.379780</td>\n",
       "      <td>-0.503198</td>\n",
       "      <td>1.800499</td>\n",
       "      <td>0.791461</td>\n",
       "      <td>0.247676</td>\n",
       "      <td>-1.514654</td>\n",
       "      <td>...</td>\n",
       "      <td>0.247998</td>\n",
       "      <td>0.771679</td>\n",
       "      <td>0.909412</td>\n",
       "      <td>-0.689281</td>\n",
       "      <td>-0.327642</td>\n",
       "      <td>-0.139097</td>\n",
       "      <td>-0.055353</td>\n",
       "      <td>-0.059752</td>\n",
       "      <td>378.66</td>\n",
       "      <td>0</td>\n",
       "    </tr>\n",
       "    <tr>\n",
       "      <th>3</th>\n",
       "      <td>1.0</td>\n",
       "      <td>-0.966272</td>\n",
       "      <td>-0.185226</td>\n",
       "      <td>1.792993</td>\n",
       "      <td>-0.863291</td>\n",
       "      <td>-0.010309</td>\n",
       "      <td>1.247203</td>\n",
       "      <td>0.237609</td>\n",
       "      <td>0.377436</td>\n",
       "      <td>-1.387024</td>\n",
       "      <td>...</td>\n",
       "      <td>-0.108300</td>\n",
       "      <td>0.005274</td>\n",
       "      <td>-0.190321</td>\n",
       "      <td>-1.175575</td>\n",
       "      <td>0.647376</td>\n",
       "      <td>-0.221929</td>\n",
       "      <td>0.062723</td>\n",
       "      <td>0.061458</td>\n",
       "      <td>123.50</td>\n",
       "      <td>0</td>\n",
       "    </tr>\n",
       "    <tr>\n",
       "      <th>4</th>\n",
       "      <td>2.0</td>\n",
       "      <td>-1.158233</td>\n",
       "      <td>0.877737</td>\n",
       "      <td>1.548718</td>\n",
       "      <td>0.403034</td>\n",
       "      <td>-0.407193</td>\n",
       "      <td>0.095921</td>\n",
       "      <td>0.592941</td>\n",
       "      <td>-0.270533</td>\n",
       "      <td>0.817739</td>\n",
       "      <td>...</td>\n",
       "      <td>-0.009431</td>\n",
       "      <td>0.798278</td>\n",
       "      <td>-0.137458</td>\n",
       "      <td>0.141267</td>\n",
       "      <td>-0.206010</td>\n",
       "      <td>0.502292</td>\n",
       "      <td>0.219422</td>\n",
       "      <td>0.215153</td>\n",
       "      <td>69.99</td>\n",
       "      <td>0</td>\n",
       "    </tr>\n",
       "  </tbody>\n",
       "</table>\n",
       "<p>5 rows × 31 columns</p>\n",
       "</div>"
      ],
      "text/plain": [
       "   Time        V1        V2        V3        V4        V5        V6        V7  \\\n",
       "0   0.0 -1.359807 -0.072781  2.536347  1.378155 -0.338321  0.462388  0.239599   \n",
       "1   0.0  1.191857  0.266151  0.166480  0.448154  0.060018 -0.082361 -0.078803   \n",
       "2   1.0 -1.358354 -1.340163  1.773209  0.379780 -0.503198  1.800499  0.791461   \n",
       "3   1.0 -0.966272 -0.185226  1.792993 -0.863291 -0.010309  1.247203  0.237609   \n",
       "4   2.0 -1.158233  0.877737  1.548718  0.403034 -0.407193  0.095921  0.592941   \n",
       "\n",
       "         V8        V9  ...       V21       V22       V23       V24       V25  \\\n",
       "0  0.098698  0.363787  ... -0.018307  0.277838 -0.110474  0.066928  0.128539   \n",
       "1  0.085102 -0.255425  ... -0.225775 -0.638672  0.101288 -0.339846  0.167170   \n",
       "2  0.247676 -1.514654  ...  0.247998  0.771679  0.909412 -0.689281 -0.327642   \n",
       "3  0.377436 -1.387024  ... -0.108300  0.005274 -0.190321 -1.175575  0.647376   \n",
       "4 -0.270533  0.817739  ... -0.009431  0.798278 -0.137458  0.141267 -0.206010   \n",
       "\n",
       "        V26       V27       V28  Amount  Class  \n",
       "0 -0.189115  0.133558 -0.021053  149.62      0  \n",
       "1  0.125895 -0.008983  0.014724    2.69      0  \n",
       "2 -0.139097 -0.055353 -0.059752  378.66      0  \n",
       "3 -0.221929  0.062723  0.061458  123.50      0  \n",
       "4  0.502292  0.219422  0.215153   69.99      0  \n",
       "\n",
       "[5 rows x 31 columns]"
      ]
     },
     "execution_count": 2,
     "metadata": {},
     "output_type": "execute_result"
    }
   ],
   "source": [
    "import pandas as pd\n",
    "df = pd.read_csv(\"creditcard.csv\")\n",
    "df.head()"
   ]
  },
  {
   "cell_type": "markdown",
   "id": "1b5eea69",
   "metadata": {},
   "source": [
    "When we use scrollbar, we see that there are 31 _columns_ (attributes of the credit card transactions).\n",
    "The first is the `Time` column, presumably some time stamp (however, note the repeat in row 0 and 1 and row 2 and 3).\n",
    "Then there are 28 anonymous attributes (columns `V1` to `V28`). \n",
    "The last two columns are `Amount` and `Class`; the amount paid with the credit card and the classification: 0 for a genuine and 1 for a fraudulent transaction. The `Class` colums acts as the so-called _ground truth_ for that record.\n",
    "\n",
    "Concludingly, we have 30 \"input\" columns (`Time`, `V1`, ... `V28`, `Amount`) and 1 \"output\" column `Class`.\n",
    "\n",
    "Let's see how many transaction records we have."
   ]
  },
  {
   "cell_type": "code",
   "execution_count": 3,
   "id": "3f7607be",
   "metadata": {},
   "outputs": [
    {
     "data": {
      "text/plain": [
       "284807"
      ]
     },
     "execution_count": 3,
     "metadata": {},
     "output_type": "execute_result"
    }
   ],
   "source": [
    "len(df)"
   ]
  },
  {
   "cell_type": "code",
   "execution_count": 4,
   "id": "5c7e3e64",
   "metadata": {},
   "outputs": [
    {
     "data": {
      "text/html": [
       "<div>\n",
       "<style scoped>\n",
       "    .dataframe tbody tr th:only-of-type {\n",
       "        vertical-align: middle;\n",
       "    }\n",
       "\n",
       "    .dataframe tbody tr th {\n",
       "        vertical-align: top;\n",
       "    }\n",
       "\n",
       "    .dataframe thead th {\n",
       "        text-align: right;\n",
       "    }\n",
       "</style>\n",
       "<table border=\"1\" class=\"dataframe\">\n",
       "  <thead>\n",
       "    <tr style=\"text-align: right;\">\n",
       "      <th></th>\n",
       "      <th>Time</th>\n",
       "      <th>V1</th>\n",
       "      <th>V2</th>\n",
       "      <th>V3</th>\n",
       "      <th>V4</th>\n",
       "      <th>V5</th>\n",
       "      <th>V6</th>\n",
       "      <th>V7</th>\n",
       "      <th>V8</th>\n",
       "      <th>V9</th>\n",
       "      <th>...</th>\n",
       "      <th>V21</th>\n",
       "      <th>V22</th>\n",
       "      <th>V23</th>\n",
       "      <th>V24</th>\n",
       "      <th>V25</th>\n",
       "      <th>V26</th>\n",
       "      <th>V27</th>\n",
       "      <th>V28</th>\n",
       "      <th>Amount</th>\n",
       "      <th>Class</th>\n",
       "    </tr>\n",
       "  </thead>\n",
       "  <tbody>\n",
       "    <tr>\n",
       "      <th>284802</th>\n",
       "      <td>172786.0</td>\n",
       "      <td>-11.881118</td>\n",
       "      <td>10.071785</td>\n",
       "      <td>-9.834783</td>\n",
       "      <td>-2.066656</td>\n",
       "      <td>-5.364473</td>\n",
       "      <td>-2.606837</td>\n",
       "      <td>-4.918215</td>\n",
       "      <td>7.305334</td>\n",
       "      <td>1.914428</td>\n",
       "      <td>...</td>\n",
       "      <td>0.213454</td>\n",
       "      <td>0.111864</td>\n",
       "      <td>1.014480</td>\n",
       "      <td>-0.509348</td>\n",
       "      <td>1.436807</td>\n",
       "      <td>0.250034</td>\n",
       "      <td>0.943651</td>\n",
       "      <td>0.823731</td>\n",
       "      <td>0.77</td>\n",
       "      <td>0</td>\n",
       "    </tr>\n",
       "    <tr>\n",
       "      <th>284803</th>\n",
       "      <td>172787.0</td>\n",
       "      <td>-0.732789</td>\n",
       "      <td>-0.055080</td>\n",
       "      <td>2.035030</td>\n",
       "      <td>-0.738589</td>\n",
       "      <td>0.868229</td>\n",
       "      <td>1.058415</td>\n",
       "      <td>0.024330</td>\n",
       "      <td>0.294869</td>\n",
       "      <td>0.584800</td>\n",
       "      <td>...</td>\n",
       "      <td>0.214205</td>\n",
       "      <td>0.924384</td>\n",
       "      <td>0.012463</td>\n",
       "      <td>-1.016226</td>\n",
       "      <td>-0.606624</td>\n",
       "      <td>-0.395255</td>\n",
       "      <td>0.068472</td>\n",
       "      <td>-0.053527</td>\n",
       "      <td>24.79</td>\n",
       "      <td>0</td>\n",
       "    </tr>\n",
       "    <tr>\n",
       "      <th>284804</th>\n",
       "      <td>172788.0</td>\n",
       "      <td>1.919565</td>\n",
       "      <td>-0.301254</td>\n",
       "      <td>-3.249640</td>\n",
       "      <td>-0.557828</td>\n",
       "      <td>2.630515</td>\n",
       "      <td>3.031260</td>\n",
       "      <td>-0.296827</td>\n",
       "      <td>0.708417</td>\n",
       "      <td>0.432454</td>\n",
       "      <td>...</td>\n",
       "      <td>0.232045</td>\n",
       "      <td>0.578229</td>\n",
       "      <td>-0.037501</td>\n",
       "      <td>0.640134</td>\n",
       "      <td>0.265745</td>\n",
       "      <td>-0.087371</td>\n",
       "      <td>0.004455</td>\n",
       "      <td>-0.026561</td>\n",
       "      <td>67.88</td>\n",
       "      <td>0</td>\n",
       "    </tr>\n",
       "    <tr>\n",
       "      <th>284805</th>\n",
       "      <td>172788.0</td>\n",
       "      <td>-0.240440</td>\n",
       "      <td>0.530483</td>\n",
       "      <td>0.702510</td>\n",
       "      <td>0.689799</td>\n",
       "      <td>-0.377961</td>\n",
       "      <td>0.623708</td>\n",
       "      <td>-0.686180</td>\n",
       "      <td>0.679145</td>\n",
       "      <td>0.392087</td>\n",
       "      <td>...</td>\n",
       "      <td>0.265245</td>\n",
       "      <td>0.800049</td>\n",
       "      <td>-0.163298</td>\n",
       "      <td>0.123205</td>\n",
       "      <td>-0.569159</td>\n",
       "      <td>0.546668</td>\n",
       "      <td>0.108821</td>\n",
       "      <td>0.104533</td>\n",
       "      <td>10.00</td>\n",
       "      <td>0</td>\n",
       "    </tr>\n",
       "    <tr>\n",
       "      <th>284806</th>\n",
       "      <td>172792.0</td>\n",
       "      <td>-0.533413</td>\n",
       "      <td>-0.189733</td>\n",
       "      <td>0.703337</td>\n",
       "      <td>-0.506271</td>\n",
       "      <td>-0.012546</td>\n",
       "      <td>-0.649617</td>\n",
       "      <td>1.577006</td>\n",
       "      <td>-0.414650</td>\n",
       "      <td>0.486180</td>\n",
       "      <td>...</td>\n",
       "      <td>0.261057</td>\n",
       "      <td>0.643078</td>\n",
       "      <td>0.376777</td>\n",
       "      <td>0.008797</td>\n",
       "      <td>-0.473649</td>\n",
       "      <td>-0.818267</td>\n",
       "      <td>-0.002415</td>\n",
       "      <td>0.013649</td>\n",
       "      <td>217.00</td>\n",
       "      <td>0</td>\n",
       "    </tr>\n",
       "  </tbody>\n",
       "</table>\n",
       "<p>5 rows × 31 columns</p>\n",
       "</div>"
      ],
      "text/plain": [
       "            Time         V1         V2        V3        V4        V5  \\\n",
       "284802  172786.0 -11.881118  10.071785 -9.834783 -2.066656 -5.364473   \n",
       "284803  172787.0  -0.732789  -0.055080  2.035030 -0.738589  0.868229   \n",
       "284804  172788.0   1.919565  -0.301254 -3.249640 -0.557828  2.630515   \n",
       "284805  172788.0  -0.240440   0.530483  0.702510  0.689799 -0.377961   \n",
       "284806  172792.0  -0.533413  -0.189733  0.703337 -0.506271 -0.012546   \n",
       "\n",
       "              V6        V7        V8        V9  ...       V21       V22  \\\n",
       "284802 -2.606837 -4.918215  7.305334  1.914428  ...  0.213454  0.111864   \n",
       "284803  1.058415  0.024330  0.294869  0.584800  ...  0.214205  0.924384   \n",
       "284804  3.031260 -0.296827  0.708417  0.432454  ...  0.232045  0.578229   \n",
       "284805  0.623708 -0.686180  0.679145  0.392087  ...  0.265245  0.800049   \n",
       "284806 -0.649617  1.577006 -0.414650  0.486180  ...  0.261057  0.643078   \n",
       "\n",
       "             V23       V24       V25       V26       V27       V28  Amount  \\\n",
       "284802  1.014480 -0.509348  1.436807  0.250034  0.943651  0.823731    0.77   \n",
       "284803  0.012463 -1.016226 -0.606624 -0.395255  0.068472 -0.053527   24.79   \n",
       "284804 -0.037501  0.640134  0.265745 -0.087371  0.004455 -0.026561   67.88   \n",
       "284805 -0.163298  0.123205 -0.569159  0.546668  0.108821  0.104533   10.00   \n",
       "284806  0.376777  0.008797 -0.473649 -0.818267 -0.002415  0.013649  217.00   \n",
       "\n",
       "        Class  \n",
       "284802      0  \n",
       "284803      0  \n",
       "284804      0  \n",
       "284805      0  \n",
       "284806      0  \n",
       "\n",
       "[5 rows x 31 columns]"
      ]
     },
     "execution_count": 4,
     "metadata": {},
     "output_type": "execute_result"
    }
   ],
   "source": [
    "df.tail()"
   ]
  },
  {
   "cell_type": "markdown",
   "id": "dec59027",
   "metadata": {},
   "source": [
    "The number of records reported by the two methods is consistent: 284807. \n",
    "\n",
    "Let's plot the `Time` column. Note that there are two ways to get a column in Pandas: an explicit lookup `df[\"Time\"].plot()`, or the shorthand `df.Time.plot()`. \n",
    "\n",
    "If the last line of a Jupyter cell is an expression (e.g. the name of a variable), Jupyter will display that variable without the need for a print statement. A trailing `;` suppresses that print."
   ]
  },
  {
   "cell_type": "code",
   "execution_count": 5,
   "id": "77d1eca4",
   "metadata": {},
   "outputs": [
    {
     "data": {
      "image/png": "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\n",
      "text/plain": [
       "<Figure size 432x288 with 1 Axes>"
      ]
     },
     "metadata": {
      "needs_background": "light"
     },
     "output_type": "display_data"
    }
   ],
   "source": [
    "df.Time.plot();"
   ]
  },
  {
   "cell_type": "markdown",
   "id": "0f91b495",
   "metadata": {},
   "source": [
    "Pandas also has a handy `describe()` method that applies some basic statistical analysis on a dataframe."
   ]
  },
  {
   "cell_type": "code",
   "execution_count": 6,
   "id": "633c471e",
   "metadata": {},
   "outputs": [
    {
     "data": {
      "text/html": [
       "<div>\n",
       "<style scoped>\n",
       "    .dataframe tbody tr th:only-of-type {\n",
       "        vertical-align: middle;\n",
       "    }\n",
       "\n",
       "    .dataframe tbody tr th {\n",
       "        vertical-align: top;\n",
       "    }\n",
       "\n",
       "    .dataframe thead th {\n",
       "        text-align: right;\n",
       "    }\n",
       "</style>\n",
       "<table border=\"1\" class=\"dataframe\">\n",
       "  <thead>\n",
       "    <tr style=\"text-align: right;\">\n",
       "      <th></th>\n",
       "      <th>Time</th>\n",
       "      <th>V1</th>\n",
       "      <th>V2</th>\n",
       "      <th>V3</th>\n",
       "      <th>V4</th>\n",
       "      <th>V5</th>\n",
       "      <th>V6</th>\n",
       "      <th>V7</th>\n",
       "      <th>V8</th>\n",
       "      <th>V9</th>\n",
       "      <th>...</th>\n",
       "      <th>V21</th>\n",
       "      <th>V22</th>\n",
       "      <th>V23</th>\n",
       "      <th>V24</th>\n",
       "      <th>V25</th>\n",
       "      <th>V26</th>\n",
       "      <th>V27</th>\n",
       "      <th>V28</th>\n",
       "      <th>Amount</th>\n",
       "      <th>Class</th>\n",
       "    </tr>\n",
       "  </thead>\n",
       "  <tbody>\n",
       "    <tr>\n",
       "      <th>count</th>\n",
       "      <td>284807.000000</td>\n",
       "      <td>2.848070e+05</td>\n",
       "      <td>2.848070e+05</td>\n",
       "      <td>2.848070e+05</td>\n",
       "      <td>2.848070e+05</td>\n",
       "      <td>2.848070e+05</td>\n",
       "      <td>2.848070e+05</td>\n",
       "      <td>2.848070e+05</td>\n",
       "      <td>2.848070e+05</td>\n",
       "      <td>2.848070e+05</td>\n",
       "      <td>...</td>\n",
       "      <td>2.848070e+05</td>\n",
       "      <td>2.848070e+05</td>\n",
       "      <td>2.848070e+05</td>\n",
       "      <td>2.848070e+05</td>\n",
       "      <td>2.848070e+05</td>\n",
       "      <td>2.848070e+05</td>\n",
       "      <td>2.848070e+05</td>\n",
       "      <td>2.848070e+05</td>\n",
       "      <td>284807.000000</td>\n",
       "      <td>284807.000000</td>\n",
       "    </tr>\n",
       "    <tr>\n",
       "      <th>mean</th>\n",
       "      <td>94813.859575</td>\n",
       "      <td>1.168375e-15</td>\n",
       "      <td>3.416908e-16</td>\n",
       "      <td>-1.379537e-15</td>\n",
       "      <td>2.074095e-15</td>\n",
       "      <td>9.604066e-16</td>\n",
       "      <td>1.487313e-15</td>\n",
       "      <td>-5.556467e-16</td>\n",
       "      <td>1.213481e-16</td>\n",
       "      <td>-2.406331e-15</td>\n",
       "      <td>...</td>\n",
       "      <td>1.654067e-16</td>\n",
       "      <td>-3.568593e-16</td>\n",
       "      <td>2.578648e-16</td>\n",
       "      <td>4.473266e-15</td>\n",
       "      <td>5.340915e-16</td>\n",
       "      <td>1.683437e-15</td>\n",
       "      <td>-3.660091e-16</td>\n",
       "      <td>-1.227390e-16</td>\n",
       "      <td>88.349619</td>\n",
       "      <td>0.001727</td>\n",
       "    </tr>\n",
       "    <tr>\n",
       "      <th>std</th>\n",
       "      <td>47488.145955</td>\n",
       "      <td>1.958696e+00</td>\n",
       "      <td>1.651309e+00</td>\n",
       "      <td>1.516255e+00</td>\n",
       "      <td>1.415869e+00</td>\n",
       "      <td>1.380247e+00</td>\n",
       "      <td>1.332271e+00</td>\n",
       "      <td>1.237094e+00</td>\n",
       "      <td>1.194353e+00</td>\n",
       "      <td>1.098632e+00</td>\n",
       "      <td>...</td>\n",
       "      <td>7.345240e-01</td>\n",
       "      <td>7.257016e-01</td>\n",
       "      <td>6.244603e-01</td>\n",
       "      <td>6.056471e-01</td>\n",
       "      <td>5.212781e-01</td>\n",
       "      <td>4.822270e-01</td>\n",
       "      <td>4.036325e-01</td>\n",
       "      <td>3.300833e-01</td>\n",
       "      <td>250.120109</td>\n",
       "      <td>0.041527</td>\n",
       "    </tr>\n",
       "    <tr>\n",
       "      <th>min</th>\n",
       "      <td>0.000000</td>\n",
       "      <td>-5.640751e+01</td>\n",
       "      <td>-7.271573e+01</td>\n",
       "      <td>-4.832559e+01</td>\n",
       "      <td>-5.683171e+00</td>\n",
       "      <td>-1.137433e+02</td>\n",
       "      <td>-2.616051e+01</td>\n",
       "      <td>-4.355724e+01</td>\n",
       "      <td>-7.321672e+01</td>\n",
       "      <td>-1.343407e+01</td>\n",
       "      <td>...</td>\n",
       "      <td>-3.483038e+01</td>\n",
       "      <td>-1.093314e+01</td>\n",
       "      <td>-4.480774e+01</td>\n",
       "      <td>-2.836627e+00</td>\n",
       "      <td>-1.029540e+01</td>\n",
       "      <td>-2.604551e+00</td>\n",
       "      <td>-2.256568e+01</td>\n",
       "      <td>-1.543008e+01</td>\n",
       "      <td>0.000000</td>\n",
       "      <td>0.000000</td>\n",
       "    </tr>\n",
       "    <tr>\n",
       "      <th>25%</th>\n",
       "      <td>54201.500000</td>\n",
       "      <td>-9.203734e-01</td>\n",
       "      <td>-5.985499e-01</td>\n",
       "      <td>-8.903648e-01</td>\n",
       "      <td>-8.486401e-01</td>\n",
       "      <td>-6.915971e-01</td>\n",
       "      <td>-7.682956e-01</td>\n",
       "      <td>-5.540759e-01</td>\n",
       "      <td>-2.086297e-01</td>\n",
       "      <td>-6.430976e-01</td>\n",
       "      <td>...</td>\n",
       "      <td>-2.283949e-01</td>\n",
       "      <td>-5.423504e-01</td>\n",
       "      <td>-1.618463e-01</td>\n",
       "      <td>-3.545861e-01</td>\n",
       "      <td>-3.171451e-01</td>\n",
       "      <td>-3.269839e-01</td>\n",
       "      <td>-7.083953e-02</td>\n",
       "      <td>-5.295979e-02</td>\n",
       "      <td>5.600000</td>\n",
       "      <td>0.000000</td>\n",
       "    </tr>\n",
       "    <tr>\n",
       "      <th>50%</th>\n",
       "      <td>84692.000000</td>\n",
       "      <td>1.810880e-02</td>\n",
       "      <td>6.548556e-02</td>\n",
       "      <td>1.798463e-01</td>\n",
       "      <td>-1.984653e-02</td>\n",
       "      <td>-5.433583e-02</td>\n",
       "      <td>-2.741871e-01</td>\n",
       "      <td>4.010308e-02</td>\n",
       "      <td>2.235804e-02</td>\n",
       "      <td>-5.142873e-02</td>\n",
       "      <td>...</td>\n",
       "      <td>-2.945017e-02</td>\n",
       "      <td>6.781943e-03</td>\n",
       "      <td>-1.119293e-02</td>\n",
       "      <td>4.097606e-02</td>\n",
       "      <td>1.659350e-02</td>\n",
       "      <td>-5.213911e-02</td>\n",
       "      <td>1.342146e-03</td>\n",
       "      <td>1.124383e-02</td>\n",
       "      <td>22.000000</td>\n",
       "      <td>0.000000</td>\n",
       "    </tr>\n",
       "    <tr>\n",
       "      <th>75%</th>\n",
       "      <td>139320.500000</td>\n",
       "      <td>1.315642e+00</td>\n",
       "      <td>8.037239e-01</td>\n",
       "      <td>1.027196e+00</td>\n",
       "      <td>7.433413e-01</td>\n",
       "      <td>6.119264e-01</td>\n",
       "      <td>3.985649e-01</td>\n",
       "      <td>5.704361e-01</td>\n",
       "      <td>3.273459e-01</td>\n",
       "      <td>5.971390e-01</td>\n",
       "      <td>...</td>\n",
       "      <td>1.863772e-01</td>\n",
       "      <td>5.285536e-01</td>\n",
       "      <td>1.476421e-01</td>\n",
       "      <td>4.395266e-01</td>\n",
       "      <td>3.507156e-01</td>\n",
       "      <td>2.409522e-01</td>\n",
       "      <td>9.104512e-02</td>\n",
       "      <td>7.827995e-02</td>\n",
       "      <td>77.165000</td>\n",
       "      <td>0.000000</td>\n",
       "    </tr>\n",
       "    <tr>\n",
       "      <th>max</th>\n",
       "      <td>172792.000000</td>\n",
       "      <td>2.454930e+00</td>\n",
       "      <td>2.205773e+01</td>\n",
       "      <td>9.382558e+00</td>\n",
       "      <td>1.687534e+01</td>\n",
       "      <td>3.480167e+01</td>\n",
       "      <td>7.330163e+01</td>\n",
       "      <td>1.205895e+02</td>\n",
       "      <td>2.000721e+01</td>\n",
       "      <td>1.559499e+01</td>\n",
       "      <td>...</td>\n",
       "      <td>2.720284e+01</td>\n",
       "      <td>1.050309e+01</td>\n",
       "      <td>2.252841e+01</td>\n",
       "      <td>4.584549e+00</td>\n",
       "      <td>7.519589e+00</td>\n",
       "      <td>3.517346e+00</td>\n",
       "      <td>3.161220e+01</td>\n",
       "      <td>3.384781e+01</td>\n",
       "      <td>25691.160000</td>\n",
       "      <td>1.000000</td>\n",
       "    </tr>\n",
       "  </tbody>\n",
       "</table>\n",
       "<p>8 rows × 31 columns</p>\n",
       "</div>"
      ],
      "text/plain": [
       "                Time            V1            V2            V3            V4  \\\n",
       "count  284807.000000  2.848070e+05  2.848070e+05  2.848070e+05  2.848070e+05   \n",
       "mean    94813.859575  1.168375e-15  3.416908e-16 -1.379537e-15  2.074095e-15   \n",
       "std     47488.145955  1.958696e+00  1.651309e+00  1.516255e+00  1.415869e+00   \n",
       "min         0.000000 -5.640751e+01 -7.271573e+01 -4.832559e+01 -5.683171e+00   \n",
       "25%     54201.500000 -9.203734e-01 -5.985499e-01 -8.903648e-01 -8.486401e-01   \n",
       "50%     84692.000000  1.810880e-02  6.548556e-02  1.798463e-01 -1.984653e-02   \n",
       "75%    139320.500000  1.315642e+00  8.037239e-01  1.027196e+00  7.433413e-01   \n",
       "max    172792.000000  2.454930e+00  2.205773e+01  9.382558e+00  1.687534e+01   \n",
       "\n",
       "                 V5            V6            V7            V8            V9  \\\n",
       "count  2.848070e+05  2.848070e+05  2.848070e+05  2.848070e+05  2.848070e+05   \n",
       "mean   9.604066e-16  1.487313e-15 -5.556467e-16  1.213481e-16 -2.406331e-15   \n",
       "std    1.380247e+00  1.332271e+00  1.237094e+00  1.194353e+00  1.098632e+00   \n",
       "min   -1.137433e+02 -2.616051e+01 -4.355724e+01 -7.321672e+01 -1.343407e+01   \n",
       "25%   -6.915971e-01 -7.682956e-01 -5.540759e-01 -2.086297e-01 -6.430976e-01   \n",
       "50%   -5.433583e-02 -2.741871e-01  4.010308e-02  2.235804e-02 -5.142873e-02   \n",
       "75%    6.119264e-01  3.985649e-01  5.704361e-01  3.273459e-01  5.971390e-01   \n",
       "max    3.480167e+01  7.330163e+01  1.205895e+02  2.000721e+01  1.559499e+01   \n",
       "\n",
       "       ...           V21           V22           V23           V24  \\\n",
       "count  ...  2.848070e+05  2.848070e+05  2.848070e+05  2.848070e+05   \n",
       "mean   ...  1.654067e-16 -3.568593e-16  2.578648e-16  4.473266e-15   \n",
       "std    ...  7.345240e-01  7.257016e-01  6.244603e-01  6.056471e-01   \n",
       "min    ... -3.483038e+01 -1.093314e+01 -4.480774e+01 -2.836627e+00   \n",
       "25%    ... -2.283949e-01 -5.423504e-01 -1.618463e-01 -3.545861e-01   \n",
       "50%    ... -2.945017e-02  6.781943e-03 -1.119293e-02  4.097606e-02   \n",
       "75%    ...  1.863772e-01  5.285536e-01  1.476421e-01  4.395266e-01   \n",
       "max    ...  2.720284e+01  1.050309e+01  2.252841e+01  4.584549e+00   \n",
       "\n",
       "                V25           V26           V27           V28         Amount  \\\n",
       "count  2.848070e+05  2.848070e+05  2.848070e+05  2.848070e+05  284807.000000   \n",
       "mean   5.340915e-16  1.683437e-15 -3.660091e-16 -1.227390e-16      88.349619   \n",
       "std    5.212781e-01  4.822270e-01  4.036325e-01  3.300833e-01     250.120109   \n",
       "min   -1.029540e+01 -2.604551e+00 -2.256568e+01 -1.543008e+01       0.000000   \n",
       "25%   -3.171451e-01 -3.269839e-01 -7.083953e-02 -5.295979e-02       5.600000   \n",
       "50%    1.659350e-02 -5.213911e-02  1.342146e-03  1.124383e-02      22.000000   \n",
       "75%    3.507156e-01  2.409522e-01  9.104512e-02  7.827995e-02      77.165000   \n",
       "max    7.519589e+00  3.517346e+00  3.161220e+01  3.384781e+01   25691.160000   \n",
       "\n",
       "               Class  \n",
       "count  284807.000000  \n",
       "mean        0.001727  \n",
       "std         0.041527  \n",
       "min         0.000000  \n",
       "25%         0.000000  \n",
       "50%         0.000000  \n",
       "75%         0.000000  \n",
       "max         1.000000  \n",
       "\n",
       "[8 rows x 31 columns]"
      ]
     },
     "execution_count": 6,
     "metadata": {},
     "output_type": "execute_result"
    }
   ],
   "source": [
    "df.describe()"
   ]
  },
  {
   "cell_type": "markdown",
   "id": "f15a7a43",
   "metadata": {},
   "source": [
    "If we scroll to the right, we see that the `max(Class)` is 1, `min(Class)` is 0 and no other values (see 25%, 50% and 75% quadrants) seem present. Let's confirm that with the histogram of `Class`. Recall, the trailing `;` suppresses textual output."
   ]
  },
  {
   "cell_type": "code",
   "execution_count": 7,
   "id": "855957d1",
   "metadata": {},
   "outputs": [
    {
     "data": {
      "image/png": "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\n",
      "text/plain": [
       "<Figure size 432x288 with 1 Axes>"
      ]
     },
     "metadata": {
      "needs_background": "light"
     },
     "output_type": "display_data"
    }
   ],
   "source": [
    "df[\"Class\"].hist(bins=50, log=True);"
   ]
  },
  {
   "cell_type": "markdown",
   "id": "0556de02",
   "metadata": {},
   "source": [
    "I plotted the histogram using log y-axis, because the count of 1's is small compared to the count of 0's. How small?"
   ]
  },
  {
   "cell_type": "code",
   "execution_count": 8,
   "id": "22ade600",
   "metadata": {},
   "outputs": [
    {
     "data": {
      "text/plain": [
       "492"
      ]
     },
     "execution_count": 8,
     "metadata": {},
     "output_type": "execute_result"
    }
   ],
   "source": [
    "df[\"Class\"].sum()"
   ]
  },
  {
   "cell_type": "markdown",
   "id": "693c1f80",
   "metadata": {},
   "source": [
    "This means that 492 transactions were fraudulent (of a quarter of a million, so 0.17%)."
   ]
  },
  {
   "cell_type": "markdown",
   "id": "3be4a9e1",
   "metadata": {},
   "source": [
    "I wanted to be absolutely sure that 0 and 1 are the only values occuring in `Class`. I did not know any other solution than simply looping..."
   ]
  },
  {
   "cell_type": "code",
   "execution_count": 9,
   "id": "1942ff81",
   "metadata": {},
   "outputs": [
    {
     "name": "stdout",
     "output_type": "stream",
     "text": [
      "#0=284315, #1=492, #rest=0, #all=284807\n"
     ]
    }
   ],
   "source": [
    "c0 = 0\n",
    "c1 = 0\n",
    "cx = 0\n",
    "for v in df[\"Class\"]:\n",
    "    if v==0 : c0+=1\n",
    "    elif v==1 : c1+=1\n",
    "    else : cx+=1\n",
    "print( f\"#0={c0}, #1={c1}, #rest={cx}, #all={c0+c1+cx}\")"
   ]
  },
  {
   "cell_type": "markdown",
   "id": "a332c50a",
   "metadata": {},
   "source": [
    "In the meantime I found better solutions. First of all, the method `nunique()` returns the number of unique values."
   ]
  },
  {
   "cell_type": "code",
   "execution_count": 10,
   "id": "f06cbafc",
   "metadata": {},
   "outputs": [
    {
     "data": {
      "text/plain": [
       "2"
      ]
     },
     "execution_count": 10,
     "metadata": {},
     "output_type": "execute_result"
    }
   ],
   "source": [
    "df[\"Class\"].nunique()"
   ]
  },
  {
   "cell_type": "markdown",
   "id": "255b3f82",
   "metadata": {},
   "source": [
    "Even better, `value_counts()` even reports the values!"
   ]
  },
  {
   "cell_type": "code",
   "execution_count": 11,
   "id": "5820cbde",
   "metadata": {},
   "outputs": [
    {
     "data": {
      "text/plain": [
       "0    284315\n",
       "1       492\n",
       "Name: Class, dtype: int64"
      ]
     },
     "execution_count": 11,
     "metadata": {},
     "output_type": "execute_result"
    }
   ],
   "source": [
    "df['Class'].value_counts()"
   ]
  },
  {
   "cell_type": "markdown",
   "id": "d8c62afa",
   "metadata": {},
   "source": [
    "## Preparing the credit card data for training\n",
    "\n",
    "We follow the naming convention for machine learning that `x` are the input records, and `y` is the (expected) output for each record. We copy the data from pandas to numpy, splitting off the `Class` (\"output\") column to `y`, all other (\"input\") columns will go to `x`.\n",
    "\n",
    "For some reason `to_numpy()` picks `int` as datatype for the Class column, and machine learning wants floats, so we perform an explicit cast. We check the `y` slice 500-600; there is one fraudulent transaction (second row, 8th number)."
   ]
  },
  {
   "cell_type": "code",
   "execution_count": 12,
   "id": "17f44d91",
   "metadata": {},
   "outputs": [
    {
     "data": {
      "text/plain": [
       "array([0., 0., 0., 0., 0., 0., 0., 0., 0., 0., 0., 0., 0., 0., 0., 0., 0.,\n",
       "       0., 0., 0., 0., 0., 0., 0., 0., 0., 0., 0., 0., 0., 0., 0., 0., 0.,\n",
       "       0., 0., 0., 0., 0., 0., 0., 1., 0., 0., 0., 0., 0., 0., 0., 0., 0.,\n",
       "       0., 0., 0., 0., 0., 0., 0., 0., 0., 0., 0., 0., 0., 0., 0., 0., 0.,\n",
       "       0., 0., 0., 0., 0., 0., 0., 0., 0., 0., 0., 0., 0., 0., 0., 0., 0.,\n",
       "       0., 0., 0., 0., 0., 0., 0., 0., 0., 0., 0., 0., 0., 0., 0.],\n",
       "      dtype=float32)"
      ]
     },
     "execution_count": 12,
     "metadata": {},
     "output_type": "execute_result"
    }
   ],
   "source": [
    "y = df['Class'].to_numpy().astype(np.float32)\n",
    "y[500:600]"
   ]
  },
  {
   "cell_type": "markdown",
   "id": "163496fe",
   "metadata": {},
   "source": [
    "To get the remaining columns in `x` we use the `drop` method. Here the `to_numpy()` returns `numpy.float64`, and again we want `float32`. We check record 0; the print out has 4 colums of 7 plus 2 numbers; that is 30 numbers. So indeed we dropped one. The last column of `x[0]` is `1.4962e+02`, or 149.62; this is the \"amount\" which we also found in our very first table `df.head()`."
   ]
  },
  {
   "cell_type": "code",
   "execution_count": 13,
   "id": "e4d26b01",
   "metadata": {},
   "outputs": [
    {
     "data": {
      "text/plain": [
       "array([ 0.0000000e+00, -1.3598071e+00, -7.2781175e-02,  2.5363467e+00,\n",
       "        1.3781552e+00, -3.3832076e-01,  4.6238777e-01,  2.3959856e-01,\n",
       "        9.8697901e-02,  3.6378697e-01,  9.0794168e-02, -5.5159956e-01,\n",
       "       -6.1780083e-01, -9.9138987e-01, -3.1116936e-01,  1.4681770e+00,\n",
       "       -4.7040051e-01,  2.0797125e-01,  2.5790580e-02,  4.0399295e-01,\n",
       "        2.5141209e-01, -1.8306779e-02,  2.7783757e-01, -1.1047391e-01,\n",
       "        6.6928074e-02,  1.2853935e-01, -1.8911484e-01,  1.3355838e-01,\n",
       "       -2.1053053e-02,  1.4962000e+02], dtype=float32)"
      ]
     },
     "execution_count": 13,
     "metadata": {},
     "output_type": "execute_result"
    }
   ],
   "source": [
    "x = df.drop(columns='Class').to_numpy().astype(np.float32)\n",
    "x[0]"
   ]
  },
  {
   "cell_type": "markdown",
   "id": "48f76d56",
   "metadata": {},
   "source": [
    "It seems good practice to _normalize_ the data, and John uses `RobustScaler().fit_transform(x)` for that. I guess this redistributes the values of each column to be in a manageable range since ML training likes that. Let us plot the histogram of column 0 (using the slice `x[:,0]`) before we do the normalization."
   ]
  },
  {
   "cell_type": "code",
   "execution_count": 14,
   "id": "adbd905e",
   "metadata": {},
   "outputs": [
    {
     "data": {
      "image/png": "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\n",
      "text/plain": [
       "<Figure size 432x288 with 1 Axes>"
      ]
     },
     "metadata": {
      "needs_background": "light"
     },
     "output_type": "display_data"
    }
   ],
   "source": [
    "import matplotlib.pyplot as plt\n",
    "plt.hist(x[:,0], bins=100);\n"
   ]
  },
  {
   "cell_type": "markdown",
   "id": "ebe6e119",
   "metadata": {},
   "source": [
    "Let us then normalize and plot column 0 again. We see that the shape is retained, but the x-values have been normalized to -1 .. +1. See [here](https://scikit-learn.org/stable/auto_examples/preprocessing/plot_all_scaling.html) details on the scaler."
   ]
  },
  {
   "cell_type": "code",
   "execution_count": 15,
   "id": "7099e695",
   "metadata": {},
   "outputs": [
    {
     "data": {
      "image/png": "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\n",
      "text/plain": [
       "<Figure size 432x288 with 1 Axes>"
      ]
     },
     "metadata": {
      "needs_background": "light"
     },
     "output_type": "display_data"
    }
   ],
   "source": [
    "from sklearn.preprocessing import RobustScaler\n",
    "x = RobustScaler().fit_transform(x)\n",
    "plt.hist(x[:,0], bins=100);"
   ]
  },
  {
   "cell_type": "markdown",
   "id": "e77f2d11",
   "metadata": {},
   "source": [
    "# Splitting data for train and test"
   ]
  },
  {
   "cell_type": "markdown",
   "id": "509a87fa",
   "metadata": {},
   "source": [
    "Next step is to split the available records in records for _training_ and records for _testing_ (needed after training is completed). Of course, the splitting needs to keep the x-records (inputs) together with the y-records (output). \n",
    "\n",
    "There is an easy function for that in `sklearn` package: `train_test_split`. However, this function shuffles the data, which means that each run of this notebook, the (training) outcome is different. I don't want that. \n"
   ]
  },
  {
   "cell_type": "code",
   "execution_count": 16,
   "id": "6c3a3c69",
   "metadata": {},
   "outputs": [],
   "source": [
    "from sklearn.model_selection import train_test_split"
   ]
  },
  {
   "cell_type": "markdown",
   "id": "dc405d9c",
   "metadata": {},
   "source": [
    "To understand which values `train_test_split` takes, I wrote the `plot2` function. It overlays a graph (connected points) of `y1` with the points `y2`. We test it on a simple parabole. Note, `plot2` first sorts the values to plot (so that the \"connected points\" - lines between the consecutive points - works)."
   ]
  },
  {
   "cell_type": "code",
   "execution_count": 17,
   "id": "53c22d5d",
   "metadata": {},
   "outputs": [
    {
     "data": {
      "image/png": "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\n",
      "text/plain": [
       "<Figure size 432x288 with 1 Axes>"
      ]
     },
     "metadata": {
      "needs_background": "light"
     },
     "output_type": "display_data"
    }
   ],
   "source": [
    "def plot2(y1,y2) :\n",
    "    y1 = np.sort(y1)\n",
    "    x1 = range(len(y1))\n",
    "    y2 = np.sort(y2)\n",
    "    # y2 is a subset of y1, find the matching x's\n",
    "    x2 = []\n",
    "    i1 = 0\n",
    "    i2 = 0\n",
    "    while i2<len(y2) :\n",
    "        while y1[i1]<y2[i2] : i1+=1\n",
    "        x2.append(x1[i1])\n",
    "        i2+=1\n",
    "        i1+=1\n",
    "    plt.plot(x1,y1)\n",
    "    plt.plot(x2,y2,c='red' ,marker='o',markersize=2,linewidth=0)\n",
    "\n",
    "plot2( [0,1,4,9,16,25,36,49,64,81,100] , [0,1,9,16,64,81] )"
   ]
  },
  {
   "cell_type": "markdown",
   "id": "b39dafb7",
   "metadata": {},
   "source": [
    "We now use `plot2()` on the \"Time\" column to see what `shuffle` means in `train_test_split()`. First we spilt of 10% without shuffle."
   ]
  },
  {
   "cell_type": "code",
   "execution_count": 18,
   "id": "2285942f",
   "metadata": {},
   "outputs": [
    {
     "name": "stdout",
     "output_type": "stream",
     "text": [
      "[-0.9949835  -0.9949835  -0.99497175 -0.99497175 -0.99496    -0.99496   ]\n",
      "[-0.9949835  -0.9949835  -0.99497175 -0.99497175 -0.99496    -0.99496   ]\n"
     ]
    },
    {
     "data": {
      "image/png": "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\n",
      "text/plain": [
       "<Figure size 432x288 with 1 Axes>"
      ]
     },
     "metadata": {
      "needs_background": "light"
     },
     "output_type": "display_data"
    }
   ],
   "source": [
    "train_x, test_x, train_y, test_y = train_test_split( x, y, test_size=0.1, shuffle=False )\n",
    "print( x[:6,0] )\n",
    "print( train_x[:6,0] )\n",
    "plot2( x[:,0], test_x[:,0] )"
   ]
  },
  {
   "cell_type": "markdown",
   "id": "2d468e45",
   "metadata": {},
   "source": [
    "That looks too easy. From the console output, we see that the `x` data is equal to the `train_x` data (the first 6 items at least). From the graph we see that `train_test_split()` just takes the _last_ 10% of the samples. \n",
    "\n",
    "For the case with shuffling case, we need to reduce `test_size`, because with value 0.1 the second graph is still completely red due to the enormous amount of points. \n",
    "\n",
    "We pass an explicit `shuffle=True`, but that is not necesary, because that is the default anyhow."
   ]
  },
  {
   "cell_type": "code",
   "execution_count": 19,
   "id": "3d617a7f",
   "metadata": {},
   "outputs": [
    {
     "name": "stdout",
     "output_type": "stream",
     "text": [
      "[-0.9949835  -0.9949835  -0.99497175 -0.99497175 -0.99496    -0.99496   ]\n",
      "[-0.04610017 -0.4983611   0.12652874  0.66921604 -0.47823635 -0.13505797]\n"
     ]
    },
    {
     "data": {
      "image/png": "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\n",
      "text/plain": [
       "<Figure size 432x288 with 1 Axes>"
      ]
     },
     "metadata": {
      "needs_background": "light"
     },
     "output_type": "display_data"
    }
   ],
   "source": [
    "train_x, test_x, train_y, test_y = train_test_split( x, y, test_size=0.0001, shuffle=True )\n",
    "print( x[:6,0] )\n",
    "print( train_x[:6,0] )\n",
    "plot2( x[:,0], test_x[:,0] )"
   ]
  },
  {
   "cell_type": "markdown",
   "id": "b787809a",
   "metadata": {},
   "source": [
    "If we use `Shuffle=True`, the data set is first shuffled, and then still, the data is taken from the shuffled end. \n",
    "\n",
    "To prevent bias on the \"Time\" column, it makes sense to shuffle. However, this means that each run of the notebook, the (training) outcome is different. That is not nice for the accompanying documentation.\n",
    "\n",
    "As it turns out, `train_test_split()` has yet another parameter `random_state` which acts as the seed for the random number generator during shuffling. But in this notebook we have already seeded on global level, so we do not need to supply a seed here."
   ]
  },
  {
   "cell_type": "markdown",
   "id": "1d18e571",
   "metadata": {},
   "source": [
    "Now we split the available records in records for _training_ and records for _testing_ after training is completed. We split of 10% for testing (`test_size`) with shuffle (since `shuffle=True` is the default). "
   ]
  },
  {
   "cell_type": "code",
   "execution_count": 20,
   "id": "0a15b472",
   "metadata": {},
   "outputs": [
    {
     "name": "stdout",
     "output_type": "stream",
     "text": [
      "total  train  test  sum    test/total\n",
      "284807 256326 28481 284807 0.10000105334489671\n"
     ]
    }
   ],
   "source": [
    "train_x, test_x, train_y, test_y = train_test_split( x, y, test_size=0.1 )\n",
    "print(\"total  train  test  sum    test/total\")\n",
    "print(len(df), len(train_x), len(test_x), len(train_x)+len(test_x), len(test_x)/len(df))"
   ]
  },
  {
   "cell_type": "markdown",
   "id": "0984bd18",
   "metadata": {},
   "source": [
    "## Recap on neural networks\n",
    "\n",
    "Let us quickly review what a neural network consists of.\n",
    "\n",
    "A neural net consists of neurons. A _neuron_ maps multiple input values to one output value.\n",
    "\n",
    "![One neuron](nn-1neuron.png)\n",
    "\n",
    "A neuron consists of two computation. The first computation linearly combines the inputs. This is simply a weighted sum of the inputs incremented with a bias. The weights and bias are specific to the neuron; they will be established by training. The second computation is an [activation function](https://en.wikipedia.org/wiki/Activation_function). Popular ones are ReLU and Sigmoid. The activation function establishes a threshold