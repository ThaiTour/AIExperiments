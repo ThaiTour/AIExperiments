
{
 "cells": [
  {
   "cell_type": "markdown",
   "id": "650143ec",
   "metadata": {},
   "source": [
    "# Intermezzo - Piece-wise linear\n",
    "2021 07 31 Maarten Pennings\n",
    "\n",
    "When modeling the sine function, it seemed that the simpel model behaved like a \n",
    "[piece-wise linear](https://en.wikipedia.org/wiki/Piecewise_linear_function) approximation. \n",
    "I was wondering if that two layer model could indeed implement a piece-wise linear curve. \n",
    "The answer is yes as this intermezzo will show."
   ]
  },
  {
   "cell_type": "markdown",
   "id": "2beae930",
   "metadata": {},
   "source": [
    "# Getting started\n",
    "We start by importing `matploylib.pyplot` for plotting the \"pieces\" for visual feedback."
   ]
  },
  {
   "cell_type": "code",
   "execution_count": 1,
   "id": "a236d6d0",
   "metadata": {},
   "outputs": [],
   "source": [
    "import matplotlib.pyplot as plt"
   ]
  },
  {
   "cell_type": "markdown",
   "id": "6f819c38",
   "metadata": {},
   "source": [
    "We also use the `relu()` function, which is not standard in Python, so we define it ourselves."
   ]
  },
  {
   "cell_type": "code",
   "execution_count": 2,
   "id": "3460badb",
   "metadata": {},
   "outputs": [],
   "source": [
    "def relu(x) : return max(0,x)"
   ]
  },
  {
   "cell_type": "markdown",
   "id": "3f796684",
   "metadata": {},
   "source": [
    "## First line segment\n",
    "\n",
    "Let us assume we have a first line (segment) k0, running from A at (3,1) to B at (6,7). Let's visualize that by plotting A, B and k0."
   ]
  },
  {
   "cell_type": "code",
   "execution_count": 3,
   "id": "fa1baaa8",
   "metadata": {},
   "outputs": [
    {
     "data": {
      "image/png": "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\n",
      "text/plain": [
       "<Figure size 432x288 with 1 Axes>"
      ]
     },
     "metadata": {
      "needs_background": "light"
     },
     "output_type": "display_data"
    }
   ],
   "source": [
    "# Define the coordinates of the two points A and B\n",
    "A = { \"x\":3 ,\"y\":1 }\n",
    "B = { \"x\":6, \"y\":7 }\n",
    "\n",
    "# Define the line k0 from point A to point B\n",
    "def k0(x) : \n",
    "    slope = (B[\"y\"] - A[\"y\"]) / ( B[\"x\"] - A[\"x\"] )\n",
    "    offset = A[\"y\"]\n",
    "    return slope * (x - A[\"x\"]) + offset\n",
    "\n",
    "# Setup a array of values to draw k0 (the two end-points suffice)\n",
    "k0_xs = [ A[\"x\"], B[\"x\"] ]\n",
    "k0_ys = [ k0(x) for x in k0_xs ]\n",
    "# Ensure plot is big enough, and has all unit ticks\n",
    "plt.xlim( (0,15) )\n",
    "plt.ylim( (0,10) )\n",
    "plt.xticks(range(0, 15+1, 1))\n",