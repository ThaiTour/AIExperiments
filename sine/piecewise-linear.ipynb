
{
 "cells": [
  {
   "cell_type": "markdown",
   "id": "650143ec",
   "metadata": {},
   "source": [
    "# Intermezzo - Piece-wise linear\n",
    "2021 07 31 Maarten Pennings\n",
    "\n",
    "When modeling the sine function, it seemed that the simpel model behaved like a \n",
    "[piece-wise linear](https://en.wikipedia.org/wiki/Piecewise_linear_function) approximation. \n",
    "I was wondering if that two layer model could indeed implement a piece-wise linear curve. \n",
    "The answer is yes as this intermezzo will show."
   ]
  },
  {
   "cell_type": "markdown",
   "id": "2beae930",
   "metadata": {},
   "source": [
    "# Getting started\n",
    "We start by importing `matploylib.pyplot` for plotting the \"pieces\" for visual feedback."
   ]
  },
  {
   "cell_type": "code",
   "execution_count": 1,
   "id": "a236d6d0",
   "metadata": {},
   "outputs": [],
   "source": [
    "import matplotlib.pyplot as plt"
   ]
  },
  {
   "cell_type": "markdown",
   "id": "6f819c38",
   "metadata": {},
   "source": [
    "We also use the `relu()` function, which is not standard in Python, so we define it ourselves."
   ]
  },
  {
   "cell_type": "code",
   "execution_count": 2,
   "id": "3460badb",
   "metadata": {},
   "outputs": [],
   "source": [
    "def relu(x) : return max(0,x)"
   ]
  },
  {
   "cell_type": "markdown",
   "id": "3f796684",
   "metadata": {},
   "source": [
    "## First line segment\n",
    "\n",
    "Let us assume we have a first line (segment) k0, running from A at (3,1) to B at (6,7). Let's visualize that by plotting A, B and k0."
   ]
  },
  {
   "cell_type": "code",
   "execution_count": 3,
   "id": "fa1baaa8",
   "metadata": {},
   "outputs": [
    {
     "data": {
      "image/png": "[encoded data removed]",
      "text/plain": [
       "<Figure size 432x288 with 1 Axes>"
      ]
     },
     "metadata": {
      "needs_background": "light"
     },
     "output_type": "display_data"
    }
   ],
   "source": [
    "# Define the coordinates of the two points A and B\n",
    "A = { \"x\":3 ,\"y\":1 }\n",
    "B = { \"x\":6, \"y\":7 }\n",
    "\n",
    "# Define the line k0 from point A to point B\n",
    "def k0(x) : \n",
    "    slope = (B[\"y\"] - A[\"y\"]) / ( B[\"x\"] - A[\"x\"] )\n",
    "    offset = A[\"y\"]\n",
    "    return slope * (x - A[\"x\"]) + offset\n",
    "\n",
    "# Setup a array of values to draw k0 (the two end-points suffice)\n",
    "k0_xs = [ A[\"x\"], B[\"x\"] ]\n",
    "k0_ys = [ k0(x) for x in k0_xs ]\n",
    "# Ensure plot is big enough, and has all unit ticks\n",
    "plt.xlim( (0,15) )\n",
    "plt.ylim( (0,10) )\n",
    "plt.xticks(range(0, 15+1, 1))\n",
    "plt.yticks(range(0, 10+1, 1))\n",
    "# Label the start (A) and end point (B), and the line (k0)\n",
    "plt.text( A[\"x\"]-0.4, A[\"y\"]+0.3, \"A\")\n",
    "plt.text( B[\"x\"]-0.4, B[\"y\"]+0.3, \"B\")\n",
    "plt.text( (B[\"x\"]+A[\"x\"])/2-0.4, (B[\"y\"]+A[\"y\"])/2+0.3, \"k0\")\n",
    "# Plot in green (g), using lines (-) between dot markers (o)\n",
    "plt.plot( k0_xs, k0_ys, 'g-o');"
   ]
  },
  {
   "cell_type": "markdown",
   "id": "cf4248af",
   "metadata": {},
   "source": [
    "Our next job is to implement this line (segment) k0 with two neurons. We take the same neurons as in `model_1` from our [main notebook (sine)](sine.ipynb): first layer with relu, second without.\n",
    "\n",
    "![Neuron pair](neuron-pair.png)\n",
    "\n",
    "Or as shorthand formula\n",
    "\n",
    "$$\n",
    "  v_0 \\rightarrow relu(w_1\\cdot v_0+b_1) \\rightarrow v_1 \\rightarrow w_2\\cdot v_1+b_2 \\rightarrow v_2\n",
    "$$"
   ]
  },
  {
   "cell_type": "markdown",
   "id": "e368721e",
   "metadata": {},
   "source": [
    "We use the first neuron to start at $A$ by setting $w_1=1$ and $b_1=-A_x$ (the x-coordinate of point A). \n",
    "\n",
    "$$\n",
    "  v_0 \\rightarrow relu(1\\cdot v_0-A_x) \\rightarrow v_1 \n",
    "$$\n",
    "  \n",
    "The $relu$ \"discards\" (keeps at 0) every input below $A_x$. Above $A_x$ it is the identity, i.e. it returns $x-A_x$."
   ]
  },
  {
   "cell_type": "code",
   "execution_count": 4,
   "id": "ca2eb3f1",
   "metadata": {
    "scrolled": true
   },
   "outputs": [
    {
     "data": {
      "image/png": "[encoded data removed]",
      "text/plain": [
       "<Figure size 432x288 with 1 Axes>"
      ]
     },
     "metadata": {
      "needs_background": "light"
     },
     "output_type": "display_data"
    }
   ],
   "source": [
    "def k0_v0_v1(x) :\n",
    "    return relu( 1 * x - A[\"x\"] )\n",
    "    \n",
    "k0_xs = [ -5, A[\"x\"], 20 ]  #  Draw from -5 to +20 to completely fill the plot area\n",
    "k0_ys = [ k0_v0_v1(x) for x in k0_xs ]\n",
    "\n",
    "plt.xlim( (0,15) )\n",
    "plt.ylim( (0,10) )\n",
    "plt.xticks(range(0, 15+1, 1))\n",
    "plt.yticks(range(0, 10+1, 1))\n",
    "plt.plot( k0_xs, k0_ys, 'g-');"
   ]
  },
  {
   "cell_type": "markdown",
   "id": "cbd5a2e6",
   "metadata": {},
   "source": [
    "The second neuron \n",
    "\n",
    "$$\n",
    "  v_1 \\rightarrow w_2\\cdot v_1+b_2 \\rightarrow v_2 \n",
    "$$\n",
    "\n",
    "implements the slope and offset of line (segment) k0.\n",
    "\n",
    "So, the slope is $w_2 = (B_y-A_y)/(B_x-A_x)$ and the offset is $b_2 = A_y$.\n",
    "\n",
    "$$\n",
    "  v_1 \\rightarrow \\frac{7-1}{6-3}\\cdot v_1 + 1 \\rightarrow v_2 \n",
    "$$"
   ]
  },
  {
   "cell_type": "code",
   "execution_count": 5,
   "id": "5c372b72",
   "metadata": {},
   "outputs": [
    {
     "data": {
      "image/png": "[encoded data removed]",
      "text/plain": [
       "<Figure size 432x288 with 1 Axes>"
      ]
     },
     "metadata": {
      "needs_background": "light"
     },
     "output_type": "display_data"
    }
   ],
   "source": [
    "def k0_v1_v2(x) :\n",
    "    slope = (B[\"y\"] - A[\"y\"]) / ( B[\"x\"] - A[\"x\"] )\n",
    "    offset = A[\"y\"]\n",
    "    return slope * x + offset\n",
    "    \n",
    "k0_xs = [ -5, A[\"x\"], B[\"x\"], 20 ]\n",
    "k0_ys = [ k0_v1_v2(k0_v0_v1(x)) for x in k0_xs ]\n",
    "\n",
    "plt.xlim( (0,15) )\n",
    "plt.ylim( (0,10) )\n",
    "plt.xticks(range(0, 15+1, 1))\n",
    "plt.yticks(range(0, 10+1, 1))\n",
    "\n",
    "plt.plot( k0_xs, k0_ys, 'g-o');\n",
    "plt.text( A[\"x\"]-0.4, A[\"y\"]+0.3, \"A\")\n",
    "plt.text( B[\"x\"]-0.4, B[\"y\"]+0.3, \"B\");"
   ]
  },
  {
   "cell_type": "markdown",
   "id": "164ddb2d",
   "metadata": {},
   "source": [
    "## Second line segment\n",
    "\n",
    "We see that the neuron pair (first with relu, second without) can implement one line segment. \n",
    "\n",
    "Let us now introduce a second line (segment) k1, running from B at (6,7) to C at (10,9)."
   ]
  },
  {
   "cell_type": "code",
   "execution_count": 6,
   "id": "b9acc87b",
   "metadata": {},
   "outputs": [
    {
     "data": {
      "image/png": "[encoded data removed]",
      "text/plain": [
       "<Figure size 432x288 with 1 Axes>"
      ]
     },
     "metadata": {
      "needs_background": "light"
     },
     "output_type": "display_data"
    }
   ],
   "source": [
    "# Define the coordinates of the next point C\n",
    "C = { \"x\":10, \"y\":9 }\n",
    "\n",
    "# Define the line k1 from point B to point C\n",
    "def k1(x) : \n",
    "    slope = (C[\"y\"] - B[\"y\"]) / ( C[\"x\"] - B[\"x\"] )\n",
    "    offset = B[\"y\"]\n",
    "    return slope * (x - B[\"x\"]) + offset\n",
    "\n",
    "# Setup a array of values to draw k1 (the two end-point suffice)\n",
    "k1_xs = [ B[\"x\"], C[\"x\"] ]\n",
    "k1_ys = [ k1(x) for x in k1_xs ]\n",
    "\n",
    "# Ensure plot is big enough, and has all unit ticks\n",
    "plt.xlim( (0,15) )\n",
    "plt.ylim( (0,10) )\n",
    "plt.xticks(range(0, 15+1, 1))\n",
    "plt.yticks(range(0, 10+1, 1))\n",
    "# Label the start (B) and end point (C), and the line (k1)\n",
    "plt.text( B[\"x\"]-0.4, B[\"y\"]+0.3, \"B\")\n",
    "plt.text( C[\"x\"]-0.4, C[\"y\"]+0.3, \"C\")\n",
    "plt.text( (C[\"x\"]+B[\"x\"])/2-0.4, (C[\"y\"]+B[\"y\"])/2+0.3, \"k1\")\n",
    "# Plot in red (r), using lines (-) between dot markers (o)\n",
    "plt.plot( k1_xs, k1_ys, 'r-o');"
   ]
  },
  {
   "cell_type": "markdown",
   "id": "d58fd7b3",
   "metadata": {},
   "source": [
    "In the same way as for the first segment, we define the neuron pair for the second line (segment) k1."
   ]
  },
  {
   "cell_type": "code",
   "execution_count": 7,
   "id": "a40d5bc6",
   "metadata": {},
   "outputs": [
    {
     "data": {
      "image/png": "[encoded data removed]",
      "text/plain": [
       "<Figure size 432x288 with 1 Axes>"
      ]
     },
     "metadata": {
      "needs_background": "light"
     },
     "output_type": "display_data"
    }
   ],
   "source": [
    "def k1_v0_v1(x) :\n",
    "    return relu( 1 * x - B[\"x\"] )\n",
    "\n",
    "def k1_v1_v2(x) :\n",
    "    slope = (C[\"y\"] - B[\"y\"]) / ( C[\"x\"] - B[\"x\"] )\n",
    "    offset = B[\"y\"]\n",
    "    return slope * x + offset\n",
    "    \n",
    "k1_xs = [ -5, B[\"x\"], C[\"x\"], 20 ]\n",
    "k1_ys = [ k1_v1_v2(k1_v0_v1(x)) for x in k1_xs ]\n",
    "\n",
    "plt.xlim( (0,15) )\n",
    "plt.ylim( (0,10) )\n",
    "plt.xticks(range(0, 15+1, 1))\n",
    "plt.yticks(range(0, 10+1, 1))\n",
    "\n",
    "plt.plot( k1_xs, k1_ys, 'r-o');\n",
    "plt.text( B[\"x\"]-0.4, B[\"y\"]+0.3, \"B\")\n",
    "plt.text( C[\"x\"]-0.4, C[\"y\"]+0.3, \"C\");"
   ]
  },
  {
   "cell_type": "markdown",
   "id": "e7c13a07",
   "metadata": {},
   "source": [
    "## Third line segment\n",
    "\n",
    "To check the genericity of our piece-wise linear model, we even add a third line (segment) k2, \n",
    "running from C at (10,9) to D at (13,6)."
   ]
  },
  {
   "cell_type": "code",
   "execution_count": 8,
   "id": "8d1443ea",
   "metadata": {},
   "outputs": [
    {
     "data": {
      "image/png": "[encoded data removed]",
      "text/plain": [
       "<Figure size 432x288 with 1 Axes>"
      ]
     },
     "metadata": {
      "needs_background": "light"
     },
     "output_type": "display_data"
    }
   ],
   "source": [
    "# Define the coordinates of the next point D\n",
    "D = { \"x\":13, \"y\":6 }\n",
    "\n",
    "# Define the line k2 from point C to point D\n",
    "def k2(x) : \n",
    "    slope = (D[\"y\"] - C[\"y\"]) / ( D[\"x\"] - C[\"x\"] )\n",
    "    offset = C[\"y\"]\n",
    "    return slope * (x - C[\"x\"]) + offset\n",
    "\n",
    "# Setup a array of values to draw k2 (the two end-point suffice)\n",
    "k2_xs = [ C[\"x\"], D[\"x\"] ]\n",
    "k2_ys = [ k2(x) for x in k2_xs ]\n",
    "\n",
    "# Ensure plot is big enough, and has all unit ticks\n",
    "plt.xlim( (0,15) )\n",
    "plt.ylim( (0,10) )\n",
    "plt.xticks(range(0, 15+1, 1))\n",
    "plt.yticks(range(0, 10+1, 1))\n",
    "# Label the start (C) and end point (D), and the line (k2)\n",
    "plt.text( C[\"x\"]-0.1, C[\"y\"]+0.3, \"C\")\n",
    "plt.text( D[\"x\"]-0.1, D[\"y\"]+0.3, \"D\")\n",
    "plt.text( (D[\"x\"]+C[\"x\"])/2-0.1, (D[\"y\"]+C[\"y\"])/2+0.3, \"k2\")\n",
    "# Plot in blue (b), using lines (-) between dot markers (o)\n",
    "plt.plot( k2_xs, k2_ys,'b-o');"
   ]
  },
  {
   "cell_type": "markdown",
   "id": "4b669e21",
   "metadata": {},
   "source": [
    "We define the neuron pair as before."
   ]
  },
  {
   "cell_type": "code",
   "execution_count": 9,
   "id": "861e6a2c",
   "metadata": {},
   "outputs": [
    {
     "data": {
      "image/png": "[encoded data removed]",
      "text/plain": [
       "<Figure size 432x288 with 1 Axes>"
      ]
     },
     "metadata": {
      "needs_background": "light"
     },
     "output_type": "display_data"
    }
   ],
   "source": [
    "def k2_v0_v1(x) :\n",
    "    return relu( 1 * x - C[\"x\"] )\n",
    "\n",
    "def k2_v1_v2(x) :\n",
    "    slope = (D[\"y\"] - C[\"y\"]) / ( D[\"x\"] - C[\"x\"] )\n",
    "    offset = C[\"y\"]\n",
    "    return slope * x + offset\n",
    "    \n",
    "k2_xs = [ -5, C[\"x\"], D[\"x\"], 20 ]\n",
    "k2_ys = [ k2_v1_v2(k2_v0_v1(x)) for x in k2_xs ]\n",
    "\n",
    "plt.xlim( (0,15) )\n",
    "plt.ylim( (0,10) )\n",
    "plt.xticks(range(0, 15+1, 1))\n",
    "plt.yticks(range(0, 10+1, 1))\n",
    "\n",
    "plt.plot( k2_xs, k2_ys, 'b-o');\n",
    "plt.text( C[\"x\"]-0.1, C[\"y\"]+0.3, \"C\")\n",
    "plt.text( D[\"x\"]-0.1, D[\"y\"]+0.3, \"D\");"
   ]
  },
  {
   "cell_type": "markdown",
   "id": "f9b5a72c",
   "metadata": {},
   "source": [
    "## Combining the three line segments\n",
    "\n",
    "Now the final step.\n",
    "Can we now combine the three line segments into one piece-wise linear curve:\n",
    "a line segment from knee point A to knee point B (green),\n",
    "a line segment from knee point B to knee point C (red), and\n",
    "a line segment from knee point C to knee point D (blue)?\n",
    "\n",
    "We care less about the curve before A (dotted green) or after D (dotted blue), but the below graph shows typical behavior."
   ]
  },
  {
   "cell_type": "code",
   "execution_count": 28,
   "id": "1e9f03f4",
   "metadata": {
    "scrolled": true
   },
   "outputs": [
    {
     "data": {
      "image/png": "[encoded data removed]",
      "text/plain": [
       "<Figure size 432x288 with 1 Axes>"
      ]
     },
     "metadata": {
      "needs_background": "light"
     },
     "output_type": "display_data"
    }
   ],
   "source": [
    "# Setup arrays to draw the segments\n",
    "pre_xs = [ -5, A[\"x\"] ]\n",
    "pre_ys = [  A[\"y\"],  A[\"y\"] ]\n",
    "\n",
    "k0_xs  = [ A[\"x\"], B[\"x\"] ]\n",
    "k0_ys  = [ k0(x) for x in k0_xs ]\n",
    "\n",
    "k1_xs  = [ B[\"x\"], C[\"x\"] ]\n",
    "k1_ys  = [ k1(x) for x in k1_xs ]\n",
    "\n",
    "k2_xs  = [ C[\"x\"], D[\"x\"] ]\n",
    "k2_ys  = [ k2(x) for x in k2_xs ]\n",
    "\n",
    "post_xs= [ D[\"x\"], 20 ]\n",
    "post_ys= [ k2(x) for x in post_xs ]\n",
    "\n",
    "\n",
    "# Ensure plot is big enough, and has all unit ticks\n",
    "plt.xlim( (0,15) )\n",
    "plt.ylim( (0,10) )\n",
    "plt.xticks(range(0, 15+1, 1))\n",
    "plt.yticks(range(0, 10+1, 1))\n",
    "# Label the knee points (A, B, C and D)\n",
    "plt.text( A[\"x\"]-0.4, A[\"y\"]+0.3, \"A\")\n",
    "plt.text( B[\"x\"]-0.4, B[\"y\"]+0.3, \"B\")\n",
    "plt.text( C[\"x\"]-0.4, C[\"y\"]+0.3, \"C\")\n",
    "plt.text( D[\"x\"]-0.1, D[\"y\"]+0.3, \"D\")\n",
    "# Label the segments (pre,k0,k1,k2,post)\n",
    "plt.text( (A[\"x\"]+0     )/2-0.4, (A[\"y\"]+1     )/2+0.3, \"pre\")\n",
    "plt.text( (B[\"x\"]+A[\"x\"])/2-0.4, (B[\"y\"]+A[\"y\"])/2+0.3, \"k0\")\n",
    "plt.text( (C[\"x\"]+B[\"x\"])/2-0.4, (C[\"y\"]+B[\"y\"])/2+0.3, \"k1\")\n",
    "plt.text( (D[\"x\"]+C[\"x\"])/2-0.1, (D[\"y\"]+C[\"y\"])/2+0.3, \"k2\")\n",
    "plt.text( (15    +D[\"x\"])/2-0.1, (4     +D[\"y\"])/2+0.3, \"post\")\n",
    "\n",
    "# Plot in green/red/blue (g/r/b), using lines (-) between dot markers (o)\n",
    "plt.plot( k0_xs, k0_ys, 'g-o')\n",
    "plt.plot( k1_xs, k1_ys, 'r-o')\n",
    "plt.plot( k2_xs, k2_ys, 'b-o');\n",
    "# Plot the pre and post segments with dots (:)\n",
    "plt.plot( pre_xs , pre_ys , 'g:')\n",
    "plt.plot( post_xs, post_ys, 'b:');"
   ]
  },
  {
   "cell_type": "markdown",
   "id": "66f9019b",
   "metadata": {},
   "source": [
    "The above graph shows what we want as end result. What we have until now is a neuron pair for the green segment, one for the red segment, and one for the blue segment. However, insteaf of three networks (each a neuron pair) we need one network that is a combination:\n",
    "\n",
    "![model](piecewise-linear.png)"
   ]
  },
  {
   "cell_type": "markdown",
   "id": "787d9e6a",
   "metadata": {},
   "source": [
    "Let us do case analysis on the input value.\n",
    "\n",
    "- _Implementation_ of the case analysis\n",
    "   - We set all weights in the first layer ($weight_{1,0}$, $weight_{1,1}$, and  $weight_{1,2}$) to 1.\n",
    "   - We set the biases in the first layer ($bias_{1,0}$, $bias_{1,1}$, and  $bias_{1,2}$) to the x-coordinates of the\n",
    "     knee points (that is $A_x$, $B_x$, and $C_x$).\n",
    "  ![step1](step1.png)\n",
    "   \n",
    "- Input values less than $A_x$ (dotted green in plot).\n",
    "   - The intermediate layer values ($value_{1,0}$, $value_{1,1}$ and  $value_{1,2}$) are zero.\n",
    "   - The weights ($weight_{2,0}$, $weight_{2,1}$, and  $weight_{2,2}$) are thus irrelevant for this input range.\n",
    "   - We will set $bias_2$ to $A_y$, to have a flat-line start, just as we had with the single line segments.\n",
    "  ![step2](step2.png)\n",
    "\n",
    "- Input values between $A_x$ and $B_x$ (green segment k0 in plot).\n",
    "   - The first intermediate layer value ($value_{1,0}$) is the x for line k0, starting a 0.\n",
    "   - We will set $weight_{2,0}$ to the slope of k0.\n",
    "   - The other intermediate layer values ($value_{1,1}$ and $value_{1,1}$) are still 0. Their weights ($weight_{2,1}$ and $weight_{2,2}$) are thus irrelevant for this input range.\n",
    "  ![step3](step3.png)\n",
    "\n",
    "- Input values between $B_x$ and $C_x$ (red segment k1 in plot).\n",
    "   - The second intermediate layer value ($value_{1,1}$) is the x for line k1, starting a 0.\n",
    "   - However, $value_{1,0}$ is the x for line k0, so starting from $B$ we get the slope from k0 for \"free\".\n",
    "   - We will set $weight_{2,1}$ to the slope of k1 minus the slope of k0.\n",
    "   - The third intermediate layer value ($value_{1,2}$) is still 0.Its weight ($weight_{2,2}$) is thus irrelevant for this input range.\n",
    "  ![step4](step4.png)\n",
    "   \n",
    "- Input values between $C_x$ and $D_x$ (blue segment k2 in plot).\n",
    "   - The third intermediate layer value ($value_{1,2}$) is the x for line k2, starting a 0.\n",
    "   - However, we get the previous slopes for \"free\".\n",
    "   - We will set $weight_{2,2}$ to the slope of k2 minus the slope of k1 (which is corrected for the slope of k0).\n",
    "  ![step5](step5.png)\n",
    "   \n",
    "This completes all weights and biases of our combined network.\n",
    "\n",
    "Implementation wise this leads to the following network."
   ]
  },
  {
   "cell_type": "code",
   "execution_count": 11,
   "id": "f77e9710",
   "metadata": {},
   "outputs": [],
   "source": [
    "# Layer 1\n",
    "def neuron_1_0(v_0) :\n",
    "    weight_1_0 = 1\n",
    "    bias_1_0   = -A[\"x\"]\n",
    "    return relu( weight_1_0 * v_0 + bias_1_0 )\n",
    "\n",
    "def neuron_1_1(v_0) :\n",
    "    weight_1_1 = 1\n",
    "    bias_1_1   = -B[\"x\"]\n",
    "    return relu( weight_1_1 * v_0 + bias_1_1 )\n",
    "\n",
    "def neuron_1_2(v_0) :\n",
    "    weight_1_2 = 1\n",
    "    bias_1_2   = -C[\"x\"]\n",
    "    return relu( weight_1_2 * v_0 + bias_1_2 )\n",
    "\n",
    "# layer 2\n",
    "slope_k0 = (B[\"y\"] - A[\"y\"]) / ( B[\"x\"] - A[\"x\"] )\n",
    "slope_k1 = (C[\"y\"] - B[\"y\"]) / ( C[\"x\"] - B[\"x\"] )\n",
    "slope_k2 = (D[\"y\"] - C[\"y\"]) / ( D[\"x\"] - C[\"x\"] )\n",
    "\n",
    "def neuron_2(v_1_0,v_1_1,v_1_2) :\n",
    "    weight_2_0 = slope_k0\n",
    "    weight_2_1 = slope_k1 - slope_k0\n",
    "    weight_2_2 = slope_k2 - slope_k1\n",
    "    bias_2     = A[\"y\"]\n",
    "    return weight_2_0 * v_1_0 + weight_2_1 * v_1_1 + weight_2_2 * v_1_2 + bias_2\n",
    "\n",
    "# Network\n",
    "def network(v_0) :\n",
    "    v_1_0 = neuron_1_0(v_0)\n",
    "    v_1_1 = neuron_1_1(v_0)\n",
    "    v_1_2 = neuron_1_2(v_0)\n",
    "    v_2   = neuron_2(v_1_0,v_1_1,v_1_2)\n",
    "    return v_2"
   ]
  },
  {
   "cell_type": "markdown",
   "id": "b5844154",
   "metadata": {},
   "source": [
    "Let's now visualize the curve associated to this network."
   ]
  },
  {
   "cell_type": "code",
   "execution_count": 12,
   "id": "0f0814d9",
   "metadata": {},
   "outputs": [
    {
     "data": {
      "image/png": "[encoded data removed]",
      "text/plain": [
       "<Figure size 432x288 with 1 Axes>"
      ]
     },
     "metadata": {
      "needs_background": "light"
     },
     "output_type": "display_data"
    }
   ],
   "source": [
    "xs = [ -5, A[\"x\"], B[\"x\"], C[\"x\"], D[\"x\"], 20 ]\n",
    "ys = [ network(x) for x in xs ]\n",
    "\n",
    "plt.xlim( (0,15) )\n",
    "plt.ylim( (0,10) )\n",
    "plt.xticks(range(0, 15+1, 1))\n",
    "plt.yticks(range(0, 10+1, 1))\n",
    "\n",
    "plt.text( A[\"x\"]-0.4, A[\"y\"]+0.3, \"A\")\n",
    "plt.text( B[\"x\"]-0.4, B[\"y\"]+0.3, \"B\")\n",
    "plt.text( C[\"x\"]-0.1, C[\"y\"]+0.3, \"C\")\n",
    "plt.text( D[\"x\"]-0.1, D[\"y\"]+0.3, \"D\")\n",
    "\n",
    "plt.plot( xs, ys, 'y-o');"
   ]
  },
  {
   "cell_type": "markdown",
   "id": "92c12d7c",
   "metadata": {},
   "source": [
    "## Concluding the intermezzo\n",
    "\n",
    "This was an unexpectedly long intermezzo.\n",
    "\n",
    "We succeeded in configuring a neural network to represent a piece-wise linear curve.\n",
    "\n",
    "The neural network has two layers. The first one is dense, with relu, creating a hidden layer with _n_ nodes.\n",
    "The second one, also dense, no relu, generates a single output.\n",
    "**Such a network can represent an piece-wise linear curve consting of _n_ pieces.**\n",
    "\n",
    "If you prefer, there is an [excel model](piecewise-linear.xlsx).\n",
    "\n",
    "There is also an application: the [piecewise sine notebook](piecewise-sine.ipynb) uses the technique from the intermezzo to approximate the sine function with a 9 + 1 neuron network."
   ]
  },
  {
   "cell_type": "markdown",
   "id": "ff644f45",
   "metadata": {},
   "source": [
    "(end)"
   ]
  }
 ],
 "metadata": {
  "kernelspec": {
   "display_name": "Python 3 (ipykernel)",
   "language": "python",
   "name": "python3"
  },
  "language_info": {
   "codemirror_mode": {
    "name": "ipython",
    "version": 3
   },
   "file_extension": ".py",
   "mimetype": "text/x-python",
   "name": "python",
   "nbconvert_exporter": "python",
   "pygments_lexer": "ipython3",
   "version": "3.9.5"
  }
 },
 "nbformat": 4,
 "nbformat_minor": 5
}