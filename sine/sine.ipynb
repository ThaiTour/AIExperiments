{
 "cells": [
  {
   "cell_type": "markdown",
   "id": "d084ab2f",
   "metadata": {},
   "source": [
    "# Machine Learning exercise 3: Sine on ESP\n",
    "2021 07 13 Maarten Pennings\n",
    "\n",
    "I got a nice machine learning (ML) intro with the two previous exercises.\n",
    "I wanted to make a next step, getting some ML running on a tiny device.\n",
    "\n",
    "I found [Easy TinyML on ESP32 and Arduino](https://www.hackster.io/news/easy-tinyml-on-esp32-and-arduino-a9dbc509f26c), \n",
    "which replicates an exercise from the book [**TinyML, Machine Learning with TensorFlow Lite on Arduino and Ultra-Low-Power Microcontrollers** by Pete Warden and Daniel Situnayake](https://tinymlbook.com/). \n",
    "The book is an e-book, and you can get a sample of the first chapters. \n",
    "The website now only gives 2 chapters, but in the past that was six (you might still find that somewhere), \n",
    "which includes the important chapter _Chapter 4. The “Hello World” of TinyML: Building and Training a Model_.\n",
    "This \"Hello World\" of ML is actually a network that \"predicts\" the _sin(x)_ given _x_.\n",
    "\n",
    "It seems that this \"Hello World\" was even a standard example of [tensorflow](https://www.tensorflow.org/); \n",
    "it was on the tensorflow [github](https://github.com/tensorflow/tensorflow/tree/master/tensorflow/lite/micro) repo.\n",
    "But as of June 25, 2021, the Tensorflow Lite for microcontrollers codebase has moved to a stand-alone \n",
    "[github repository](https://github.com/tensorflow/tflite-micro). We find it down deep [https://github.com/tensorflow/tflite-micro/tree/main/tensorflow/lite/micro/examples/hello_world](https://github.com/tensorflow/tflite-micro/tree/main/tensorflow/lite/micro/examples/hello_world).\n",
    "\n"
   ]
  },
  {
   "cell_type": "markdown",
   "id": "c12c12e2",
   "metadata": {},
   "source": [
    "## The project directory\n",
    "Check my first exercise for details on replicating this project. Basically you need\n",
    "\n",
    "- Python on your system\n",
    "- Start with an empty project directory; then copy `requirements.txt`, `setup.bat`, `run.bat`, and `sin.ipynb` into it.\n",
    "- Run `setup.bat` to create a virtual Python environment (in subdirectory `env` in the project directory).\n",
    "- Note that several packages will be installed (including Jupyter), as listed in `requirements.txt`.\n",
    "- Run `run.bat` to run the Jupyter server and client (web page in you browser).\n",
    "- Open this file (`sin.ipynb`).\n"
   ]
  },
  {
   "cell_type": "markdown",
   "id": "bc7ba540",
   "metadata": {},
   "source": [
    "## Random\n",
    "\n",
    "To get reproducible results, we seed the random generators."
   ]
  },
  {
   "cell_type": "code",
   "execution_count": 1,
   "id": "f80a85cf",
   "metadata": {},
   "outputs": [],
   "source": [
    "import numpy as np\n",
    "import tensorflow as tf\n",
    "\n",
    "SEED = 42\n",
    "\n",
    "np.random.seed(SEED)\n",
    "tf.random.set_seed(SEED)"
   ]
  },
  {
   "cell_type": "markdown",
   "id": "adb1e47d",
   "metadata": {},
   "source": [
    "## Try pi\n",
    "For a network that computes sine, we don't need to download a data-set, we just use Python's `math` libary to get `sin()` data. Let's try it."
   ]
  },
  {
   "cell_type": "code",
   "execution_count": 2,
   "id": "0843d66f",
   "metadata": {},
   "outputs": [
    {
     "data": {
      "text/plain": [
       "(3.141592653589793, 1.2246467991473532e-16)"
      ]
     },
     "execution_count": 2,
     "metadata": {},
     "output_type": "execute_result"
    }
   ],
   "source": [
    "import math\n",
    "\n",
    "xs=[]\n",
    "ys=[]\n",
    "for t in range(50+1) :\n",
    "    x = 2*math.pi * t/50.0\n",
    "    y = math.sin(x)\n",
    "    xs.append(x)\n",
    "    ys.append(y)\n",
    "\n",
    "xs[25],ys[25]"
   ]
  },
  {
   "cell_type": "markdown",