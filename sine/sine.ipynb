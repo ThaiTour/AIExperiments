{
 "cells": [
  {
   "cell_type": "markdown",
   "id": "d084ab2f",
   "metadata": {},
   "source": [
    "# Machine Learning exercise 3: Sine on ESP\n",
    "2021 07 13 Maarten Pennings\n",
    "\n",
    "I got a nice machine learning (ML) intro with the two previous exercises.\n",
    "I wanted to make a next step, getting some ML running on a tiny device.\n",
    "\n",
    "I found [Easy TinyML on ESP32 and Arduino](https://www.hackster.io/news/easy-tinyml-on-esp32-and-arduino-a9dbc509f26c), \n",
    "which replicates an exercise from the book [**TinyML, Machine Learning with TensorFlow Lite on Arduino and Ultra-Low-Power Microcontrollers** by Pete Warden and Daniel Situnayake](https://tinymlbook.com/). \n",
    "The book is an e-book, and you can get a sample of the first chapters. \n",
    "The website now only gives 2 chapters, but in the past that was six (you might still find that somewhere), \n",
    "which includes the important chapter _Chapter 4. The “Hello World” of TinyML: Building and Training a Model_.\n",
    "This \"Hello World\" of ML is actually a network that \"predicts\" the _sin(x)_ given _x_.\n",
    "\n",
    "It seems that this \"Hello World\" was even a standard example of [tensorflow](https://www.tensorflow.org/); \n",
    "it was on the tensorflow [github](https://github.com/tensorflow/tensorflow/tree/master/tensorflow/lite/micro) repo.\n",
    "But as of June 25, 2021, the Tensorflow Lite for microcontrollers codebase has moved to a stand-alone \n",
    "[github repository](https://github.com/tensorflow/tflite-micro). We find it down deep [https://github.com/tensorflow/tflite-micro/tree/main/tensorflow/lite/micro/examples/hello_world](https://github.com/tensorflow/tflite-micro/tree/main/tensorflow/lite/micro/examples/hello_world).\n",
    "\n"
   ]
  },
  {
   "cell_type": "markdown",
   "id": "c12c12e2",
   "metadata": {},
   "source": [
    "## The project directory\n",
    "Check my first exercise for details on replicating this project. Basically you need\n",
    "\n",
    "- Python on your system\n",
    "- Start with an empty project directory; then copy `requirements.txt`, `setup.bat`, `run.bat`, and `sin.ipynb` into it.\n",
    "- Run `setup.bat` to create a virtual Python environment (in subdirectory `env` in the project directory).\n",
    "- Note that several packages will be installed (including Jupyter), as listed in `requirements.txt`.\n",
    "- Run `run.bat` to run the Jupyter server and client (web page in you browser).\n",
    "- Open this file (`sin.ipynb`).\n"
   ]
  },
  {
   "cell_type": "markdown",
   "id": "bc7ba540",
   "metadata": {},
   "source": [
    "## Random\n",
    "\n",
    "To get reproducible results, we seed the random generators."
   ]
  },
  {
   "cell_type": "code",
   "execution_count": 1,
   "id": "f80a85cf",
   "metadata": {},
   "outputs": [],
   "source": [
    "import numpy as np\n",
    "import tensorflow as tf\n",
    "\n",
    "SEED = 42\n",
    "\n",
    "np.random.seed(SEED)\n",
    "tf.random.set_seed(SEED)"
   ]
  },
  {
   "cell_type": "markdown",
   "id": "adb1e47d",
   "metadata": {},
   "source": [
    "## Try pi\n",
    "For a network that computes sine, we don't need to download a data-set, we just use Python's `math` libary to get `sin()` data. Let's try it."
   ]
  },
  {
   "cell_type": "code",
   "execution_count": 2,
   "id": "0843d66f",
   "metadata": {},
   "outputs": [
    {
     "data": {
      "text/plain": [
       "(3.141592653589793, 1.2246467991473532e-16)"
      ]
     },
     "execution_count": 2,
     "metadata": {},
     "output_type": "execute_result"
    }
   ],
   "source": [
    "import math\n",
    "\n",
    "xs=[]\n",
    "ys=[]\n",
    "for t in range(50+1) :\n",
    "    x = 2*math.pi * t/50.0\n",
    "    y = math.sin(x)\n",
    "    xs.append(x)\n",
    "    ys.append(y)\n",
    "\n",
    "xs[25],ys[25]"
   ]
  },
  {
   "cell_type": "markdown",
   "id": "49ea4d95",
   "metadata": {},
   "source": [
    "Looks good, for the item halfway the xs list, `x` is about π and `y` is about 0. Let's try to plot it.\n",
    "The `'g.'` means green dots."
   ]
  },
  {
   "cell_type": "code",
   "execution_count": 3,
   "id": "2ff01b35",
   "metadata": {},
   "outputs": [
    {
     "data": {
      "image/png": "iVBORw0KGgoAAAANSUhEUgAAAYIAAAD4CAYAAADhNOGaAAAAOXRFWHRTb2Z0d2FyZQBNYXRwbG90bGliIHZlcnNpb24zLjQuMiwgaHR0cHM6Ly9tYXRwbG90bGliLm9yZy8rg+JYAAAACXBIWXMAAAsTAAALEwEAmpwYAAAXO0lEQVR4nO3df7AdZX3H8fenFwNVqwSSQkxuCI4ZJdpOsLdx7tBq5JehdQi1liaMJjg4qTOktWVqDeUPLNYa25mibSk2E6LBKoGiSOqPRriQ0XYuNjcagQSBENEkDeZqwJbikCZ8+8fZC4fLOffec3fPj93n85q5c88+u3vOd3fPnO/us8/zrCICMzNL1y90OwAzM+suJwIzs8Q5EZiZJc6JwMwscU4EZmaJO6HbAUzHrFmzYsGCBd0Ow8ysVHbu3PmTiJg9vryUiWDBggWMjIx0Owwzs1KR9MNG5a4aMjNLnBOBmVninAjMzBLnRGBmljgnAjOzxBWSCCRtknRY0oNN5kvS30naK+l+SW+um7da0qPZ3+oi4jEzs6kr6orgs8CyCeZfBCzM/tYANwJIOgW4FngLsAS4VtLMgmKyaRjeP8zHv/VxhvcPT6nczMqvkH4EEfFNSQsmWGQ5cHPUxry+T9LJkuYAS4G7IuIIgKS7qCWUW4qIy1ozvH+Y824+j6PHjzKjbwZDq4YY7B9sWm5m1dCpewRzgf110weysmblLyFpjaQRSSOjo6NtCzQVjc7wtz++naPHj3I8jnP0+FG2P759wvJm72Nm5VKansURsQHYADAwMOCn6eTQ7Ax/6YKlzOib8Xz50gVLAZqW+0rBrBo6lQgOAv110/OysoPUqofqy7d3KKZkNTrDH+wfZLB/kKFVQ2x/fDtLFyx9/ke9WXmz9zGzculUItgKrJW0hdqN4Z9FxCFJ24C/qrtBfCFwdYdiSsLw/uGX/IA3O8MHnk8I4zUqn+h9Gn2umfWmQhKBpFuondnPknSAWkuglwFExKeBrwG/BewFngHel807IumjwI7sra4bu3Fs+TWruml2ht+qZu/jKiOzcimq1dDKSeYHcGWTeZuATUXEYS82UdVNszP/VjV6H1cZmZWLexZX2FjVTZ/6XlJ1U8XPNbPpUe1kvVwGBgbCzyN4sWZ18t2qq++1eMwMJO2MiIGXlDsRlF9Z6uTLEqdZVTVLBK4aqoCJOnz1krLEaZYaJ4IKKEudfFniNEuNq4Yqoix172WJ06yKfI/AzCxxvkdQEVUe5K3K22bWy0oz6JxVu9VNlbfNrNf5iqBEqtzqpsrbZtbrnAhKpMqtbqq8bWa9zjeLS6bKrW6qvG1mvcCthszMEudWQ2Zm1pATgZlZ4pwIepTb1L/A+8KsvYp6Qtky4FNAH7AxItaPm3898PZs8uXAL0fEydm848AD2bwfRcTFRcRUZm5T/wLvC7P2y31FIKkPuAG4CFgErJS0qH6ZiPiTiFgcEYuBvwe+VDf752PznARq3Kb+Bd4XZu1XRNXQEmBvROyLiKPAFmD5BMuvBG4p4HMry23qX+B9YdZ+RVQNzQX2100fAN7SaEFJZwBnAvfUFZ8kaQQ4BqyPiC83WXcNsAZg/vz5+aPuYUU9XL4KvC/M2q/TYw2tAG6PiON1ZWdExEFJrwXukfRARDw2fsWI2ABsgFo/gs6E2z1FPVy+CrwvzNqriKqhg0B/3fS8rKyRFYyrFoqIg9n/fcB24OwCYjIzsykqIhHsABZKOlPSDGo/9lvHLyTpDcBMYLiubKakE7PXs4BzgD0FxGRmZlOUOxFExDFgLbANeAi4LSJ2S7pOUn0roBXAlnjxmBZnASOSvgfcS+0eQVKJwG3kp8/7zqwYHmuoi9xGfvq878xa57GGepDbyE+f951ZcZwIusht5KfP+86sOK4a6jKPwT993ndmrfHzCMzMEud7BGZm1pATgZlZ4pwIzMwS50RgZpY4J4IOcA/YzvL+NmtNp0cfTY57wHaW97dZ63xF0GbuAdtZ3t9mrXMiaDP3gO0s72+z1rlDWQe4B2xneX+bNeaexWZmiXPPYjMza6iQRCBpmaSHJe2VtK7B/MsljUralf29v27eakmPZn+ri4jHzMymLnfzUUl9wA3ABcABYIekrQ2eNHZrRKwdt+4pwLXAABDAzmzdJ/PGZWZmU1PEFcESYG9E7IuIo8AWYPkU130HcFdEHMl+/O8ClhUQk5mZTVERiWAusL9u+kBWNt7vSrpf0u2S+ltctxTco7W3+fiYNdapnsX/CtwSEc9K+gNgM3BuK28gaQ2wBmD+/PnFR5iTe7T2Nh8fs+aKuCI4CPTXTc/Lyp4XET+NiGezyY3Ar0113br32BARAxExMHv27ALCLpZ7tPY2Hx+z5opIBDuAhZLOlDQDWAFsrV9A0py6yYuBh7LX24ALJc2UNBO4MCsrHfdo7W0+PmbN5a4aiohjktZS+wHvAzZFxG5J1wEjEbEV+CNJFwPHgCPA5dm6RyR9lFoyAbguIo7kjakbBvsHGVo15B6tPcrHx6w59yw2M0uEexabmVlDTgRmZolzIjAzS5wTgZlZ4pwIzMwS50RgZpY4J4Jp8Jg11eLjaanr1FhDleExa6rFx9PMVwQt85g11eLjaeZE0DKPWVMtPp5mHmJiWob3D3vMmgrx8bRUNBtiwonAzCwRHmvIzMwaciIwM0ucE4GZWeKcCMzMEldIIpC0TNLDkvZKWtdg/lWS9ki6X9KQpDPq5h2XtCv72zp+XTMza6/ciUBSH3ADcBGwCFgpadG4xb4LDETErwK3A39dN+/nEbE4+7s4bzxF8tADafPxt1QUMcTEEmBvROwDkLQFWA7sGVsgIu6tW/4+4D0FfG5beeiBtPn4W0qKqBqaC+yvmz6QlTVzBfD1uumTJI1Iuk/SJc1WkrQmW25kdHQ0V8BT4aEH0ubjbynp6KBzkt4DDABvqys+IyIOSnotcI+kByLisfHrRsQGYAPUOpS1O9axoQfGzgg99EBafPwtJUUkgoNAf930vKzsRSSdD1wDvC0inh0rj4iD2f99krYDZwMvSQSdNtg/yNCqIQ89kCgff0tJ7iEmJJ0APAKcRy0B7AAui4jddcucTe0m8bKIeLSufCbwTEQ8K2kWMAwsj4g9TMBDTJiZta7ZEBO5rwgi4piktcA2oA/YFBG7JV0HjETEVuBvgFcC/yIJ4EdZC6GzgH+S9By1+xXrJ0sCZmZWLA86Z2aWCA86Z2ZmDTkRmJklzonAzCxxTgRmZolzIjAzS5wTAR5czFrj74tVTUeHmOhFHlzMWuHvi1VR8lcEHlzMWuHvi1VR8olgbHCxPvV5cDGblL8vVkXuWUztct+Di9lU+ftiZdWsZ7ETgZlZIjzEhJmZNeREYGaWOCcCM7PEORGYmSXOicDMLHGFJAJJyyQ9LGmvpHUN5p8o6dZs/rclLaibd3VW/rCkdxQRj5mZTV3uRCCpD7gBuAhYBKyUtGjcYlcAT0bE64DrgU9k6y4CVgBvBJYB/5i9X1t4jBhrJ3+/rJ3a+f0qYqyhJcDeiNgHIGkLsByof/bwcuAj2evbgX9Q7eHFy4EtEfEs8ANJe7P3K3xLPUaMtZO/X9ZO7f5+FVE1NBfYXzd9ICtruExEHAN+Bpw6xXUBkLRG0oikkdHR0ZaD9Bgx1k7+flk7tfv7VZqbxRGxISIGImJg9uzZLa/vMWKsnfz9snZq9/eriKqhg0B/3fS8rKzRMgcknQC8GvjpFNctxGD/IEOrhjxGjLWFv1/WTu3+fuUeayj7YX8EOI/aj/gO4LKI2F23zJXAr0TEByStAN4VEZdKeiPwBWr3BV4DDAELI+L4RJ/psYbMzFrXbKyh3FcEEXFM0lpgG9AHbIqI3ZKuA0YiYitwE/C57GbwEWothciWu43ajeVjwJWTJQEzMyuWRx81M0uERx81M7OGnAjMzBLnRGBmljgnAjOzxDkRmLWZxyCyVnTj+1JEhzIza8JjEFkruvV98RWBWRt5DCJrRbe+L04EZm3kMYisFd36vrhDmVmbDe8f9hhENmXt/L4061DmRGBmlgj3LDYzs4acCMzMEudEYGaWOCcCM7PEORGYmSXOicDMLHG5EoGkUyTdJenR7P/MBsssljQsabek+yX9ft28z0r6gaRd2d/iPPGYmVnr8l4RrAOGImIhtecNr2uwzDPAqoh4I7AM+KSkk+vmfygiFmd/u3LGY1YaHowubb10/PMOOrccWJq93gxsBz5cv0BEPFL3+r8kHQZmA0/l/Gyz0vJgdGnrteOf94rgtIg4lL1+AjhtooUlLQFmAI/VFX8sqzK6XtKJE6y7RtKIpJHR0dGcYZt1lwejS1uvHf9JE4GkuyU92OBvef1yURuroul4FZLmAJ8D3hcRz2XFVwNvAH4dOIVxVxPj3n9DRAxExMDs2bMn3zKzHubB6NLWa8d/0qqhiDi/2TxJP5Y0JyIOZT/0h5ss9yrgq8A1EXFf3XuPXU08K+kzwJ+2FL1ZSQ32DzK0asiD0SWq145/3nsEW4HVwPrs/53jF5A0A7gDuDkibh83byyJCLgEeDBnPGalMdg/2PUfAOueXjr+ee8RrAcukPQocH42jaQBSRuzZS4F3gpc3qCZ6OclPQA8AMwC/jJnPGZm1iIPQ21mlggPQ21mZg05EZiZJc6JwMwscU4EZmaJcyIw6zG9NAaN5VeG45m3H4GZFajXxqCxfMpyPH1FYNZDem0MGsunLMfTicCsh/TaGDSWT1mOpzuUmfWY4f3DPTMGjeXXS8ezWYcyJwIzs0S4Z7GZmTXkRGBmljgnAjOzxDkRmJklzonAzCxxuRKBpFMk3SXp0ez/zCbLHa97KM3WuvIzJX1b0l5Jt2ZPMzOzJsowXEGqynxs8g4xsQ4Yioj1ktZl040eQP/ziFjcoPwTwPURsUXSp4ErgBtzxmRWSWUZriBFZT82eauGlgObs9ebqT13eEqy5xSfC4w9x7il9c1SU5bhClJU9mOTNxGcFhGHstdPAKc1We4kSSOS7pN0SVZ2KvBURBzLpg8Ac3PGY1ZZZRmuIEVlPzaTVg1Juhs4vcGsa+onIiIkNeumfEZEHJT0WuCe7IH1P2slUElrgDUA8+fPb2VVs0oY7B9kaNVQzwxXYC8o+7HJNcSEpIeBpRFxSNIcYHtEvH6SdT4LfAX4IjAKnB4RxyQNAh+JiHdM9rkeYsLMrHXtGmJiK7A6e70auLPBB8+UdGL2ehZwDrAnahnoXuDdE61vZmbtlTcRrAcukPQocH42jaQBSRuzZc4CRiR9j9oP//qI2JPN+zBwlaS91O4Z3JQzHjMza5FHHzUzS4RHHzUzs4acCMwqoMy9WsumivvaD683K7my92otk6rua18RmJVc2Xu1lklV97UTgVnJlb1Xa5lUdV+71ZBZBfTSA9Krrsz72g+vNzNLnJuPmplZQ04EZmaJcyIwM0ucE4GZWeKcCMwqrIq9YDslpX3nnsVmFVXVXrCdkNq+8xWBWUVVtRdsJ6S275wIzCqqqr1gOyG1fecOZWYVVuZesN1WxX3Xlp7Fkk4BbgUWAI8Dl0bEk+OWeTtwfV3RG4AVEfHl7PnFb+OFB9lfHhG7JvtcJwIzs9a1q2fxOmAoIhYCQ9n0i0TEvRGxOCIWA+cCzwDfqFvkQ2Pzp5IEzMysWHkTwXJgc/Z6M3DJJMu/G/h6RDyT83PNzKwgeRPBaRFxKHv9BHDaJMuvAG4ZV/YxSfdLul7Sic1WlLRG0oikkdHR0Rwhm1lKbeQn430xhXsEku4GTm8w6xpgc0ScXLfskxExs8n7zAHuB14TEf9XV/YEMAPYADwWEddNFrTvEZhNX2pt5CeS2r6Y9j2CiDg/It7U4O9O4MfZj/nYj/rhCd7qUuCOsSSQvfehqHkW+AywpNUNM7PWpNZGfiLeFzV5q4a2Aquz16uBOydYdiXjqoXqkoio3V94MGc8ZjaJ1NrIT8T7oiZv89FTgduA+cAPqTUfPSJpAPhARLw/W24B8B9Af0Q8V7f+PcBsQMCubJ2nJ/tcVw2Z5VPFNvLTldK+8BPKzMwS5yeUmZlZQ04EZmaJcyIws+dVuU19lbctLz+PwMyAarepr/K2FcFXBGYGVLtNfZW3rQhOBGYGVLtNfZW3rQhuPmpmz6tym/oqb9tUuR+BmVni3I/AzKatTC1uyhRrr3CrITObUJla3JQp1l7iKwIzm1CZWtyUKdZe4kRgZhMqU4ubMsXaS3yz2Mwm1azFTTdb4vRiTL3OrYbMrFDdrI/3vYDpcashMytUN+vjfS+gWE4EZjYtE9XHF9WEs9n7+F5AsfI+oez3gI8AZwFLIqJhfY2kZcCngD5gY0Ssz8rPBLYApwI7gfdGxNHJPtdVQ2a9oVF9fFHVNpO9j+8FtK5dVUMPAu8CvjnBB/cBNwAXAYuAlZIWZbM/AVwfEa8DngSuyBmPmXXQYP8gV//m1S/6IZ6o2qbZGX6j8smqfxp9tk1Prg5lEfEQQO3Z800tAfZGxL5s2S3AckkPAecCl2XLbaZ2dXFjnpjMrLvGqm3GzuTHqm2aneE3K2/2Pla8TvQsngvsr5s+ALyFWnXQUxFxrK58brM3kbQGWAMwf/789kRqZrkN9g8ytGroJdU2jc7wB/sHm5Y3ex8r3qSJQNLdwOkNZl0TEXcWH1JjEbEB2AC1ewSd+lwza93YD3m9Zmf4E535N3ofK96kiSAizs/5GQeB/rrpeVnZT4GTJZ2QXRWMlZtZBTU7w/eZf/d1ompoB7AwayF0EFgBXBYRIele4N3UWg6tBjp2hWFmndfsDN9n/t2Vq9WQpN+RdAAYBL4qaVtW/hpJXwPIzvbXAtuAh4DbImJ39hYfBq6StJfaPYOb8sRjZmat8xATZmaJ8BATZmbWkBOBmVninAjMzBLnRGBmlrhS3iyWNAr8cJqrzwJ+UmA4nVb2+KH821D2+KH821D2+KE723BGRMweX1jKRJCHpJFGd83LouzxQ/m3oezxQ/m3oezxQ29tg6uGzMwS50RgZpa4FBPBhm4HkFPZ44fyb0PZ44fyb0PZ44ce2obk7hGYmdmLpXhFYGZmdZwIzMwSl1QikLRM0sOS9kpa1+14WiFpk6TDkh7sdizTIalf0r2S9kjaLemD3Y6pVZJOkvSfkr6XbcNfdDum6ZDUJ+m7kr7S7VimQ9Ljkh6QtEtS6UaflHSypNslfV/SQ5K6Pv52MvcIJPUBjwAXUHss5g5gZUTs6WpgUyTprcDTwM0R8aZux9MqSXOAORHxHUm/BOwELinL/gdQ7eHcr4iIpyW9DPh34IMRcV+XQ2uJpKuAAeBVEfHObsfTKkmPAwMRUcoOZZI2A9+KiI2SZgAvj4inuhlTSlcES4C9EbEvIo5SexjO8i7HNGUR8U3gSLfjmK6IOBQR38le/