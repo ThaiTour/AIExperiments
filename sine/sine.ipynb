{
 "cells": [
  {
   "cell_type": "markdown",
   "id": "d084ab2f",
   "metadata": {},
   "source": [
    "# Machine Learning exercise 3: Sine on ESP\n",
    "2021 07 13 Maarten Pennings\n",
    "\n",
    "I got a nice machine learning (ML) intro with the two previous exercises.\n",
    "I wanted to make a next step, getting some ML running on a tiny device.\n",
    "\n",
    "I found [Easy TinyML on ESP32 and Arduino](https://www.hackster.io/news/easy-tinyml-on-esp32-and-arduino-a9dbc509f26c), \n",
    "which replicates an exercise from the book [**TinyML, Machine Learning with TensorFlow Lite on Arduino and Ultra-Low-Power Microcontrollers** by Pete Warden and Daniel Situnayake](https://tinymlbook.com/). \n",
    "The book is an e-book, and you can get a sample of the first chapters. \n",
    "The website now only gives 2 chapters, but in the past that was six (you might still find that somewhere), \n",
    "which includes the important chapter _Chapter 4. The “Hello World” of TinyML: Building and Training a Model_.\n",
    "This \"Hello World\" of ML is actually a network that \"predicts\" the _sin(x)_ given _x_.\n",
    "\n",
    "It seems that this \"Hello World\" was even a standard example of [tensorflow](https://www.tensorflow.org/); \n",
    "it was on the tensorflow [github](https://github.com/tensorflow/tensorflow/tree/master/tensorflow/lite/micro) repo.\n",
    "But as of June 25, 2021, the Tensorflow Lite for microcontrollers codebase has moved to a stand-alone \n",
    "[github repository](https://github.com/tensorflow/tflite-micro). We find it down deep [https://github.com/tensorflow/tflite-micro/tree/main/tensorflow/lite/micro/examples/hello_world](https://github.com/tensorflow/tflite-micro/tree/main/tensorflow/lite/micro/examples/hello_world).\n",
    "\n"
   ]
  },
  {
   "cell_type": "markdown",
   "id": "c12c12e2",
   "metadata": {},
   "source": [
    "## The project directory\n",
    "Check my first exercise for details on replicating this project. Basically you need\n",
    "\n",
    "- Python on your system\n",
    "- Start with an empty project directory; then copy `requirements.txt`, `setup.bat`, `run.bat`, and `sin.ipynb` into it.\n",
    "- Run `setup.bat` to create a virtual Python environment (in subdirectory `env` in the project directory).\n",
    "- Note that several packages will be installed (including Jupyter), as listed in `requirements.txt`.\n",
    "- Run `run.b