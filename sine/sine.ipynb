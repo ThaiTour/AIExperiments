{
 "cells": [
  {
   "cell_type": "markdown",
   "id": "d084ab2f",
   "metadata": {},
   "source": [
    "# Machine Learning exercise 3: Sine on ESP\n",
    "2021 07 13 Maarten Pennings\n",
    "\n",
    "I got a nice machine learning (ML) intro with the two previous exercises.\n",
    "I wanted to make a next step, getting some ML running on a tiny device.\n",
    "\n",
    "I found [Easy TinyML on ESP32 and Arduino](https://www.hackster.io/news/easy-tinyml-on-esp32-and-arduino-a9dbc509f26c), \n",
    "which replicates an exercise from the book [**TinyML, Machine Learning with TensorFlow Lite on Arduino and Ultra-Low-Power Microcontrollers** by Pete Warden and Daniel Situnayake](https://tinymlbook.com/). \n",
    "The book is an e-book, and you can get a sample of the first chapters. \n",
    "The website now only gives 2 chapters, but in the past that was six (you might still find that somewhere), \n",
    "which includes the importan