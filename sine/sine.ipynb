{
 "cells": [
  {
   "cell_type": "markdown",
   "id": "d084ab2f",
   "metadata": {},
   "source": [
    "# Machine Learning exercise 3: Sine on ESP\n",
    "2021 07 13 Maarten Pennings\n",
    "\n",
    "I got a nice machine learning (ML) intro with the two previous exercises.\n",
    "I wanted to make a next step, getting some ML running on a tiny device.\n",
    "\n",
    "I found [Easy TinyML on ESP32 and Arduino](https://www.hackster.io/news/easy-tinyml-on-esp32-and-arduino-a9dbc509f26c), \n",
    "which replicates an exercise from the book [**TinyML, Machine Learning with TensorFlow Lite on Arduino and Ultra-Low-Power Microcontrollers** by Pete Warden and Daniel Situnayake](https://tinymlbook.com/). \n",
    "The book is an e-book, and you can get a sample of the first chapters. \n",
    "The website now only gives 2 chapters, but in the past that was six (you might still find that somewhere), \n",
    "which includes the important chapter _Chapter 4. The “Hello World” of TinyML: Building and Training a Model_.\n",
    "This \"Hello World\" of ML is actually a network that \"predicts\" the _sin(x)_ given _x_.\n",
    "\n",
    "It seems that this \"Hello World\" was even a standard example of [tensorflow](https://www.tensorflow.org/); \n",
    "it was on the tensorflow [github](https://github.com/tensorflow/tensorflow/tree/master/tensorflow/lite/micro) repo.\n",
    "But as of June 25, 2021, the Tensorflow Lite for microcontrollers codebase has moved to a stand-alone \n",
    "[github repository](https://github.com/tensorflow/tflite-micro). We find it down deep [https://github.com/tensorflow/tflite-micro/tree/main/tensorflow/lite/micro/examples/hello_world](https://github.com/tensorflow/tflite-micro/tree/main/tensorflow/lite/micro/examples/hello_world).\n",
    "\n"
   ]
  },
  {
   "cell_type": "markdown",
   "id": "c12c12e2",
   "metadata": {},
   "source": [
    "## The project directory\n",
    "Check my first exercise for details on replicating this project. Basically you need\n",
    "\n",
    "- Python on your system\n",
    "- Start with an empty project directory; then copy `requirements.txt`, `setup.bat`, `run.bat`, and `sin.ipynb` into it.\n",
    "- Run `setup.bat` to create a virtual Python environment (in subdirectory `env` in the project directory).\n",
    "- Note that several packages will be installed (including Jupyter), as listed in `requirements.txt`.\n",
    "- Run `run.bat` to run the Jupyter server and client (web page in you browser).\n",
    "- Open this file (`sin.ipynb`).\n"
   ]
  },
  {
   "cell_type": "markdown",
   "id": "bc7ba540",
   "metadata": {},
   "source": [
    "## Random\n",
    "\n",
    "To get reproducible results, we seed the random generators."
   ]
  },
  {
   "cell_type": "code",
   "execution_count": 1,
   "id": "f80a85cf",
   "metadata": {},
   "outputs": [],
   "source": [
    "import numpy as np\n",
    "import tensorflow as tf\n",
    "\n",
    "SEED = 42\n",
    "\n",
    "np.random.seed(SEED)\n",
    "tf.random.set_seed(SEED)"
   ]
  },
  {
   "cell_type": "markdown",
   "id": "adb1e47d",
   "metadata": {},
   "source": [
    "## Try pi\n",
    "For a network that computes sine, we don't need to download a data-set, we just use Python's `math` libary to get `sin()` data. Let's try it."
   ]
  },
  {
   "cell_type": "code",
   "execution_count": 2,
   "id": "0843d66f",
   "metadata": {},
   "outputs": [
    {
     "data": {
      "text/plain": [
       "(3.141592653589793, 1.2246467991473532e-16)"
      ]
     },
     "execution_count": 2,
     "metadata": {},
     "output_type": "execute_result"
    }
   ],
   "source": [
    "import math\n",
    "\n",
    "xs=[]\n",
    "ys=[]\n",
    "for t in range(50+1) :\n",
    "    x = 2*math.pi * t/50.0\n",
    "    y = math.sin(x)\n",
    "    xs.append(x)\n",
    "    ys.append(y)\n",
    "\n",
    "xs[25],ys[25]"
   ]
  },
  {
   "cell_type": "markdown",
   "id": "49ea4d95",
   "metadata": {},
   "source": [
    "Looks good, for the item halfway the xs list, `x` is about π and `y` is about 0. Let's try to plot it.\n",
    "The `'g.'` means green dots."
   ]
  },
  {
   "cell_type": "code",
   "execution_count": 3,
   "id": "2ff01b35",
   "metadata": {},
   "outputs": [
    {
     "data": {
      "image/png": "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\n",
      "text/plain": [
       "<Figure size 432x288 with 1 Axes>"
      ]
     },
     "metadata": {
      "needs_background": "light"
     },
     "output_type": "display_data"
    }
   ],
   "source": [
    "import matplotlib.pyplot as plt\n",
    "plt.plot(xs,ys,'g.');"
   ]
  },
  {
   "cell_type": "markdown",
   "id": "e17f65cf",
   "metadata": {},
   "source": [
    "## Data set\n",
    "\n",
    "Let's now be a bit more serious about creating a data set. We use numpy to work with vectors of floats."
   ]
  },
  {
   "cell_type": "code",
   "execution_count": 4,
   "id": "6c3d4461",
   "metadata": {},
   "outputs": [
    {
     "data": {
      "image/png": "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