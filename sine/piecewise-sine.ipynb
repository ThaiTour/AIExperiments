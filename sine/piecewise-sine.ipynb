{
 "cells": [
  {
   "cell_type": "markdown",
   "id": "650143ec",
   "metadata": {},
   "source": [
    "# Intermezzo - Piece-wise linear sine\n",
    "2021 08 3 Maarten Pennings\n",
    "\n",
    "When [modeling the sine function](sine.ipynb), it seemed that the simple model (`model_1`) behaved like a piece-wise linear approximation. Some investigation indicated that this model could indeed implement a piece-wise linear curve, see the [notebook](piecewise-linear.ipynb) on that for details. \n",
    "\n",
    "The next question I had: if I have a model with 9 + 1 neurons, the piece-wise linear investigation suggests that an approximation with 9 segments is possible. The training didn't find that. Can we configure that by hand?\n"
   ]
  },
  {
   "cell_type": "markdown",
   "id": "2beae930",
   "metadata": {},
   "source": [
    "# Getting started\n",
    "We st