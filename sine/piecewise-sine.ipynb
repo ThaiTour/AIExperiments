{
 "cells": [
  {
   "cell_type": "markdown",
   "id": "650143ec",
   "metadata": {},
   "source": [
    "# Intermezzo - Piece-wise linear sine\n",
    "2021 08 3 Maarten Pennings\n",
    "\n",
    "When [modeling the sine function](sine.ipynb), it seemed that the simple model (`model_1`) behaved like a piece-wise linear approximation. Some investigation indicated that this model could indeed implement a piece-wise linear curve, see the [notebook](piecewise-linear.ipynb) on that for details. \n",
    "\n",
    "The next question I had: if I have a model with 9 + 1 neurons, the piece-wise linear investigation suggests that an approximation with 9 segments is possible. The training didn't find that. Can we configure that by hand?\n"
   ]
  },
  {
   "cell_type": "markdown",
   "id": "2beae930",
   "metadata": {},
   "source": [
    "# Getting started\n",
    "We start by importing `math` for sine and `matploylib.pyplot` for plotting it."
   ]
  },
  {
   "cell_type": "code",
   "execution_count": 1,
   "id": "a236d6d0",
   "metadata": {},
   "outputs": [],
   "source": [
    "import math\n",
    "import matplotlib.pyplot as plt"
   ]
  },
  {
   "cell_type": "markdown",
   "id": "6f819c38",
   "metadata": {},
   "source": [
    "We also use the `relu()` function which is not standard in Python., which is not standard in Python, so we define it ourselves."
   ]
  },
  {
   "cell_type": "code",
   "execution_count": 2,
   "id": "3460badb",
   "metadata": {},
   "outputs": [],
   "source": [
    "def relu(x) : return max(0,x)"
   ]
  },
  {
   "cell_type": "markdown",
   "id": "3f796684",
   "metadata": {},
   "source": [
    "## The sine()\n",
    "\n",
    "Let us first set up the sine data. We create a list of 101 samples."
   ]
  },
  {
   "cell_type": "code",
   "execution_count": 3,
   "id": "e082c654",
   "metadata": {},
   "outputs": [
    {
     "data": {
      "image/png": "iVBORw0KGgoAAAANSUhEUgAAAYIAAAD4CAYAAADhNOGaAAAAOXRFWHRTb2Z0d2FyZQBNYXRwbG90bGliIHZlcnNpb24zLjQuMiwgaHR0cHM6Ly9tYXRwbG90bGliLm9yZy8rg+JYAAAACXBIWXMAAAsTAAALEwEAmpwYAAAwLElEQVR4nO3deZzNdf//8cdrZswMQ4YxdiJMWaqRMUKWLOEiirK0uahIoUKSSbaxlPVKXSSukoQS5WvJvmbJ2PedkGWMLWYsY96/P+boN2ks45yZ95xzXvfb7dzmnM9yzvOo2zzns77FGINSSinv5WM7gFJKKbu0CJRSystpESillJfTIlBKKS+nRaCUUl7Oz3aAe5EnTx5TrFgx2zGUUsqtrF+//rQxJvTm6W5ZBMWKFSMmJsZ2DKWUcisicji16bprSCmlvJwWgVJKeTktAqWU8nJaBEop5eW0CJRSysu5pAhE5H8ickpEtt1ivojIpyKyT0S2iMhjKea1F