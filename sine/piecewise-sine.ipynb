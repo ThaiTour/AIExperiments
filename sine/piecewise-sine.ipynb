{
 "cells": [
  {
   "cell_type": "markdown",
   "id": "650143ec",
   "metadata": {},
   "source": [
    "# Intermezzo - Piece-wise linear sine\n",
    "2021 08 3 Maarten Pennings\n",
    "\n",
    "When [modeling the sine function](sine.ipynb), it seemed that the simple model (`model_1`) behaved like a piece-wise linear approximation. Some investigation indicated that this model could indeed implement a piece-wise linear curve, see the [notebook](piecewise-linear.ipynb) on that for details. \n",
    "\n",
    "The next question I had: if I have a model with 9 + 1 neurons, the piece-wise linear investigation suggests that an approximation with 9 segments is possible. The training didn't find that. Can we configure that by hand?\n"
   ]
  },
  {
   "cell_type": "markdown",
   "id": "2beae930",
   "metadata": {},
   "source": [
    "# Getting started\n",
    "We start by importing `math` for sine and `matploylib.pyplot` for plotting it."
   ]
  },
  {
   "cell_type": "code",
   "execution_count": 1,
   "id": "a236d6d0",
   "metadata": {},
   "outputs": [],
   "source": [
    "import math\n",
    "import matplotlib.pyplot as plt"
   ]
  },
  {
   "cell_type": "markdown",
   "id": "6f819c38",
   "metadata": {},
   "source": [
    "We also use the `relu()` function which is not standard in Python., which is not standard in Python, so we define it ourselves."
   ]
  },
  {
   "cell_type": "code",
   "execution_count": 2,
   "id": "3460badb",
   "metadata": {},
   "outputs": [],
   "source": [
    "def relu(x) : return max(0,x)"
   ]
  },
  {
   "cell_type": "markdown",
   "id": "3f796684",
   "metadata": {},
   "source": [
    "## The sine()\n",
    "\n",
    "Let us first set up the sine data. We create a list of 101 samples."
   ]
  },
  {
   "cell_type": "code",
   "execution_count": 3,
   "id": "e082c654",
   "metadata": {},
   "outputs": [
    {
     "data": {
      "image/png": "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