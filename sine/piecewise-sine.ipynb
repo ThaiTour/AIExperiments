{
 "cells": [
  {
   "cell_type": "markdown",
   "id": "650143ec",
   "metadata": {},
   "source": [
    "# Intermezzo - Piece-wise linear sine\n",
    "2021 08 3 Maarten Pennings\n",
    "\n",
    "When [modeling the sine function](sine.ipynb), it seemed that the simple model (`model_1`) behaved like a piece-wise linear approximation. Some investigation indicated that this model could indeed implement a piece-wise linear curve, see the [notebook](piecewise-linear.ipynb) on that for details. \n",
    "\n",
    "The next question I had: if I have a model with 9 + 1 neurons, the piece-wise linear investigation suggests that an approximation with 9 segments is possible. The training didn't find that. Can we configure that by hand?\n"
   ]
  },
  {
   "cell_type": "markdown",
   "id": "2beae930",
   "metadata": {},
   "source": [
    "# Getting started\n",
    "We start by importing `math` for sine and `matploylib.pyplot` for plotting it."
   ]
  },
  {
   "cell_type": "code",
   "execution_count": 1,
   "id": "a236d6d0",
   "metadata": {},
   "outputs": [],
   "source": [
    "import math\n",
    "import matplotlib.pyplot as plt"
   ]
  },
  {
   "cell_type": "markdown",
   "id": "6f819c38",
   "metadata": {},
   "source": [
    "We also use the `relu()` function which is not standard in Python., which is not standard in Python, so we define it ourselves."
   ]
  },
  {
   "cell_type": "code",
   "execution_count": 2,
   "id": "3460badb",
   "metadata": {},
   "outputs": [],
   "source": [
    "def relu(x) : return max(0,x)"
   ]
  },
  {
   "cell_type": "markdown",
   "id": "3f796684",
   "metadata": {},
   "source": [
    "## The sine()\n",
    "\n",
    "Let us first set up the sine data. We create a list of 101 samples."
   ]
  },
  {
   "cell_type": "code",
   "execution_count": 3,
   "id": "e082c654",
   "metadata": {},
   "outputs": [
    {
     "data": {
      "image/png": "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\n",
      "text/plain": [
       "<Figure size 432x288 with 1 Axes>"
      ]
     },
     "metadata": {
      "needs_background": "light"
     },
     "output_type": "display_data"
    }
   ],
   "source": [
    "sine_xs=[ 2*math.pi * t/100.0 for t in range(100+1)]\n",
    "sine_ys=[ math.sin(x) for x in sine_xs ]\n",
    "\n",
    "plt.plot(sine_xs,sine_ys,'g-');"
   ]
  },
  {
   "cell_type": "markdown",
   "id": "595688e9",
   "metadata": {},
   "source": [
    "As a next step, we add the knee-points. The `d1` and `d2` spread the knee-points evenly around the two extremes (but probably not at the most optimal positions)."
   ]
  },
  {
   "cell_type": "code",
   "execution_count": 4,
   "id": "b060c906",
   "metadata": {},
   "outputs": [
    {
     "data": {
      "image/png": "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\n",
      "text/plain": [
       "<Figure size 432x288 with 1 Axes>"
      ]
     },
     "metadata": {
      "needs_background": "light"
     },
     "output_type": "display_data"
    }
   ],
   "source": [
    "d1 = 0.2\n",
    "d2 = 0.7\n",
    "knee_xs = [ 0, \n",
    "            0.5*math.pi-d2, 0.5*math.pi-d1, 0.5*math.pi+d1, 0.5*math.pi+d2,\n",
    "            1.5*math.pi-d2, 1.5*math.pi-d1, 1.5*math.pi+d1, 1.5*math.pi+d2,\n",
    "            2*math.pi\n",
    "          ]\n",
    "knee_ys = [ math.sin(x) for x in knee_xs ]\n",
    "\n",
    "plt.plot(sine_xs,sine_ys,'g-');\n",
    "plt.plot(knee_xs,knee_ys,'go');"
   ]
  },
  {
   "cell_type": "markdown",
   "id": "f9b5a72c",
   "metadata": {},
   "source": [
    "## Setting up the piece-wise linear approximation\n",
    "\n",
    "We set up the first layer with 9 neurons, just like `model_1` in the [sine notebook](sine.ipynb) had.\n",
    "\n",
    "As [piecewise linear notebook](piecewise-linear.ipynb) suggested, the weights are set to 1 and the biases to the x-ccordinate of the knee-points."
   ]
  },
  {
   "cell_type": "code",
   "execution_count": 5,
   "id": "f77e9710",
   "metadata": {},
   "outputs": [],
   "source": [
    "# Layer 1\n",
    "def neuron_1_0(v_0) :\n",
    "    weight_1_0 = 1\n",
    "    bias_1_0   = -knee_xs[0]\n",
    "    return relu( weight_1_0 * v_0 + bias_1_0 )\n",
    "\n",
    "def neuron_1_1(v_0) :\n",
    "    weight_1_1 = 1\n",
    "    bias_1_1   = -knee_xs[1]\n",
    "    return relu( weight_1_1 * v_0 + bias_1_1 )\n",
    "\n",
    "def neuron_1_2(v_0) :\n",
    "    weight_1_2 = 1\n",
    "    bias_1_2   = -knee_xs[2]\n",
    "    return relu( weight_1_2 * v_0 + bias_1_2 )\n",
    "\n",
    "def neuron_1_3(v_0) :\n",
    "    weight_1_3 = 1\n",
    "    bias_1_3   = -knee_xs[3]\n",
    "    return relu( weight_1_3 * v_0 + bias_1_3 )\n",
    "\n",
    "def neuron_1_4(v_0) :\n",
    "    weight_1_4 = 1\n",
    "    bias_1_4   = -knee_xs[4]\n",
    "    return relu( weight_1_4 * v_0 + bias_1_4 )\n",
    "\n",
    "def neuron_1_5(v_0) :\n",
    "    weight_1_5 = 1\n",
    "    bias_1_5   = -knee_xs[5]\n",
    "    return relu( weight_1_5 * v_0 + bias_1_5 )\n",
    "\n",
    "def neuron_1_6(v_0) :\n",
    "    weight_1_6 = 1\n",
    "    bias_1_6   = -knee_xs[6]\n",
    "    return relu( weight_1_6 * v_0 + bias_1_6 )\n",
    "\n",
    "def neuron_1_7(v_0) :\n",
    "    weight_1_7 = 1\n",
    "    bias_1_7   = -knee_xs[7]\n",
    "    return relu( weight_1_7 * v_0 + bias_1_7 )\n",
    "\n",
    "def neuron_1_8(v_0) :\n",
    "    weight_1_8 = 1\n",
    "    bias_1_8   = -knee_xs[8]\n",
    "    return relu( weight_1_8 * v_0 + bias_1_8 )"
   ]
  },
  {
   "cell_type": "markdown",
   "id": "577c1c86",
   "metadata": {},
   "source": [
    "For the second layer, we need the slopes. We have 10 knee points (the lenght of e.g. `knee_xs`), and thus 9 segments, and thus 9 slopes (numbered 0 up to and including 8)."
   ]
  },
  {
   "cell_type": "code",
   "execution_count": 6,
   "id": "e839b1dc",
   "metadata": {},
   "outputs": [],
   "source": [
    "# layer 2\n",
    "slope0 = (knee_ys[1]-knee_ys[0]) / (knee_xs[1]-knee_xs[0])\n",
    "slope1 = (knee_ys[2]-knee_ys[1]) / (knee_xs[2]-knee_xs[1])\n",
    "slope2 = (knee_ys[3]-knee_ys[2]) / (knee_xs[3]-knee_xs[2])\n",
    "slope3 = (knee_ys[4]-knee_ys[3]) / (knee_xs[4]-knee_xs[3])\n",
    "slope4 = (knee_ys[5]-knee_ys[4]) / (knee_xs[5]-knee_xs[4])\n",
    "slope5 = (knee_ys[6]-knee_ys[5]) / (knee_xs[6]-knee_xs[5])\n",
    "slope6 = (knee_ys[7]-knee_ys[6]) / (knee_xs[7]-knee_xs[6])\n",
    "slope7 = (knee_ys[8]-knee_ys[7]) / (knee_xs[8]-knee_xs[7])\n",
    "slope8 = (knee_ys[9]-knee_ys[8]) / (knee_xs[9]-knee_xs[8])"
   ]
  },
  {
   "cell_type": "markdown",
   "id": "ea2a9c0c",
   "metadata": {},
   "source": [
    "Layer 2 has one neuron. As [piecewise linear notebook](piecewise-linear.ipynb) suggested, the weight for segment _k_ is the slope for segment _k_ minus the slope for the previous segment."
   ]
  },
  {
   "cell_type": "code",
   "execution_count": 7,
   "id": "ca5974d8",
   "metadata": {},
   "outputs": [],
   "source": [
    "# layer 2\n",
    "def neuron_2(v_1_0, v_1_1, v_1_2, v_1_3, v_1_4, v_1_5, v_1_6, v_1_7, v_1_8) :\n",
    "    weight_2_0 = slope0\n",
    "    weight_2_1 = slope1 - slope0\n",
    "    weight_2_2 = slope2 - slope1\n",
    "    weight_2_3 = slope3 - slope2\n",
    "    weight_2_4 = slope4 - slope3\n",
    "    weight_2_5 = slope5 - slope4\n",
    "    weight_2_6 = slope6 - slope5\n",
    "    weight_2_7 = slope7 - slope6\n",
    "    weight_2_8 = slope8 - slope7\n",
    "    bias_2     = knee_xs[0]\n",
    "    return (weight_2_0*v_1_0 + weight_2_1*v_1_1 + weight_2_2*v_1_2 + weight_2_3*v_1_3 + weight_2_4*v_1_4 +\n",
    "        weight_2_5*v_1_5 + weight_2_6*v_1_6 + weight_2_7*v_1_7 + weight_2_8*v_1_8 + bias_2)"
   ]
  },
  {
   "cell_type": "markdown",
   "id": "0a7cff59",
   "metadata": {},
   "source": [
    "The next function defines the data flow through the whole network."
   ]
  },
  {
   "cell_type": "code",
   "execution_count": 8,
   "id": "8aa370b2",
   "metadata": {},
   "outputs": [],
   "source": [
    "# Network\n",
    "def network(v_0) :\n",
    "    v_1_0 = neuron_1_0(v_0)\n",
    "    v_1_1 = neuron_1_1(v_0)\n",
    "    v_1_2 = neuron_1_2(v_0)\n",
    "    v_1_3 = neuron_1_3(v_0)\n",
    "    v_1_4 = neuron_1_4(v_0)\n",
    "    v_1_5 = neuron_1_5(v_0)\n",
    "    v_1_6 = neuron_1_6(v_0)\n",
    "    v_1_7 = neuron_1_7(v_0)\n",
    "    v_1_8 = neuron_1_8(v_0)\n",
    "    v_2   = neuron_2(v_1_0,v_1_1,v_1_2,v_1_3,v_1_4,v_1_5,v_1_6,v_1_7,v_1_8)\n",
    "    return v_2"
   ]
  },
  {
   "cell_type": "markdown",
   "id": "b5844154",
   "metadata": {},
   "source": [
    "Let's now plot its graph."
   ]
  },
  {
   "cell_type": "code",
   "execution_count": 9,
   "id": "0f0814d9",
   "metadata": {},
   "outputs": [
    {
     "data": {
      "image/png": "iVBORw0KGgoAAAANSUhEUgAAAYIAAAD4CAYAAADhNOGaAAAAOXRFWHRTb2Z0d2FyZQBNYXRwbG90bGliIHZlcnNpb24zLjQuMiwgaHR0cHM6Ly9tYXRwbG90bGliLm9yZy8rg+JYAAAACXBIWXMAAAsTAAALEwEAmpwYAAA1+ElEQVR4nO3deXhM5/vH8fedRBKJJUTsS0ppVSkae4sqSrXoZqmqohS11NoQe8VSW1tdlZa2lqpWqWoVtdXSCrXvlNjFviQhkef3x4zfN4glZpIzk7lf1zXXzHnOOTOfGa5z52zPI8YYlFJKeS4vqwMopZSylhYCpZTycFoIlFLKw2khUEopD6eFQCmlPJyP1QHuR65cuUxoaKjVMZRSyq2sX7/+lDEm5OZ2tywEoaGhREVFWR1DKaXciogcTKldDw0ppZSH00KglFIeTguBUkp5OC0ESinl4bQQKKWUh3NKIRCRr0TkpIhsvc18EZGPRGSviGwWkfLJ5rUSkT32Rytn5FFKKXXvnLVHMAWod4f59YHi9kd74DMAEckJDAIqARWBQSKSw0mZlFJK3QOn3EdgjFkhIqF3WKQR8I2x9Xm9VkSCRCQfUBNYZIw5AyAii7AVlBnOyKVSMG0aRERAdDQULgyRkdCiBQCxCbFsObGFA+cOcDb+LOfiz5GYlEiQfxB