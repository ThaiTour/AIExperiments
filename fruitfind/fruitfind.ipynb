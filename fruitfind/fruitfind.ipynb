{
 "cells": [
  {
   "cell_type": "markdown",
   "id": "5b12dd3d",
   "metadata": {},
   "source": [
    "# Machine Learning exercise 2: Fruit 360 classification\n",
    "2021 06 21 Maarten Pennings Created\n",
    "\n",
    "I followed \"Using Python to Implement a Complete Machine Learning Flow\", a Doulos Webinar by John Aynsley.\n",
    "\n",
    "With this notebook, I try to replicate John's second example."
   ]
  },
  {
   "cell_type": "markdown",
   "id": "99533f12",
   "metadata": {},
   "source": [
    "## The project directory\n",
    "\n",
    "Check my first exercise for details. Basically you need\n",
    "\n",
    "- Python on your system\n",
    "- Start with an empty _project_ directory; then copy `requirements.txt`, `setup.bat`, `run.bat`, and `fruitfind.ipynb` into it.\n",
    "- Run `setup.bat` to create a virtual Python environment (in subdirectory `env` in the project dictctory).\n",
    "- Note that several packages will be installed (including Jupyter), as listed in `requirements.txt`.\n",
    "- Run `run.bat` to run the Jupyter server and client (web page in you browser).\n",
    "- Open this file (`fruitfind.ipynb`)."
   ]
  },
  {
   "cell_type": "markdown",
   "id": "7bd6cdd6",
   "metadata": {},
   "source": [
    "## Getting the data\n",
    "\n",
    "Download [A dataset with 90380 images of 131 fruits a