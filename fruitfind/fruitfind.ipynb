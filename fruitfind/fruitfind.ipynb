{
 "cells": [
  {
   "cell_type": "markdown",
   "id": "5b12dd3d",
   "metadata": {},
   "source": [
    "# Machine Learning exercise 2: Fruit 360 classification\n",
    "2021 06 21 Maarten Pennings Created\n",
    "\n",
    "I followed \"Using Python to Implement a Complete Machine Learning Flow\", a Doulos Webinar by John Aynsley.\n",
    "\n",
    "With this notebook, I try to replicate John's second example."
   ]
  },
  {
   "cell_type": "markdown",
   "id": "99533f12",
   "metadata": {},
   "source": [
    "## The project directory\n",
    "\n",
    "Check my first exercise for details. Basically you need\n",
    "\n",
    "- Python on your system\n",
    "- Start with an empty _project_ directory; then copy `requirements.txt`, `setup.bat`, `run.bat`, and `fruitfind.ipynb` into it.\n",
    "- Run `setup.bat` to create a virtual Python environment (in subdirectory `env` in the project dictctory).\n",
    "- Note that several packages will be installed (including Jupyter), as listed in `requirements.txt`.\n",
    "- Run `run.bat` to run the Jupyter server and client (web page in you browser).\n",
    "- Open this file (`fruitfind.ipynb`)."
   ]
  },
  {
   "cell_type": "markdown",
   "id": "7bd6cdd6",
   "metadata": {},
   "source": [
    "## Getting the data\n",
    "\n",
    "Download [A dataset with 90380 images of 131 fruits and vegetables](https://www.kaggle.com/moltean/fruits) from Kaggle. \n",
    "You get a zip file of 760 MB. Unzip it in the project directory, so that it looks as follows\n",
    "\n",
    "```text\n",
    "+---env                    # The virtual Python environment created by setup.bat\n",
    "|   +---Lib\n",
    "|   +---Scripts\n",
    "|   :\n",
    "+---fruits-360             # Image set downloading from kaggle\n",
    "|   +---readme.md\n",
    "|   +---papers\n",
    "|   +---Training\n",
    "|   |   +---Apple Braeburn\n",
    "|   |   |   +--- 0_100.jpg\n",
    "|   |   |   +--- 1_100.jpg\n",
    "|   |   :   :\n",
    "|   |   +---Watermelon\n",
    "|   +---Test\n",
    "|       +---Apple Braeburn\n",
    "|       |   +--- 3_100.jpg\n",
    "|       |   +--- 4_100.jpg\n",
    "|       :   :\n",
    "|       +---Watermelon\n",
    "+---fruitfind.ipynb        # Files from this repo\n",
    "+---requirements.txt\n",
    "+---run.bat\n",
    "+---setup.bat\n",
    "```\n",
    "\n",
    "As the `readme.md` in `fruits-360` explains\n",
    "\n",
    " - There are 90483 images in total.\n",
    " - The `Training` directory has 67692 images.\n",
    " - The `Test` directory has 22688 images.\n",
    " - There are 131 classes (of fruits, vegetables and nuts).\n",
    " - Both `Training` and `Test` contain 131 directories, one for each class, with several jpg's inside.\n",
    " - The images are 100×100 pixels in color.\n",
    "\n"
   ]
  },
  {
   "cell_type": "markdown",
   "id": "4c917243",
   "metadata": {},
   "source": [
    "Let's first try to see if we can plot an image: `fruits-360\\Training\\Apple Braeburn\\0_100.jpg`. \n",
    "\n",
    "Note that we use a _raw_ python string for the file path so that we do not have to escape the back-slashes. We convert the image to a numpy array, since matplotlib likes that as input."
   ]
  },
  {
   "cell_type": "code",
   "execution_count": 1,
   "id": "8c97782f",
   "metadata": {},
   "outputs": [
    {
     "name": "stdout",
     "output_type": "stream",
     "text": [
      "Wall time: 325 ms\n"
     ]
    },
    {
     "data": {
      "text/plain": [
       "<matplotlib.image.AxesImage at 0x17d0ba40730>"
      ]
     },
     "execution_count": 1,
     "metadata": {},
     "output_type": "execute_result"
    },
    {
     "data": {
      "image/png": "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