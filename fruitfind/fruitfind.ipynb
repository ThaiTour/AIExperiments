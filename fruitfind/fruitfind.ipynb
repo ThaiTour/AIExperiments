{
 "cells": [
  {
   "cell_type": "markdown",
   "id": "5b12dd3d",
   "metadata": {},
   "source": [
    "# Machine Learning exercise 2: Fruit 360 classification\n",
    "2021 06 21 Maarten Pennings Created\n",
    "\n",
    "I followed \"Using Python to Implement a Complete Machine Learning Flow\", a Doulos Webinar by John Aynsley.\n",
    "\n",
    "With this notebook, I try to replicate John's second example."
   ]
  },
  {
   "cell_type": "markdown",
   "id": "99533f12",
   "metadata": {},
   "source": [
    "## The project directory\n",
    "\n",
    "Check my first exercise for details. Basically you need\n",
    "\n",
    "- Python on your system\n",
    "- Start with an empty _project_ directory; then copy `requirements.txt`, `setup.bat`, `run.bat`, and `fruitfind.ipynb` into it.\n",
    "- Run `setup.bat` to create a virtual Python environment (in subdirectory `env` in the project dictctory).\n",
    "- Note that several packages will be installed (including Jupyter), as listed in `requirements.txt`.\n",
    "- Run `run.bat` to run the Jupyter server and client (web page in you browser).\n",
    "- Open this file (`fruitfind.ipynb`)."
   ]
  },
  {
   "cell_type": "markdown",
   "id": "7bd6cdd6",
   "metadata": {},
   "source": [
    "## Getting the data\n",
    "\n",
    "Download [A dataset with 90380 images of 131 fruits and vegetables](https://www.kaggle.com/moltean/fruits) from Kaggle. \n",
    "You get a zip file of 760 MB. Unzip it in the project directory, so that it looks as follows\n",
    "\n",
    "```text\n",
    "+---env                    # The virtual Python environment created by setup.bat\n",
    "|   +---Lib\n",
    "|   +---Scripts\n",
    "|   :\n",
    "+---fruits-360             # Image set downloading from kaggle\n",
    "|   +---readme.md\n",
    "|   +---papers\n",
    "|   +---Training\n",
    "|   |   +---Apple Braeburn\n",
    "|   |   |   +--- 0_100.jpg\n",
    "|   |   |   +--- 1_100.jpg\n",
    "|   |   :   :\n",
    "|   |   +---Watermelon\n",
    "|   +---Test\n",
    "|       +---Apple Braeburn\n",
    "|       |   +--- 3_100.jpg\n",
    "|       |   +--- 4_100.jpg\n",
    "|       :   :\n",
    "|       +---Watermelon\n",
    "+---fruitfind.ipynb        # Files from this repo\n",
    "+---requirements.txt\n",
    "+---run.bat\n",
    "+---setup.bat\n",
    "```\n",
    "\n",
    "As the `readme.md` in `fruits-360` explains\n",
    "\n",
    " - There are 90483 images in total.\n",
    " - The `Training` directory has 67692 images.\n",
    " - The `Test` directory has 22688 images.\n",
    " - There are 131 classes (of fruits, vegetables and nuts).\n",
    " - Both `Training` and `Test` contain 131 directories, one for each class, with several jpg's inside.\n",
    " - The images are 100×100 pixels in color.\n",
    "\n"
   ]
  },
  {
   "cell_type": "markdown",
   "id": "4c917243",
   "metadata": {},
   "source": [
    "Let's first try to see if we can plot an image: `fruits-360\\Training\\Apple Braeburn\\0_100.jpg`. \n",
    "\n",
    "Note that we use a _raw_ python string for the file path so that we do not have to escape the back-slashes. We convert the image to a numpy array, since matplotlib likes that as input."
   ]
  },
  {
   "cell_type": "code",
   "execution_count": 1,
   "id": "8c97782f",
   "metadata": {},
   "outputs": [
    {
     "name": "stdout",
     "output_type": "stream",
     "text": [
      "Wall time: 325 ms\n"
     ]
    },
    {
     "data": {
      "text/plain": [
       "<matplotlib.image.AxesImage at 0x17d0ba40730>"
      ]
     },
     "execution_count": 1,
     "metadata": {},
     "output_type": "execute_result"
    },
    {
     "data": {
      "image/png": "iVBORw0KGgoAAAANSUhEUgAAAPsAAAD7CAYAAACscuKmAAAAOXRFWHRTb2Z0d2FyZQBNYXRwbG90bGliIHZlcnNpb24zLjQuMiwgaHR0cHM6Ly9tYXRwbG90bGliLm9yZy8rg+JYAAAACXBIWXMAAAsTAAALEwEAmpwYAADRwUlEQVR4nOz9WcxkSZYeiH3H7Lr7v0ZEZuRelbV0dbOXIrtBssUmMeCIGkKAMEOILwIxGmHA0RDoJw1GkACR0pMeJIB6kcQnAQ2NBAoYgDOQBFAPAwkCJQIakiBYTTaL3azurj33WDKWf3e/1+zo4Sx27Lr/EZFLR2Sx0wIe7r/7Xeya2TnnO6sRM+PL9mX7sv2b39KL7sCX7cv2ZXs+7Uti/7J92f6YtC+J/cv2Zftj0r4k9i/bl+2PSfuS2L9sX7Y/Ju1LYv+yfdn+mLTPROxE9N8hoj8goh8Q0d/6vDr1Zfuyfdk+/0af1s9ORBnAHwL4bwN4D8A/A/DfZ+Z//fl178v2ZfuyfV5t+Azn/jkAP2DmHwEAEf09AH8VwLXE/sorr/A3vvGNz3DLz7M9K5OjP9JegFtP6Cm3eqYeB+ZNXd+5v4D9RBSu/KzP+vSe7LrV5zWW1/aWd/2qfz9tcONldAzllD/i+f+c209+8hPcv39/Z6c/C7F/BcC74e/3APzG/CAi+k0AvwkAX/va1/DPvvOdp174j254GQDrvxq+u+7ONPsuaD28u5c0/8yzNTjvETOq/piS3M/WZXcKA5VYnwDhfz0XBAKBSwHXikQJmZKfS1yBWoQZ2A2GDE4J8KsSoOdwuHb/bP19n9ScaOyfD04b11qr998O6IeW/I72deV2jjE0AsC1NmaXEsCMqn+nnPT5dvSP+mcppQJgpJRByfraTmyz8BmiT40H+VPapG+vqw59JwI9gXH9+q//+rW/fRZif6bGzL8F4Le0I1+g2Fxb5LvadYNZsc0AnnIWPelH+TpxJKNw6Lx7tX3JJH2xiWdmMDMokSxSlu9cOBEByaabZv2RZxKmxOGQeafZeyd44Bopisi0GqJgtstX1MogIqSU5BmuY4Y7BiYZQ6pVnpGUUSiBy7HyXeKeNaJKv3uCkbXgjMf69ESx89mX8vPGDJ+F2N8H8Hb4+6v63c9AmwHcnfDvuqlgPf8TQNldl9oFKHZBAEZ/vh7DAEDsT9JJUZLF2ySX9XZO5FBJDzBRpwLsbpHQ27t/8r4qyvCxslux37JJK2r9sq/iT6FL3I72vxmMLaZkhGxMgLkbD+8Lzc+08crzrz5/yrQuukQP38+n4ROoIE9qn4XY/xmAXyCib0KI/N8H8B98Lr36I21zoM0zKfUszSR83yLIvq4xZrAMBCADaJCTKPmijgSTlJDYEW+DsZySrGki6R0RkHpiZBaCTCTEVVkUmqRXcQm7gyfMWwefI8BnuQ6hSXKhufZEROR/d8fYOWh/R6E/ZxrduHP7C/YsYYhtbPpxb28cnsNaVeTQJH085fMgwCfAvXn7HDDxpyZ2Zp6I6H8E4P8FWa3/J2b+vc/epT/K1k+TrBlbrsZSnzaqT/q97mQac0nU68MJZgswXbTJr375GSQXYmrYwtkBddp3g/h6JVaYiiRPW/VlvQAakcV+X9+2Cb47zztDfm0/R78rkxxISfsYiZZm17NfuD1le8YIAcwuEb6j+GG2DtDmJbYa1ITeR/00iP8p2hM1Bv5cbveZdHZm/q8A/FefvRtfpLYLR+1q2/i6B7lPPrc/SqVRMkk9m9m5JGOASV/dFcJ7Jw6b5CYAZo8iZqjZqnttX8SuNYfL4eC4Hl2l0Hdnqrta1UukZpjkds2OAVMkz9gdmo2lYaJtFBdbN4NMbguwllJqNoF/A9ofuYHuZ7P1i2q7zWE4d3/F8+fLa/vKDFMLEkX7sv66Q4/mrdcOPGH0odKPIMwEbLTITtypg8F69+oH9o8aeZET4+5mMBxgMRjuOmiGZjqyYvOaGPOICCEihZ6ot9ETdefPbuEtzYg6qWr0bwitf7GJ/XNQU6658Mzq462X1LubLZwgFxwyBirgQIAzPdgguC1zu6xI3ZlE6gg0dIEwIwz5z+C834vlmt5zhhCYWu5BAE8FtRRMmxGb9RW4qmWaWSze3bNCdWC5JnNgNRSIiggpGaMRnXe1WuHg8ACgJC9wI1yY2yxY8dFYaWcc12d1RkgJptz3bK+57do3gTlzey7q5i5cIXg75u1T8YBrOMcT1/oXwED3s9+eyk2eMsi90hy+bwsq6q9s1l9ymgmnc/jUG5m2uhlONnkorjcgUxL90rrALP51O5oZVCf5fshAIozrK4yXVzh5/Agf37uLWgrGaQJzRZmmjoBcalZGZdFpi9kC1PCW8gAiwmK5RE4ZKSWkRHjl1Vexv/dVUMriBiRCMuRsEt4IN9yxqfqRGahO7QglbRG6XyG43zIZs+VwLvXzFLqys31aKfSCEcJzJ/YvIiLa3afretpIs/86BsPsXg0N4gftnvRqHEg/oE+3tm+pyzO9lhmojHFziTIpMVcAXCWgJurURQk4JzAB6/NzrC8u8ejhx7j/4YcoU8E4jeDKKGUUsjBpqv/XKr5yZkYJUJyIkIYBRAnL5QI5Z+Q8IOeEzBXH+3tIeUAaFgAFI2NV3T0JKuAwDAIUCJRUzVHEMCyXyDn5OeT9NHTTdPvmXm2eAjN8GRrqJspNBfzFXLSfov3xluyfqlF4v57Fz01wjWyTSqF4lUa4bL4ohhvqG3sIxqrKHSQHV3Ct+PjD9/Do/j2gMFAqiBkZsvCTLt7KEklXVTqfnZ7g7OwMd+98hJ/8+McoU8E0imSfyugBO6zQ2aR5UWt1DdZxECEvFqCUsFwuMeSMxXKJxWKBr3z1q7i4ewfDYoG9vT0AhKLPXEqRa6tvfKpyD0oJyBkpZSwWC6SUsFytMCwGvPHWV3B04xg0kLsNBQXY4CGMnCEtexdbAPFcH2oqAysDpSSMpqkNT5z63e0LwDC+JHY8bd52/RoWiFMtdZKIZ6LYAltE/vQQ0xkD+8nyY61gJWpZaLVhTGbRxZXYuYjeff7oAR7duwMeC3gsSFBi12g6YiF2ZkYtBbUyzs5OcX5+hsf37uHs/seiv08TuFZMdVICrw7fAcZkxA7W7wylqGRPCZvlEjkLkQ7DAgfDAvcODrEYFljtrQAQShVpXGoRJCE0i6lUTJWBlEDDgJwzVqsVcs7YOzzAYrnEjaNjLHNGXi6RFm0pszIdGeYWMgwwKGf381N0z0Wd/Bpidqv8J00ea3rIC21fEvtTGgdjUfhW3giuX/ZHEJgkUKbxhP64FjoaTERsl8wAM8aLM9TNGmUcUacRXCbwuAHASFxAAAaqYK64PDvD5uoKP/jt7+BHP/g+xotLrM8vhchrlWsrVK5FJPs0jihTQVHiHscR66sroKq0ZtPLTVdvcL6GuPPuuQBMJAxtyhJbzmqsfPT9H+Cn3/nnCslJiZo75HA1jtiUgs3E2JQKGjLSYoHFcomjGzewXK1w+9VXcHh4iIs/82fwxptvYv/oEHv7+2AiMCVUsDAKImS1DVAWI+FitUIeBhweH+Pg+CjYNFiDkSARiBYYZFF48/biafcTtz+mxE7dW2tP4Ng0O8JVOZHMHI6JIn5uu7MzTGW0b2iLnzDKeo3x8gLT+grTZo06jqgbIeDEBUSMRRKpe/74MdaXlzi59xEe3/kA6/NLXJ2eawJMBdWe2Lkyps1GP5v6IPdtDKlZvBmBO5l1fy4Nge65ahKiKbWicsWGznCeHspvMIleu/DZ880Gm2nCulRsikjitFhgsVrh+NZNrFYrlPUaR8dHuP/mm1gQ4fD4GHsHjdgLM8Yq7sw8LJodISfs7e9jsVphWCywf3ggXa9NQWISFxwpIw8YLDzrzyCl448tsX+Stj2xTYo1t9R2hHbT0CM44FJE364VKEVhcFWdWpYccUWdJnz4oz/Eg3t38ejeXTx+8DE2l+e4OHkE4griCQnAahDFYHN5gTKNOHv4CPniDAel4mAJ1KmiTBuAITo7QyA5MyZ9gsoVdQr+bjWIOXJhoCgTsKgyUM8axR7IZidsXxKUGYrOW+uE6kTOTuymxSQAU86owwKVMioBBSS2h/ML1Ks1Hm1GnC4GnN25i+XeCmlYIA0DplqwKQWlVkEFRALxc8bB0TEWyyVef+st3Lh1C3/yV/8UfuVX/5SEwmaV/knyCvJC1JA8LEA5w+0RP4viPLQvFLF/UptHf247m8L/cMkU2twgM7/xls5GW52L0llSJDlENdq9Zxo6A6iiX3OZUKdJ9fJJ11N1WFnHEScf38X9D97F3fffw/0PP8Dl+SlOH92XFNY6IhGwN0jkWdmswbVilTOWKSEzYZFFJ95wcWK34BYGY1Bin7h6qK4YusiJ3fo+qfSt9uxuq5D/mBnFid2IoxntAKBAmEatDCrKNGppjFCt+QsiYBiAPGBixqbq7G42YCJcbjZgQDwHpaAogtqUCVfTKMQ+FSAlsdgPA45vvYS9/X28/c1v4varr+K1V27j5775DaScxTOQEtKQQSlhgZW4C3NGYvPhxwfevVK3lhHRln9+Ho33iYrHfEZE8YUi9j/SNguFisyhqlx2Qo0K6LXjG5I44Gte7ezBFFc1Aky/Xp88wvrsDHc+/ADvv/MOxs0VLs9PkAnYXy2QEyHXCq4F9+98iPOTx7g8PUEeT7GHNfKe9DQhi86elJksBqBWZAYSMzIDmYFaGXkQO549SsqSITNyRSEgc8UUInyI0HzMDIAYKQGVCLVUl+CiwIgPnUEotaACYnRDMDzaRSGSu+jf7O+sqkRt308TuLAsUO4zyKsew6WgckVR23pmYJEyKiVMadDjCVQZ6WqNWioevvcBrh4+wj+6usKP/uD3MRVhDMNygYMbRzg6Osa3f/VXcfPWLbz59a/j+MZNm+5P2Bqh11qDQXB3M/74R4kd/vgQOxBgpf7p8tmaLM4OkO8geNdL7aUtgdUI7MsSsAAWAOCKzelDXDz4GO/94e/hd377O7g8P8XjB3cwZMLN40MMOSFDLe1lBGpBqmJV30PF/p467yjrfQqIIRKIEzBVcKnIzEhVpGjKiHE+GNRfnUrFpJF0ahOUUYjErr70JAJfPHqF3TWViJGTBLSMbAFBLFCezDAp32YdY0MNFggrIyWoIZnNoBQA1ZmwDzcDk19R7pPBKAAWAJgSOBGqMoCNejTSZgOeCh5v7uAkZ3z0/nvAP8u4vFrj5Pwcq/09vPzaK3jltdewHAZ85atv46VXX1Vij0jlkzQLdlIbx3XRc0Fo/FFS+88ssccwzS4owudjx8QEPN3AfbgGdoy1U3Y7yrzkPklcQVxwfnqCB/fuYH11hdPHD1GmEeXqElwrciIkAqazU5TLCzy68yGWWIPyBNoX6XiQC1KqSMwgYhCJFT2nAUMSw9GQCEQs8WLMqGUEuIKKKstTBUoVoh8rCjFK8KuDgVqqPGcpIK7IqMIMdLWJtVyenRMAJrHKg2F2CimMIX5qUvdf4orK0jcKw8YMMDFYmQGp2zDpq+rfma1+EPl4JxJCBrfwYjLGoDNZoEnCLOzBVIpkiIEA0pgDs5GgJnApoGnCwAyaJlydneNx/hj/+l99Fx++/x7e+/ADHN28iRu3XsLB0RHe/MpbePvr35jl4xiHjFWMehQZpfp1xH+d0O+Ojdz4U7SfXWJHjI1uxHpdM59qnyJhhB6XF/VMnAEuelzi3VCrFqCMePzRh/jeP/8OHj38GD/94fexvrrA1elj1DJhb5GwSIT91QLLxYCBGHsE7C1GHB0NIGLkNEpf9LmEQRCWywGLxYBhyFgtFiLRWaLYxs0VaqngUfR/mhgojOlqg6luQMSYuMgxUxGwYTEARZkJSYppn4qKJpmZUSrADs9NcweIC0ijcRMrQZl05iC1mQA2Y1xjDKRqh5wXNH2LiEMLj7GZi4W0BNtIj6o8uiAOLfaVQBLzUCYwi2egUBJ4kAipFCyZwZsNLh4/wvr8DP/04gLDYgEMAyhnfP3nfwFvfOWr+At/8S/iq1/7mrjmfHG0NShfBQ7X+fPDcplVxHkS7Uad/rNm3/3MEntsc6ksC213amKr6ALEnOemFSaJqjKzcuTedsi4AU8THn58H+dnZ0DZgKcN7nzwHh69/y7OT09QTh6CN2sM4xWAghUGDJSwTIRVFgm9HAhcSHy5ABJp4IsWr0jqG86LjLTISDmDFqGuXK1IvABSEaNYIQ2e0QIRbt13e7gwKw+fVennsH0el45OjakkhJeV48l6ps5+VYmQSXV60gvYby7RjSCtbEeT2tXnqEKT3J3ot7mwzrs9M6QMVTU1CErsEPckVdJnYFTrfxV0wUTCLEvBeHkpbkmN3nt4/z4oZ/zw+3+Il195BTknpJRwcHCAr33961itVkGas3Gr0NdgK5qtyxkI2GpPUyk/SfuZJ/Yolb2ZBd4J2xanQjiS2meAlZtg9zMnYuHcVeEwwoAzibvs8WNMFxf4/f/6/4ef/OD7qJs16rjG5dljnDy4gzJtUDdnGIhxfDAgDwkHK8KwBPb2GItlxWKRsVwk1Clh2mQxTunayMOgevQgEWSZxFqcM3gYpD+s7qghIZWCEQSeCogqUmKkrBpyIOpE8rQWQeepIxY4Qk03ZU6QHG+R7kbQlBKy88Cw+kghNIDRjG4+R+biY0wqwZ0m9BgZacbEjeC9KGiEGmgnu1BVxiHPqnXnWPzsxXpQWPP/KxpmqIKcyNyCCcwTrk5OxNBIwog3mw0+/OgDvP/ee/jOP/sOhmHAarnE17/5Tfz1v/EfY/Xqq36/pvLxVn/NJWlrz4pwGNPcub4/R5/+zzyx+3KZqehbRQc4HKtfdF6POEdg1GlCWYsFdxo3AmFLBU8TyoMHGC/OcXL3Dk7u3QGPG9RxjfHqHOXyHOCCBQpyIuwNCYtlwv4yY1hmLBeEQRAihqyLvAjUZA3hyoMmfWTx/SIlQKUJZTVZWUZoIoDlt5rYIb4xNrZ01jBAPgpE6jak9iIArA5DVY+IhVAqCfF72q0NPfeCzRjEbEglYIUbQALgDMeguakxblCcuQCBgFhgBNQKh5iRS+A7XE+HHyGXTGh6v6grTTXkRpVAIpn/S8Lp40cASEKAlxLy++EHH2DcbDBo3P7BwQEWi6W48XKXOPuJmthErrEjfcr2M0vsVpQhtphjff05AhxbWiar0c2WiqzG9ekJzu7exfnJKe5/+CGm9Rrj6SnKZoOLB/exubjAez/6AR7evQOuG3BZY0jAcgEsFgkHhwsslwNu3N7HYrnA3tECeZGBrJA5AZQquAADCMxJrNwAhlUGpQxSvy9y1oWXkFKGVIWuQBWXGINAi0FCRTcFdRIffpkmCeLRKDooekhKrFaVlcgqvGbBAEF78co5VJEqI1ESQ5+2WiumIjLdwmfzjP8SESoDqTYIbbRclQnYPZlbsYoCYS6krj1jIBo2gNpXBEAicjdghrgdeZq6OhwpDxIhp/+YxGpfANQqIcipVlQQFjruZbPBZpywubzCw48/lucG4/7dj3B8cIBbt27h1su3sX9wgD/5q7+Kt956C3v7+1ju78lkayThvDjG06Q2Y0cxzc/QfqaI/VkKCDwtSEEWWZATM/HDRbLHNhcXuHz8GOePHuHk7h2MV2uMjx+hbDY4e3gf4+UlLh8/xHh5BuIR4BFYiPQeEmG1TFiuMlbLAYtlxmKRkRcJnBhsQfBJsF3KhFohlm3IIkhJI7oSSc24LAUfSN1cXODwm4jBlADipvPaCp+NRy/Vyd89HpyloKW5zkztJhWBxPM9wwhU4JKYiJs2oIwi6d9M7NoC+fGA+dHbFeUE08Pnc2xKghTm6BeBERCFye2Dlg0VePIwGlrQv+05tFdcJbagliLBRZC03tPlEh+8+y7OHp/g8vIKh0dH+MpXvoLjoyMwGGnIwlxS+tQSvj/HxuXTtZ8pYrcWOR4DrZAi4mRrUIM7MP1kgXlqBINakFEKUCsu7t7D5cOHuPfOu/jg+3+Ii8ePcf/dd1A2a5TzU9RpxHhxijJtUK7OsJzW2NtbYLW/wGKVsXe4wHJ/iZu3byAvMob9QQxtK4CzbvRAZieASPicgARkM9QlycxKJPA85yxpoyTIpJaKyTLisuTA8lABThJkMol/PgMAJQwpozL5ZhStGXy3DRSSlbAV6G9DZ0Y1Un0zXKYU0cgrA1RNNeLtZRnhOzOq+urtHmyEqcwiJqga2Yvk75SOjohMUAqhiyqUc4YV9mBAbAa1Ngs+CYKoqp4QoOgAmMqEWiZUhWLCRCVAZkiEq8cn+Jff+Q4WqxVeff11HB4e4dHDh3j9jTfw83/iT+Cb3/o5HN28iduvvYbomqsWaOUJNy2WwJizS/06m7PPIOh/5ojdjWl0PY+bf+/6+y5LfFWjXSlAKdicneHiwQOc3buLRx9+hMvHj3B65w7quEa9PAOmCdPmXEJcMSKjYJEz9pZJiH1/wHJ/gb2DFdKQQAsSk3O