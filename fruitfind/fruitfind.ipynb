{
 "cells": [
  {
   "cell_type": "markdown",
   "id": "5b12dd3d",
   "metadata": {},
   "source": [
    "# Machine Learning exercise 2: Fruit 360 classification\n",
    "2021 06 21 Maarten Pennings Created\n",
    "\n",
    "I followed \"Using Python to Implement a Complete Machine Learning Flow\", a Doulos Webinar by John Aynsley.\n",
    "\n",
    "With this notebook, I try to replicate John's second example."
   ]
  },
  {
   "cell_type": "markdown",
   "id": "99533f12",
   "metadata": {},
   "source": [
    "## The project directory\n",
    "\n",
    "Check my first exercise for details. Basically you need\n",
    "\n",
    "- Python on your system\n",
    "- Start with an empty _project_ directory; then copy `requirements.txt`, `setup.bat`, `run.bat`, and `fruitfind.ipynb` into it.\n",
    "- Run `setup.bat` to create a virtual Python environment (in subdirectory `env` in the project dictctory).\n",
    "- Note that several packages will be installed (including Jupyter), as listed in `requirements.txt`.\n",
    "- Run `run.bat` to run the Jupyter server and client (web page in you browser).\n",
    "- Open this file (`fruitfind.ipynb`)."
   ]
  },
  {
   "cell_type": "markdown",
   "id": "7bd6cdd6",
   "metadata": {},
   "source": [
    "## Getting the data\n",
    "\n",
    "Download [A dataset with 90380 images of 131 fruits and vegetables](https://www.kaggle.com/moltean/fruits) from Kaggle. \n",
    "You get a zip file of 760 MB. Unzip it in the project directory, so that it looks as follows\n",
    "\n",
    "```text\n",
    "+---env                    # The virtual Python environment created by setup.bat\n",
    "|   +---Lib\n",
    "|   +---Scripts\n",
    "|   :\n",
    "+---fruits-360             # Image set downloading from kaggle\n",
    "|   +---readme.md\n",
    "|   +---papers\n",
    "|   +---Training\n",
    "|   |   +---Apple Braeburn\n",
    "|   |   |   +--- 0_100.jpg\n",
    "|   |   |   +--- 1_100.jpg\n",
    "|   |   :   :\n",
    "|   |   +---Watermelon\n",
    "|   +---Test\n",
    "|       +---Apple Braeburn\n",
    "|       |   +--- 3_100.jpg\n",
    "|       |   +--- 4_100.jpg\n",
    "|       :   :\n",
    "|       +---Watermelon\n",
    "+---fruitfind.ipynb        # Files from this repo\n",
    "+---requirements.txt\n",
    "+---run.bat\n",
    "+---setup.bat\n",
    "```\n",
    "\n",
    "As the `readme.md` in `fruits-360` explains\n",
    "\n",
    " - There are 90483 images in total.\n",
    " - The `Training` directory has 67692 images.\n",
    " - The `Test` directory has 22688 images.\n",
    " - There are 131 classes (of fruits, vegetables and nuts).\n",
    " - Both `Training` and `Test` contain 131 directories, one for each class, with several jpg's inside.\n",
    " - The images are 100×100 pixels in color.\n",
    "\n"
   ]
  },
  {
   "cell_type": "markdown",
   "id": "4c917243",
   "metadata": {},
   "source": [
    "Let's first try to see i