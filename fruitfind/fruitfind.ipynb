{
 "cells": [
  {
   "cell_type": "markdown",
   "id": "5b12dd3d",
   "metadata": {},
   "source": [
    "# Machine Learning exercise 2: Fruit 360 classification\n",
    "2021 06 21 Maarten Pennings Created\n",
    "\n",
    "I followed \"Using Python to Implement a Complete Machine Learning Flow\", a Doulos Webinar by John Aynsley.\n",
    "\n",
    "With this notebook, I try to replicate John's second example."
   ]
  },
  {
   "cell_type": "markdown",
   "id": "99533f12",
   "metadata": {},
   "source": [
    "## The project directory\n",
    "\n",
    "Check my first exercise for details. Basically you need\n",
    "\n",
    "- Python on your system\n",
    "- Start with an empty _project_ directory; then copy `requirements.txt`, `setup.bat`, `run.bat`, and `fruitfind.ipynb` into it.\n",
    "- Run `setup.bat` to create a virtual Python environment (in subdirectory `env` in the project dictctory).\n",
    "- Note that several packages will be installed (including Jupyter), as listed in `requirements.txt`.\n",
    "- Run `run.bat` to run the Jupyter server and client (web page in you browser).\n",
    "- Open this file (`fruitfind.ipynb`)."
   ]
  },
  {
   "cell_type": "markdown",
   "id": "7bd6cdd6",
   "metadata": {},
   "source": [
    "## Getting the data\n",
    "\n",
    "Download [A dataset with 90380 images of 131 fruits and vegetables](https://www.kaggle.com/moltean/fruits) from Kaggle. \n",
    "You get a zip file of 760 MB. Unzip it in the project directory, so that it looks as follows\n",
    "\n",
    "```text\n",
    "+---env                    # The virtual Python environment created by setup.bat\n",
    "|   +---Lib\n",
    "|   +---Scripts\n",
    "|   :\n",
    "+---fruits-360             # Image set downloading from kaggle\n",
    "|   +---readme.md\n",
    "|   +---papers\n",
    "|   +---Training\n",
    "|   |   +---Apple Braeburn\n",
    "|   |   |   +--- 0_100.jpg\n",
    "|   |   |   +--- 1_100.jpg\n",
    "|   |   :   :\n",
    "|   |   +---Watermelon\n",
    "|   +---Test\n",
    "|       +---Apple Braeburn\n",
    "|       |   +--- 3_100.jpg\n",
    "|       |   +--- 4_100.jpg\n",
    "|       :   :\n",
    "|       +---Watermelon\n",
    "+---fruitfind.ipynb        # Files from this repo\n",
    "+---requirements.txt\n",
    "+---run.bat\n",
    "+---setup.bat\n",
    "```\n",
    "\n",
    "As the `readme.md` in `fruits-360` explains\n",
    "\n",
    " - There are 90483 images in total.\n",
    " - The `Training` directory has 67692 images.\n",
    " - The `Test` directory has 22688 images.\n",
    " - There are 131 classes (of fruits, vegetables and nuts).\n",
    " - Both `Training` and `Test` contain 131 directories, one for each class, with several jpg's inside.\n",
    " - The images are 100×100 pixels in color.\n",
    "\n"
   ]
  },
  {
   "cell_type": "markdown",
   "id": "4c917243",
   "metadata": {},
   "source": [
    "Let's first try to see if we can plot an image: `fruits-360\\Training\\Apple Braeburn\\0_100.jpg`. \n",
    "\n",
    "Note that we use a _raw_ python string for the file path so that we do not have to escape the back-slashes. We convert the image to a numpy array, since matplotlib likes that as input."
   ]
  },
  {
   "cell_type": "code",
   "execution_count": 1,
   "id": "8c97782f",
   "metadata": {},
   "outputs": [
    {
     "name": "stdout",
     "output_type": "stream",
     "text": [
      "Wall time: 325 ms\n"
     ]
    },
    {
     "data": {
      "text/plain": [
       "<matplotlib.image.AxesImage at 0x17d0ba40730>"
      ]
     },
     "execution_count": 1,
     "metadata": {},
     "output_type": "execute_result"
    },
    {
     "data": {
      "image/png": "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